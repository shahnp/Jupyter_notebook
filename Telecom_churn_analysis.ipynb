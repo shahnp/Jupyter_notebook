{
 "cells": [
  {
   "cell_type": "markdown",
   "metadata": {},
   "source": [
    "# $\\color{green}{\\text{Name: Pankaj Shah }}$ \n",
    "# $\\color{green}{\\text{ALY-6020: Predictive Analytics}}$ \n",
    "# $\\color{green}{\\text{Final Capstone Project}}$ \n",
    "# $\\color{green}{\\text{Instructor Andrew Long }}$"
   ]
  },
  {
   "cell_type": "markdown",
   "metadata": {},
   "source": [
    " # $\\color{red}{\\text{CAPSTONE PROJECT : TELECOM CHURN ANALYTICS }}$"
   ]
  },
  {
   "cell_type": "markdown",
   "metadata": {},
   "source": [
    "## Introduction"
   ]
  },
  {
   "cell_type": "markdown",
   "metadata": {},
   "source": [
    "<div style=\"text-align: justify\">\n",
    "\n",
    "We all known being in Data Analyst field how much Customer loyalty and retention matters to each industry.Customer churn in telecom industry has been defined as customer friction (Modisette,1999). In simple term to define what Customer churn would be to primarily attribute dissatisfied customers because of service they provide or could be competitors business plan.It is very crucial for any company to have more customers to float in a business. To make profit as well as for growth of any company knowing your consumers is very valueable. There are many attributes that are key to keeping customers with them. Some of them are engagement level, prodcut satisfaction etc. Many companies tries to focus on the factor that increases risk of leaving customer than keeping them engaged. We all know in modern era most of the Telecom Company like Verizon, AT&T, T-mobile, Sprint use Machine learning techniques and statistical anlaysis to predict our decision to stay or leave even before we cancel the service. Churning has huge impact on revenue of any company and especially in Telecom Business where churn rate experience 20-40%(Yung-Seop Leeb, 2006).To find out what factors increase churn risk is very crucial in Telecom Industry. My goal of choosing these datasets is to find out the possible risk factors association and to know Churn even before it happens.\n",
    "</div>"
   ]
  },
  {
   "cell_type": "markdown",
   "metadata": {},
   "source": [
    "### Dataset"
   ]
  },
  {
   "cell_type": "markdown",
   "metadata": {},
   "source": [
    "The dataset is provided by Kaggle. It was hosted as part of competition 5 months ago. In the datasets they have splitted data into train set, test set and sample submission set. The link for the datasets can be found here. https://www.kaggle.com/c/churn-analytics-bda/data. Training set has 3333 entries and 21 variables.\n"
   ]
  },
  {
   "cell_type": "markdown",
   "metadata": {},
   "source": [
    "## Project Definition"
   ]
  },
  {
   "cell_type": "markdown",
   "metadata": {},
   "source": [
    "* Predict if the customer will Churn or Not looking at past historical data.\n",
    "* Trying to find the associated probabilities? \n",
    "* We are trying to see how many Customers have Churned out."
   ]
  },
  {
   "cell_type": "markdown",
   "metadata": {},
   "source": [
    "## Import Libraries"
   ]
  },
  {
   "cell_type": "code",
   "execution_count": 1,
   "metadata": {},
   "outputs": [],
   "source": [
    "import pandas as pd\n",
    "import numpy as np\n",
    "import seaborn as sns\n",
    "%matplotlib inline \n",
    "import matplotlib as plt\n",
    "import matplotlib.pyplot as plt\n",
    "import os\n",
    "import warnings\n",
    "from dfply import *\n",
    "from IPython.display import Markdown\n",
    "warnings.filterwarnings('ignore')\n",
    "pd.set_option('display.max_columns', None)"
   ]
  },
  {
   "cell_type": "markdown",
   "metadata": {},
   "source": [
    "# Data Exploration"
   ]
  },
  {
   "cell_type": "code",
   "execution_count": 2,
   "metadata": {},
   "outputs": [],
   "source": [
    "# load the csv into a dataframe\n",
    "df = pd.read_csv('/Users/pankajshah/Desktop/churnTrain.csv')"
   ]
  },
  {
   "cell_type": "code",
   "execution_count": 3,
   "metadata": {},
   "outputs": [
    {
     "name": "stdout",
     "output_type": "stream",
     "text": [
      "Number of samples: 3333\n"
     ]
    }
   ],
   "source": [
    "# Length of the dataframe\n",
    "print('Number of samples:',len(df))"
   ]
  },
  {
   "cell_type": "code",
   "execution_count": 4,
   "metadata": {},
   "outputs": [
    {
     "data": {
      "text/html": [
       "<div>\n",
       "<style scoped>\n",
       "    .dataframe tbody tr th:only-of-type {\n",
       "        vertical-align: middle;\n",
       "    }\n",
       "\n",
       "    .dataframe tbody tr th {\n",
       "        vertical-align: top;\n",
       "    }\n",
       "\n",
       "    .dataframe thead th {\n",
       "        text-align: right;\n",
       "    }\n",
       "</style>\n",
       "<table border=\"1\" class=\"dataframe\">\n",
       "  <thead>\n",
       "    <tr style=\"text-align: right;\">\n",
       "      <th></th>\n",
       "      <th>State</th>\n",
       "      <th>Account_Length</th>\n",
       "      <th>Area_Code</th>\n",
       "      <th>Phone_No</th>\n",
       "      <th>International_Plan</th>\n",
       "      <th>Voice_Mail_Plan</th>\n",
       "      <th>No_Vmail_Messages</th>\n",
       "      <th>Total_Day_minutes</th>\n",
       "      <th>Total_Day_Calls</th>\n",
       "      <th>Total_Day_charge</th>\n",
       "      <th>Total_Eve_Minutes</th>\n",
       "      <th>Total_Eve_Calls</th>\n",
       "      <th>Total_Eve_Charge</th>\n",
       "      <th>Total_Night_Minutes</th>\n",
       "      <th>Total_Night_Calls</th>\n",
       "      <th>Total_Night_Charge</th>\n",
       "      <th>Total_Intl_Minutes</th>\n",
       "      <th>Total_Intl_Calls</th>\n",
       "      <th>Total_Intl_Charge</th>\n",
       "      <th>No_CS_Calls</th>\n",
       "      <th>Churn</th>\n",
       "    </tr>\n",
       "  </thead>\n",
       "  <tbody>\n",
       "    <tr>\n",
       "      <th>0</th>\n",
       "      <td>KS</td>\n",
       "      <td>128</td>\n",
       "      <td>415</td>\n",
       "      <td>3824657</td>\n",
       "      <td>no</td>\n",
       "      <td>yes</td>\n",
       "      <td>25</td>\n",
       "      <td>265.1</td>\n",
       "      <td>110</td>\n",
       "      <td>45.07</td>\n",
       "      <td>197.4</td>\n",
       "      <td>99</td>\n",
       "      <td>16.78</td>\n",
       "      <td>244.7</td>\n",
       "      <td>91</td>\n",
       "      <td>11.01</td>\n",
       "      <td>10.0</td>\n",
       "      <td>3</td>\n",
       "      <td>2.70</td>\n",
       "      <td>1</td>\n",
       "      <td>False</td>\n",
       "    </tr>\n",
       "    <tr>\n",
       "      <th>1</th>\n",
       "      <td>OH</td>\n",
       "      <td>107</td>\n",
       "      <td>415</td>\n",
       "      <td>3717191</td>\n",
       "      <td>no</td>\n",
       "      <td>yes</td>\n",
       "      <td>26</td>\n",
       "      <td>161.6</td>\n",
       "      <td>123</td>\n",
       "      <td>27.47</td>\n",
       "      <td>195.5</td>\n",
       "      <td>103</td>\n",
       "      <td>16.62</td>\n",
       "      <td>254.4</td>\n",
       "      <td>103</td>\n",
       "      <td>11.45</td>\n",
       "      <td>13.7</td>\n",
       "      <td>3</td>\n",
       "      <td>3.70</td>\n",
       "      <td>1</td>\n",
       "      <td>False</td>\n",
       "    </tr>\n",
       "    <tr>\n",
       "      <th>2</th>\n",
       "      <td>NJ</td>\n",
       "      <td>137</td>\n",
       "      <td>415</td>\n",
       "      <td>3581921</td>\n",
       "      <td>no</td>\n",
       "      <td>no</td>\n",
       "      <td>0</td>\n",
       "      <td>243.4</td>\n",
       "      <td>114</td>\n",
       "      <td>41.38</td>\n",
       "      <td>121.2</td>\n",
       "      <td>110</td>\n",
       "      <td>10.30</td>\n",
       "      <td>162.6</td>\n",
       "      <td>104</td>\n",
       "      <td>7.32</td>\n",
       "      <td>12.2</td>\n",
       "      <td>5</td>\n",
       "      <td>3.29</td>\n",
       "      <td>0</td>\n",
       "      <td>False</td>\n",
       "    </tr>\n",
       "    <tr>\n",
       "      <th>3</th>\n",
       "      <td>OH</td>\n",
       "      <td>84</td>\n",
       "      <td>408</td>\n",
       "      <td>3759999</td>\n",
       "      <td>yes</td>\n",
       "      <td>no</td>\n",
       "      <td>0</td>\n",
       "      <td>299.4</td>\n",
       "      <td>71</td>\n",
       "      <td>50.90</td>\n",
       "      <td>61.9</td>\n",
       "      <td>88</td>\n",
       "      <td>5.26</td>\n",
       "      <td>196.9</td>\n",
       "      <td>89</td>\n",
       "      <td>8.86</td>\n",
       "      <td>6.6</td>\n",
       "      <td>7</td>\n",
       "      <td>1.78</td>\n",
       "      <td>2</td>\n",
       "      <td>False</td>\n",
       "    </tr>\n",
       "    <tr>\n",
       "      <th>4</th>\n",
       "      <td>OK</td>\n",
       "      <td>75</td>\n",
       "      <td>415</td>\n",
       "      <td>3306626</td>\n",
       "      <td>yes</td>\n",
       "      <td>no</td>\n",
       "      <td>0</td>\n",
       "      <td>166.7</td>\n",
       "      <td>113</td>\n",
       "      <td>28.34</td>\n",
       "      <td>148.3</td>\n",
       "      <td>122</td>\n",
       "      <td>12.61</td>\n",
       "      <td>186.9</td>\n",
       "      <td>121</td>\n",
       "      <td>8.41</td>\n",
       "      <td>10.1</td>\n",
       "      <td>3</td>\n",
       "      <td>2.73</td>\n",
       "      <td>3</td>\n",
       "      <td>False</td>\n",
       "    </tr>\n",
       "  </tbody>\n",
       "</table>\n",
       "</div>"
      ],
      "text/plain": [
       "  State  Account_Length  Area_Code  Phone_No International_Plan  \\\n",
       "0    KS             128        415   3824657                 no   \n",
       "1    OH             107        415   3717191                 no   \n",
       "2    NJ             137        415   3581921                 no   \n",
       "3    OH              84        408   3759999                yes   \n",
       "4    OK              75        415   3306626                yes   \n",
       "\n",
       "  Voice_Mail_Plan  No_Vmail_Messages  Total_Day_minutes  Total_Day_Calls  \\\n",
       "0             yes                 25              265.1              110   \n",
       "1             yes                 26              161.6              123   \n",
       "2              no                  0              243.4              114   \n",
       "3              no                  0              299.4               71   \n",
       "4              no                  0              166.7              113   \n",
       "\n",
       "   Total_Day_charge  Total_Eve_Minutes  Total_Eve_Calls  Total_Eve_Charge  \\\n",
       "0             45.07              197.4               99             16.78   \n",
       "1             27.47              195.5              103             16.62   \n",
       "2             41.38              121.2              110             10.30   \n",
       "3             50.90               61.9               88              5.26   \n",
       "4             28.34              148.3              122             12.61   \n",
       "\n",
       "   Total_Night_Minutes  Total_Night_Calls  Total_Night_Charge  \\\n",
       "0                244.7                 91               11.01   \n",
       "1                254.4                103               11.45   \n",
       "2                162.6                104                7.32   \n",
       "3                196.9                 89                8.86   \n",
       "4                186.9                121                8.41   \n",
       "\n",
       "   Total_Intl_Minutes  Total_Intl_Calls  Total_Intl_Charge  No_CS_Calls  Churn  \n",
       "0                10.0                 3               2.70            1  False  \n",
       "1                13.7                 3               3.70            1  False  \n",
       "2                12.2                 5               3.29            0  False  \n",
       "3                 6.6                 7               1.78            2  False  \n",
       "4                10.1                 3               2.73            3  False  "
      ]
     },
     "execution_count": 4,
     "metadata": {},
     "output_type": "execute_result"
    }
   ],
   "source": [
    "# Lets look at the first 5 Rows of our datasets\n",
    "df.head()"
   ]
  },
  {
   "cell_type": "code",
   "execution_count": 5,
   "metadata": {},
   "outputs": [
    {
     "data": {
      "text/plain": [
       "Churn\n",
       "False    2850\n",
       "True      483\n",
       "dtype: int64"
      ]
     },
     "execution_count": 5,
     "metadata": {},
     "output_type": "execute_result"
    }
   ],
   "source": [
    "# count the number of rows for each type\n",
    "# Lets groupby by our Output variables Churn and then see how many people do Churn at our current datasets.\n",
    "df.groupby('Churn').size()"
   ]
  },
  {
   "cell_type": "code",
   "execution_count": 6,
   "metadata": {},
   "outputs": [
    {
     "data": {
      "text/plain": [
       "False    0.855086\n",
       "True     0.144914\n",
       "Name: Churn, dtype: float64"
      ]
     },
     "execution_count": 6,
     "metadata": {},
     "output_type": "execute_result"
    }
   ],
   "source": [
    "df.Churn.value_counts(normalize=True)"
   ]
  },
  {
   "cell_type": "markdown",
   "metadata": {},
   "source": [
    "<font size=\"5\">\n",
    "     \n",
    "<div class=\"alert alert-block alert-success\">\n",
    " __Analysis__\n",
    "    </div>\n",
    "        </font>"
   ]
  },
  {
   "cell_type": "markdown",
   "metadata": {},
   "source": [
    "Even before we start building any Feature Engineering or making some relationship between varaibles we can see that 86% of consumers do stay with their current provider so we can say large majority of Consumers are happy with the providers service but there are still 14 % of Consumers who are unhappy with the providers and they decided to leave the provider because of disliked service or because of intense competittion in certain markets. Also one thing to note is that we have classic unbalanced datasets if we start tarining our model based on these features. As our model will be 86 % right of predicting the consumer will not Churn based on high ratio of Consumers staying throuhput. So we beside chooosing Right Model to predict we also need to decide and choose our metrics correctly."
   ]
  },
  {
   "cell_type": "code",
   "execution_count": 7,
   "metadata": {},
   "outputs": [],
   "source": [
    "# Let's Convert Our boolean Churn datatypes to integer\n",
    "df.Churn = df.Churn.astype(int) "
   ]
  },
  {
   "cell_type": "markdown",
   "metadata": {},
   "source": [
    "### OUTPUT LABEL"
   ]
  },
  {
   "cell_type": "code",
   "execution_count": 8,
   "metadata": {},
   "outputs": [],
   "source": [
    "# create an output label to calculate Prevelance \n",
    "df['OUTPUT_LABEL'] = (df.Churn == 1).astype('int')"
   ]
  },
  {
   "cell_type": "code",
   "execution_count": 9,
   "metadata": {},
   "outputs": [],
   "source": [
    "def calc_prevalence(y_actual):\n",
    "    # this function calculates the prevalence of the positive class (label = 1)\n",
    "    return (sum(y_actual)/len(y_actual))"
   ]
  },
  {
   "cell_type": "markdown",
   "metadata": {},
   "source": [
    "### Calculate Prevalance of Positive Class"
   ]
  },
  {
   "cell_type": "code",
   "execution_count": 10,
   "metadata": {},
   "outputs": [
    {
     "name": "stdout",
     "output_type": "stream",
     "text": [
      "prevalence of the positive class: 0.145\n"
     ]
    }
   ],
   "source": [
    "print('prevalence of the positive class: %.3f'%calc_prevalence(df['OUTPUT_LABEL'].values))"
   ]
  },
  {
   "cell_type": "markdown",
   "metadata": {},
   "source": [
    "**Q1. In relation to your project, describe what the prevalence is ?** <br>\n",
    "Looking at the Prevelance Score we can see that around 14% of the Customers are Churned. \n"
   ]
  },
  {
   "cell_type": "code",
   "execution_count": 11,
   "metadata": {},
   "outputs": [
    {
     "data": {
      "text/plain": [
       "(3333, 22)"
      ]
     },
     "execution_count": 11,
     "metadata": {},
     "output_type": "execute_result"
    }
   ],
   "source": [
    "# Dimension of our datasets\n",
    "df.shape"
   ]
  },
  {
   "cell_type": "markdown",
   "metadata": {},
   "source": [
    "<font size=\"4\"> \n",
    "<div class=\"alert alert-block alert-success\">\n",
    "\n",
    "Next Step moving in Week 2: <br>\n",
    "    <br>\n",
    "\n",
    "1.Create Feature Engineering <br><br>\n",
    "2.We need to know our data variables so that we can be wise in chooing best variables. <br><br>\n",
    "3.Dimension of our datasets in not large. We have 3333 Rows and 22 columns.<br><br>\n",
    "4.Good Thing : We don't need huge Computing power and Many Hours to build the model.<br><br>\n",
    "5.Bad things: It will be hard to find the dependent relationship between the variables. <br><br>\n",
    "6. Bigger the volume of data, its better to build more accurate Model.<br><br>\n",
    "</div>\n",
    "     </font>\n"
   ]
  },
  {
   "cell_type": "code",
   "execution_count": 12,
   "metadata": {},
   "outputs": [
    {
     "name": "stdout",
     "output_type": "stream",
     "text": [
      "Number of columns: 22\n"
     ]
    }
   ],
   "source": [
    "# Lets print our Number of Column variables\n",
    "print('Number of columns:',len(df.columns))"
   ]
  },
  {
   "cell_type": "markdown",
   "metadata": {},
   "source": [
    "**Q2. Briefly explore the columns and unique values of your dataset.**"
   ]
  },
  {
   "cell_type": "code",
   "execution_count": 13,
   "metadata": {},
   "outputs": [
    {
     "data": {
      "text/plain": [
       "['State',\n",
       " 'Account_Length',\n",
       " 'Area_Code',\n",
       " 'Phone_No',\n",
       " 'International_Plan',\n",
       " 'Voice_Mail_Plan',\n",
       " 'No_Vmail_Messages',\n",
       " 'Total_Day_minutes',\n",
       " 'Total_Day_Calls',\n",
       " 'Total_Day_charge',\n",
       " 'Total_Eve_Minutes',\n",
       " 'Total_Eve_Calls',\n",
       " 'Total_Eve_Charge',\n",
       " 'Total_Night_Minutes',\n",
       " 'Total_Night_Calls',\n",
       " 'Total_Night_Charge',\n",
       " 'Total_Intl_Minutes',\n",
       " 'Total_Intl_Calls',\n",
       " 'Total_Intl_Charge',\n",
       " 'No_CS_Calls',\n",
       " 'Churn',\n",
       " 'OUTPUT_LABEL']"
      ]
     },
     "execution_count": 13,
     "metadata": {},
     "output_type": "execute_result"
    }
   ],
   "source": [
    "# Lets look at all the name of column so that we could decide which column should we keep\n",
    "# and which we should discard.\n",
    "df.columns.values.tolist()"
   ]
  },
  {
   "cell_type": "code",
   "execution_count": 14,
   "metadata": {},
   "outputs": [
    {
     "data": {
      "text/html": [
       "<div>\n",
       "<style scoped>\n",
       "    .dataframe tbody tr th:only-of-type {\n",
       "        vertical-align: middle;\n",
       "    }\n",
       "\n",
       "    .dataframe tbody tr th {\n",
       "        vertical-align: top;\n",
       "    }\n",
       "\n",
       "    .dataframe thead th {\n",
       "        text-align: right;\n",
       "    }\n",
       "</style>\n",
       "<table border=\"1\" class=\"dataframe\">\n",
       "  <thead>\n",
       "    <tr style=\"text-align: right;\">\n",
       "      <th></th>\n",
       "      <th>State</th>\n",
       "      <th>Account_Length</th>\n",
       "      <th>Area_Code</th>\n",
       "      <th>Phone_No</th>\n",
       "      <th>International_Plan</th>\n",
       "      <th>Voice_Mail_Plan</th>\n",
       "      <th>No_Vmail_Messages</th>\n",
       "      <th>Total_Day_minutes</th>\n",
       "      <th>Total_Day_Calls</th>\n",
       "    </tr>\n",
       "  </thead>\n",
       "  <tbody>\n",
       "    <tr>\n",
       "      <th>0</th>\n",
       "      <td>KS</td>\n",
       "      <td>128</td>\n",
       "      <td>415</td>\n",
       "      <td>3824657</td>\n",
       "      <td>no</td>\n",
       "      <td>yes</td>\n",
       "      <td>25</td>\n",
       "      <td>265.1</td>\n",
       "      <td>110</td>\n",
       "    </tr>\n",
       "    <tr>\n",
       "      <th>1</th>\n",
       "      <td>OH</td>\n",
       "      <td>107</td>\n",
       "      <td>415</td>\n",
       "      <td>3717191</td>\n",
       "      <td>no</td>\n",
       "      <td>yes</td>\n",
       "      <td>26</td>\n",
       "      <td>161.6</td>\n",
       "      <td>123</td>\n",
       "    </tr>\n",
       "    <tr>\n",
       "      <th>2</th>\n",
       "      <td>NJ</td>\n",
       "      <td>137</td>\n",
       "      <td>415</td>\n",
       "      <td>3581921</td>\n",
       "      <td>no</td>\n",
       "      <td>no</td>\n",
       "      <td>0</td>\n",
       "      <td>243.4</td>\n",
       "      <td>114</td>\n",
       "    </tr>\n",
       "    <tr>\n",
       "      <th>3</th>\n",
       "      <td>OH</td>\n",
       "      <td>84</td>\n",
       "      <td>408</td>\n",
       "      <td>3759999</td>\n",
       "      <td>yes</td>\n",
       "      <td>no</td>\n",
       "      <td>0</td>\n",
       "      <td>299.4</td>\n",
       "      <td>71</td>\n",
       "    </tr>\n",
       "    <tr>\n",
       "      <th>4</th>\n",
       "      <td>OK</td>\n",
       "      <td>75</td>\n",
       "      <td>415</td>\n",
       "      <td>3306626</td>\n",
       "      <td>yes</td>\n",
       "      <td>no</td>\n",
       "      <td>0</td>\n",
       "      <td>166.7</td>\n",
       "      <td>113</td>\n",
       "    </tr>\n",
       "  </tbody>\n",
       "</table>\n",
       "</div>"
      ],
      "text/plain": [
       "  State  Account_Length  Area_Code  Phone_No International_Plan  \\\n",
       "0    KS             128        415   3824657                 no   \n",
       "1    OH             107        415   3717191                 no   \n",
       "2    NJ             137        415   3581921                 no   \n",
       "3    OH              84        408   3759999                yes   \n",
       "4    OK              75        415   3306626                yes   \n",
       "\n",
       "  Voice_Mail_Plan  No_Vmail_Messages  Total_Day_minutes  Total_Day_Calls  \n",
       "0             yes                 25              265.1              110  \n",
       "1             yes                 26              161.6              123  \n",
       "2              no                  0              243.4              114  \n",
       "3              no                  0              299.4               71  \n",
       "4              no                  0              166.7              113  "
      ]
     },
     "execution_count": 14,
     "metadata": {},
     "output_type": "execute_result"
    }
   ],
   "source": [
    "# Lets break down the 22 variables into first 9 columns\n",
    "df[list(df.columns)[:9]].head()"
   ]
  },
  {
   "cell_type": "code",
   "execution_count": 15,
   "metadata": {},
   "outputs": [
    {
     "data": {
      "text/html": [
       "<div>\n",
       "<style scoped>\n",
       "    .dataframe tbody tr th:only-of-type {\n",
       "        vertical-align: middle;\n",
       "    }\n",
       "\n",
       "    .dataframe tbody tr th {\n",
       "        vertical-align: top;\n",
       "    }\n",
       "\n",
       "    .dataframe thead th {\n",
       "        text-align: right;\n",
       "    }\n",
       "</style>\n",
       "<table border=\"1\" class=\"dataframe\">\n",
       "  <thead>\n",
       "    <tr style=\"text-align: right;\">\n",
       "      <th></th>\n",
       "      <th>Total_Day_charge</th>\n",
       "      <th>Total_Eve_Minutes</th>\n",
       "      <th>Total_Eve_Calls</th>\n",
       "      <th>Total_Eve_Charge</th>\n",
       "      <th>Total_Night_Minutes</th>\n",
       "      <th>Total_Night_Calls</th>\n",
       "      <th>Total_Night_Charge</th>\n",
       "      <th>Total_Intl_Minutes</th>\n",
       "    </tr>\n",
       "  </thead>\n",
       "  <tbody>\n",
       "    <tr>\n",
       "      <th>0</th>\n",
       "      <td>45.07</td>\n",
       "      <td>197.4</td>\n",
       "      <td>99</td>\n",
       "      <td>16.78</td>\n",
       "      <td>244.7</td>\n",
       "      <td>91</td>\n",
       "      <td>11.01</td>\n",
       "      <td>10.0</td>\n",
       "    </tr>\n",
       "    <tr>\n",
       "      <th>1</th>\n",
       "      <td>27.47</td>\n",
       "      <td>195.5</td>\n",
       "      <td>103</td>\n",
       "      <td>16.62</td>\n",
       "      <td>254.4</td>\n",
       "      <td>103</td>\n",
       "      <td>11.45</td>\n",
       "      <td>13.7</td>\n",
       "    </tr>\n",
       "    <tr>\n",
       "      <th>2</th>\n",
       "      <td>41.38</td>\n",
       "      <td>121.2</td>\n",
       "      <td>110</td>\n",
       "      <td>10.30</td>\n",
       "      <td>162.6</td>\n",
       "      <td>104</td>\n",
       "      <td>7.32</td>\n",
       "      <td>12.2</td>\n",
       "    </tr>\n",
       "    <tr>\n",
       "      <th>3</th>\n",
       "      <td>50.90</td>\n",
       "      <td>61.9</td>\n",
       "      <td>88</td>\n",
       "      <td>5.26</td>\n",
       "      <td>196.9</td>\n",
       "      <td>89</td>\n",
       "      <td>8.86</td>\n",
       "      <td>6.6</td>\n",
       "    </tr>\n",
       "    <tr>\n",
       "      <th>4</th>\n",
       "      <td>28.34</td>\n",
       "      <td>148.3</td>\n",
       "      <td>122</td>\n",
       "      <td>12.61</td>\n",
       "      <td>186.9</td>\n",
       "      <td>121</td>\n",
       "      <td>8.41</td>\n",
       "      <td>10.1</td>\n",
       "    </tr>\n",
       "  </tbody>\n",
       "</table>\n",
       "</div>"
      ],
      "text/plain": [
       "   Total_Day_charge  Total_Eve_Minutes  Total_Eve_Calls  Total_Eve_Charge  \\\n",
       "0             45.07              197.4               99             16.78   \n",
       "1             27.47              195.5              103             16.62   \n",
       "2             41.38              121.2              110             10.30   \n",
       "3             50.90               61.9               88              5.26   \n",
       "4             28.34              148.3              122             12.61   \n",
       "\n",
       "   Total_Night_Minutes  Total_Night_Calls  Total_Night_Charge  \\\n",
       "0                244.7                 91               11.01   \n",
       "1                254.4                103               11.45   \n",
       "2                162.6                104                7.32   \n",
       "3                196.9                 89                8.86   \n",
       "4                186.9                121                8.41   \n",
       "\n",
       "   Total_Intl_Minutes  \n",
       "0                10.0  \n",
       "1                13.7  \n",
       "2                12.2  \n",
       "3                 6.6  \n",
       "4                10.1  "
      ]
     },
     "execution_count": 15,
     "metadata": {},
     "output_type": "execute_result"
    }
   ],
   "source": [
    "# Columns from 9 to 17\n",
    "df[list(df.columns)[9:17]].head()"
   ]
  },
  {
   "cell_type": "code",
   "execution_count": 16,
   "metadata": {},
   "outputs": [
    {
     "data": {
      "text/html": [
       "<div>\n",
       "<style scoped>\n",
       "    .dataframe tbody tr th:only-of-type {\n",
       "        vertical-align: middle;\n",
       "    }\n",
       "\n",
       "    .dataframe tbody tr th {\n",
       "        vertical-align: top;\n",
       "    }\n",
       "\n",
       "    .dataframe thead th {\n",
       "        text-align: right;\n",
       "    }\n",
       "</style>\n",
       "<table border=\"1\" class=\"dataframe\">\n",
       "  <thead>\n",
       "    <tr style=\"text-align: right;\">\n",
       "      <th></th>\n",
       "      <th>Total_Intl_Calls</th>\n",
       "      <th>Total_Intl_Charge</th>\n",
       "      <th>No_CS_Calls</th>\n",
       "      <th>Churn</th>\n",
       "      <th>OUTPUT_LABEL</th>\n",
       "    </tr>\n",
       "  </thead>\n",
       "  <tbody>\n",
       "    <tr>\n",
       "      <th>0</th>\n",
       "      <td>3</td>\n",
       "      <td>2.70</td>\n",
       "      <td>1</td>\n",
       "      <td>0</td>\n",
       "      <td>0</td>\n",
       "    </tr>\n",
       "    <tr>\n",
       "      <th>1</th>\n",
       "      <td>3</td>\n",
       "      <td>3.70</td>\n",
       "      <td>1</td>\n",
       "      <td>0</td>\n",
       "      <td>0</td>\n",
       "    </tr>\n",
       "    <tr>\n",
       "      <th>2</th>\n",
       "      <td>5</td>\n",
       "      <td>3.29</td>\n",
       "      <td>0</td>\n",
       "      <td>0</td>\n",
       "      <td>0</td>\n",
       "    </tr>\n",
       "    <tr>\n",
       "      <th>3</th>\n",
       "      <td>7</td>\n",
       "      <td>1.78</td>\n",
       "      <td>2</td>\n",
       "      <td>0</td>\n",
       "      <td>0</td>\n",
       "    </tr>\n",
       "    <tr>\n",
       "      <th>4</th>\n",
       "      <td>3</td>\n",
       "      <td>2.73</td>\n",
       "      <td>3</td>\n",
       "      <td>0</td>\n",
       "      <td>0</td>\n",
       "    </tr>\n",
       "  </tbody>\n",
       "</table>\n",
       "</div>"
      ],
      "text/plain": [
       "   Total_Intl_Calls  Total_Intl_Charge  No_CS_Calls  Churn  OUTPUT_LABEL\n",
       "0                 3               2.70            1      0             0\n",
       "1                 3               3.70            1      0             0\n",
       "2                 5               3.29            0      0             0\n",
       "3                 7               1.78            2      0             0\n",
       "4                 3               2.73            3      0             0"
      ]
     },
     "execution_count": 16,
     "metadata": {},
     "output_type": "execute_result"
    }
   ],
   "source": [
    "# Last set of columns names\n",
    "df[list(df.columns)[17:22]].head()"
   ]
  },
  {
   "cell_type": "markdown",
   "metadata": {},
   "source": [
    "**Q3. Briefly describe your observations of the dataset**"
   ]
  },
  {
   "cell_type": "markdown",
   "metadata": {},
   "source": [
    "<font size=\"3\"> \n",
    "<div class=\"alert alert-block alert-success\">\n",
    "As I stated above in my description we can see that all of  my columns are mostly Numerical and only state is Categorical. <br><br>\n",
    "Also as Column names are pretty much self Explanatory I explain as we remove or add column names and much more in feature Engineering steps.<br><br>\n",
    "Let's take a look at the unique values for each column.\n",
    "\n",
    "</div>\n",
    "     </font>"
   ]
  },
  {
   "cell_type": "code",
   "execution_count": 17,
   "metadata": {},
   "outputs": [
    {
     "name": "stdout",
     "output_type": "stream",
     "text": [
      "State: 51 unique values\n",
      "Account_Length: 212 unique values\n",
      "Area_Code\n",
      "[415 408 510]\n",
      "Phone_No: 3333 unique values\n",
      "International_Plan\n",
      "[' no' ' yes']\n",
      "Voice_Mail_Plan\n",
      "[' yes' ' no']\n",
      "No_Vmail_Messages: 46 unique values\n",
      "Total_Day_minutes: 1667 unique values\n",
      "Total_Day_Calls: 119 unique values\n",
      "Total_Day_charge: 1667 unique values\n",
      "Total_Eve_Minutes: 1611 unique values\n",
      "Total_Eve_Calls: 123 unique values\n",
      "Total_Eve_Charge: 1440 unique values\n",
      "Total_Night_Minutes: 1591 unique values\n",
      "Total_Night_Calls: 120 unique values\n",
      "Total_Night_Charge: 933 unique values\n",
      "Total_Intl_Minutes: 162 unique values\n",
      "Total_Intl_Calls\n",
      "[ 3  5  7  6  4  2  9 19  1 10 15  8 11  0 12 13 18 14 16 20 17]\n",
      "Total_Intl_Charge: 162 unique values\n",
      "No_CS_Calls\n",
      "[1 0 2 3 4 5 7 9 6 8]\n",
      "Churn\n",
      "[0 1]\n",
      "OUTPUT_LABEL\n",
      "[0 1]\n"
     ]
    }
   ],
   "source": [
    "# for each column\n",
    "for c in list(df.columns):\n",
    "    \n",
    "    # get a list of unique values\n",
    "    n = df[c].unique()\n",
    "    \n",
    "    # if number of unique values is less than 30, print the values. Otherwise print the number of unique values\n",
    "    if len(n)<30:\n",
    "        print(c)\n",
    "        print(n)\n",
    "    else:\n",
    "        print(c + ': ' +str(len(n)) + ' unique values')"
   ]
  },
  {
   "cell_type": "markdown",
   "metadata": {},
   "source": [
    "# Feature Engineering"
   ]
  },
  {
   "cell_type": "markdown",
   "metadata": {},
   "source": [
    "**Q4. Briefly describe what 'feature engineering' is. For each feature type (e.g. numerical, categorical, etc) you have in your project, please describe what is it is. If you use one-hot encoding, please describe in your own words what that technique is.**"
   ]
  },
  {
   "cell_type": "markdown",
   "metadata": {},
   "source": [
    "Feature Engineering mostly comes from domain knowledge of the subject field to create, merge and associate different variables in our datsets to build the right and most efficient model. Can be taken as fundamental unit of our Machine learning where we imply different algorithm to find the relationship between one another. <br>\n",
    "\n",
    "Most of my datasets is Numerical and we have one Column 'State' Which is Categorical and most of the titles are pretty much self explanatory. <br>\n",
    "\n",
    "One hot encoding is nothing but a popular technique used in Machine Learning Where we convert all our categorical data into numerical data so that it is easier for Machine to see the relationship between the variables and understand the input. Having better input will create a better output results.\n",
    "\n"
   ]
  },
  {
   "cell_type": "markdown",
   "metadata": {},
   "source": [
    "<font size=\"3\"> \n",
    "<div class=\"alert alert-block alert-success\">\n",
    "From the above unique Value Output we have to do <br><br>\n",
    "1. Trim the white Space in International_plan and Voice_Mail_Plan Column so that we will not have issue later while building model<br><br>\n",
    "2. Numerical Data are always better to do machine Learning than Character Variable.<br><br>\n",
    "3. Good thing in our datasets we have more Numerical Variable and only one Character Varaiable which is state.<br><br>\n",
    "4. We will Drop State Column as it doesnt play any relationship with rest of the variables in our these analysis.<br><br>\n",
    "5. We will create two New Column Total Active Minutes and total Active charges if the consumer is actively using his cell phone through out the day.  We will see if the active minutes play any unique featres with Active Charges.<br><br>\n",
    "6. Lets Recode our Yes and No Voice Mail Plan to 0 and 1. This is One Hot Encoding Step\n",
    "    \n",
    "    </div>\n",
    "     </font>"
   ]
  },
  {
   "cell_type": "code",
   "execution_count": 18,
   "metadata": {},
   "outputs": [
    {
     "name": "stdout",
     "output_type": "stream",
     "text": [
      " yes\n",
      " no\n"
     ]
    }
   ],
   "source": [
    "# Lets look at the first value\n",
    "print(df['Voice_Mail_Plan'][0])\n",
    "print(df['International_Plan'][0])"
   ]
  },
  {
   "cell_type": "code",
   "execution_count": 19,
   "metadata": {},
   "outputs": [],
   "source": [
    "# For now lets trim the white space which we can see for data manipulation.\n",
    "# For these we can use the lambda function.\n",
    "df['Voice_Mail_Plan'] = df['Voice_Mail_Plan'].map(lambda x: x.strip()) # strip away white space.\n",
    "df['International_Plan'] = df['International_Plan'].map(lambda x: x.strip())"
   ]
  },
  {
   "cell_type": "code",
   "execution_count": 20,
   "metadata": {},
   "outputs": [],
   "source": [
    "# After trimming up the white space in above line of code we can now simply recode it to 0 and 1.\n",
    "df['Voice_Mail_Plan'] = df['Voice_Mail_Plan'].map({'no':0, 'yes':1}) # Recoding \n",
    "df.International_Plan = df.International_Plan.map({'no':0, 'yes':1})"
   ]
  },
  {
   "cell_type": "code",
   "execution_count": 21,
   "metadata": {},
   "outputs": [
    {
     "data": {
      "text/html": [
       "<div>\n",
       "<style scoped>\n",
       "    .dataframe tbody tr th:only-of-type {\n",
       "        vertical-align: middle;\n",
       "    }\n",
       "\n",
       "    .dataframe tbody tr th {\n",
       "        vertical-align: top;\n",
       "    }\n",
       "\n",
       "    .dataframe thead th {\n",
       "        text-align: right;\n",
       "    }\n",
       "</style>\n",
       "<table border=\"1\" class=\"dataframe\">\n",
       "  <thead>\n",
       "    <tr style=\"text-align: right;\">\n",
       "      <th></th>\n",
       "      <th>Account_Length</th>\n",
       "      <th>Area_Code</th>\n",
       "      <th>Phone_No</th>\n",
       "      <th>International_Plan</th>\n",
       "      <th>Voice_Mail_Plan</th>\n",
       "      <th>No_Vmail_Messages</th>\n",
       "      <th>Total_Day_minutes</th>\n",
       "      <th>Total_Day_Calls</th>\n",
       "      <th>Total_Day_charge</th>\n",
       "      <th>Total_Eve_Minutes</th>\n",
       "      <th>Total_Eve_Calls</th>\n",
       "      <th>Total_Eve_Charge</th>\n",
       "      <th>Total_Night_Minutes</th>\n",
       "      <th>Total_Night_Calls</th>\n",
       "      <th>Total_Night_Charge</th>\n",
       "      <th>Total_Intl_Minutes</th>\n",
       "      <th>Total_Intl_Calls</th>\n",
       "      <th>Total_Intl_Charge</th>\n",
       "      <th>No_CS_Calls</th>\n",
       "      <th>OUTPUT_LABEL</th>\n",
       "    </tr>\n",
       "    <tr>\n",
       "      <th>Churn</th>\n",
       "      <th></th>\n",
       "      <th></th>\n",
       "      <th></th>\n",
       "      <th></th>\n",
       "      <th></th>\n",
       "      <th></th>\n",
       "      <th></th>\n",
       "      <th></th>\n",
       "      <th></th>\n",
       "      <th></th>\n",
       "      <th></th>\n",
       "      <th></th>\n",
       "      <th></th>\n",
       "      <th></th>\n",
       "      <th></th>\n",
       "      <th></th>\n",
       "      <th></th>\n",
       "      <th></th>\n",
       "      <th></th>\n",
       "      <th></th>\n",
       "    </tr>\n",
       "  </thead>\n",
       "  <tbody>\n",
       "    <tr>\n",
       "      <th>0</th>\n",
       "      <td>100.793684</td>\n",
       "      <td>437.074737</td>\n",
       "      <td>3.745643e+06</td>\n",
       "      <td>0.065263</td>\n",
       "      <td>0.295439</td>\n",
       "      <td>8.604561</td>\n",
       "      <td>175.175754</td>\n",
       "      <td>100.283158</td>\n",
       "      <td>29.780421</td>\n",
       "      <td>199.043298</td>\n",
       "      <td>100.038596</td>\n",
       "      <td>16.918909</td>\n",
       "      <td>200.133193</td>\n",
       "      <td>100.058246</td>\n",
       "      <td>9.006074</td>\n",
       "      <td>10.158877</td>\n",
       "      <td>4.532982</td>\n",
       "      <td>2.743404</td>\n",
       "      <td>1.449825</td>\n",
       "      <td>0.0</td>\n",
       "    </tr>\n",
       "    <tr>\n",
       "      <th>1</th>\n",
       "      <td>102.664596</td>\n",
       "      <td>437.817805</td>\n",
       "      <td>3.750114e+06</td>\n",
       "      <td>0.283644</td>\n",
       "      <td>0.165631</td>\n",
       "      <td>5.115942</td>\n",
       "      <td>206.914079</td>\n",
       "      <td>101.335404</td>\n",
       "      <td>35.175921</td>\n",
       "      <td>212.410145</td>\n",
       "      <td>100.561077</td>\n",
       "      <td>18.054969</td>\n",
       "      <td>205.231677</td>\n",
       "      <td>100.399586</td>\n",
       "      <td>9.235528</td>\n",
       "      <td>10.700000</td>\n",
       "      <td>4.163561</td>\n",
       "      <td>2.889545</td>\n",
       "      <td>2.229814</td>\n",
       "      <td>1.0</td>\n",
       "    </tr>\n",
       "  </tbody>\n",
       "</table>\n",
       "</div>"
      ],
      "text/plain": [
       "       Account_Length   Area_Code      Phone_No  International_Plan  \\\n",
       "Churn                                                                 \n",
       "0          100.793684  437.074737  3.745643e+06            0.065263   \n",
       "1          102.664596  437.817805  3.750114e+06            0.283644   \n",
       "\n",
       "       Voice_Mail_Plan  No_Vmail_Messages  Total_Day_minutes  Total_Day_Calls  \\\n",
       "Churn                                                                           \n",
       "0             0.295439           8.604561         175.175754       100.283158   \n",
       "1             0.165631           5.115942         206.914079       101.335404   \n",
       "\n",
       "       Total_Day_charge  Total_Eve_Minutes  Total_Eve_Calls  Total_Eve_Charge  \\\n",
       "Churn                                                                           \n",
       "0             29.780421         199.043298       100.038596         16.918909   \n",
       "1             35.175921         212.410145       100.561077         18.054969   \n",
       "\n",
       "       Total_Night_Minutes  Total_Night_Calls  Total_Night_Charge  \\\n",
       "Churn                                                               \n",
       "0               200.133193         100.058246            9.006074   \n",
       "1               205.231677         100.399586            9.235528   \n",
       "\n",
       "       Total_Intl_Minutes  Total_Intl_Calls  Total_Intl_Charge  No_CS_Calls  \\\n",
       "Churn                                                                         \n",
       "0               10.158877          4.532982           2.743404     1.449825   \n",
       "1               10.700000          4.163561           2.889545     2.229814   \n",
       "\n",
       "       OUTPUT_LABEL  \n",
       "Churn                \n",
       "0               0.0  \n",
       "1               1.0  "
      ]
     },
     "execution_count": 21,
     "metadata": {},
     "output_type": "execute_result"
    }
   ],
   "source": [
    "# Lets calculate mean grouping by Churn if we have any missing datasets then we can fill those column by Mean value.\n",
    "df.groupby('Churn').mean()"
   ]
  },
  {
   "cell_type": "code",
   "execution_count": 22,
   "metadata": {},
   "outputs": [],
   "source": [
    "# Drop some useless columns which doesn't make sense and seems no relevance with the Customer Churn.\n",
    "to_drop = ['State','Area_Code','Phone_No','Churn','Account_Length']\n",
    "df = df.drop(to_drop, axis=1)"
   ]
  },
  {
   "cell_type": "code",
   "execution_count": 23,
   "metadata": {},
   "outputs": [
    {
     "data": {
      "text/plain": [
       "Index(['International_Plan', 'Voice_Mail_Plan', 'No_Vmail_Messages',\n",
       "       'Total_Day_minutes', 'Total_Day_Calls', 'Total_Day_charge',\n",
       "       'Total_Eve_Minutes', 'Total_Eve_Calls', 'Total_Eve_Charge',\n",
       "       'Total_Night_Minutes', 'Total_Night_Calls', 'Total_Night_Charge',\n",
       "       'Total_Intl_Minutes', 'Total_Intl_Calls', 'Total_Intl_Charge',\n",
       "       'No_CS_Calls', 'OUTPUT_LABEL'],\n",
       "      dtype='object')"
      ]
     },
     "execution_count": 23,
     "metadata": {},
     "output_type": "execute_result"
    }
   ],
   "source": [
    "# Lets double confirm that we did drop that columns from our datasets\n",
    "df.columns"
   ]
  },
  {
   "cell_type": "code",
   "execution_count": 24,
   "metadata": {},
   "outputs": [],
   "source": [
    "# Lets create Active Minute column those who use the service more frequently.\n",
    "df=df >> mutate(Active_minute = X.Total_Day_minutes+ X.Total_Eve_Minutes +X.Total_Night_Minutes)"
   ]
  },
  {
   "cell_type": "code",
   "execution_count": 25,
   "metadata": {},
   "outputs": [],
   "source": [
    "# Lets also create Active Minutes Charge who use the service.\n",
    "df=df >> mutate(Active_minute_charge = X.Total_Day_charge + X.Total_Eve_Charge +X.Total_Night_Charge)"
   ]
  },
  {
   "cell_type": "code",
   "execution_count": 26,
   "metadata": {},
   "outputs": [
    {
     "name": "stdout",
     "output_type": "stream",
     "text": [
      "<class 'pandas.core.frame.DataFrame'>\n",
      "RangeIndex: 3333 entries, 0 to 3332\n",
      "Data columns (total 19 columns):\n",
      "International_Plan      3333 non-null int64\n",
      "Voice_Mail_Plan         3333 non-null int64\n",
      "No_Vmail_Messages       3333 non-null int64\n",
      "Total_Day_minutes       3333 non-null float64\n",
      "Total_Day_Calls         3333 non-null int64\n",
      "Total_Day_charge        3333 non-null float64\n",
      "Total_Eve_Minutes       3333 non-null float64\n",
      "Total_Eve_Calls         3333 non-null int64\n",
      "Total_Eve_Charge        3333 non-null float64\n",
      "Total_Night_Minutes     3333 non-null float64\n",
      "Total_Night_Calls       3333 non-null int64\n",
      "Total_Night_Charge      3333 non-null float64\n",
      "Total_Intl_Minutes      3333 non-null float64\n",
      "Total_Intl_Calls        3333 non-null int64\n",
      "Total_Intl_Charge       3333 non-null float64\n",
      "No_CS_Calls             3333 non-null int64\n",
      "OUTPUT_LABEL            3333 non-null int64\n",
      "Active_minute           3333 non-null float64\n",
      "Active_minute_charge    3333 non-null float64\n",
      "dtypes: float64(10), int64(9)\n",
      "memory usage: 494.8 KB\n"
     ]
    }
   ],
   "source": [
    "# Lets look at all the columns once again.\n",
    "df.info()"
   ]
  },
  {
   "cell_type": "markdown",
   "metadata": {},
   "source": [
    "<font size=\"3\"> \n",
    "<div class=\"alert alert-block alert-success\">\n",
    "    \n",
    "A few things to point out, there are some column names which makes no sense for now and doesn't seem to have any corelations with another variables that we have dropped. <br>\n",
    "1.`'State',\n",
    "2. 'Area_Code',\n",
    "3. 'Phone_No',\n",
    "4. 'Churn',\n",
    "5. 'Account_Length' `<br><br>\n",
    "\n",
    "Lets Create some features after doing Data Cleaning and triming our Datasets. Lets Add some relevant features to the datasets.\n",
    "\n",
    "</div>\n",
    "     </font>"
   ]
  },
  {
   "cell_type": "code",
   "execution_count": 27,
   "metadata": {},
   "outputs": [],
   "source": [
    "# We can use the following command to filter only numeric columns\n",
    "cols_num = df.select_dtypes(include=[np.number]).columns.tolist()"
   ]
  },
  {
   "cell_type": "code",
   "execution_count": 28,
   "metadata": {},
   "outputs": [
    {
     "data": {
      "text/plain": [
       "float64    10\n",
       "int64       9\n",
       "dtype: int64"
      ]
     },
     "execution_count": 28,
     "metadata": {},
     "output_type": "execute_result"
    }
   ],
   "source": [
    "# Lets see the data types of our datasets.\n",
    "df.dtypes.value_counts()"
   ]
  },
  {
   "cell_type": "markdown",
   "metadata": {},
   "source": [
    "## Numerical Features"
   ]
  },
  {
   "cell_type": "code",
   "execution_count": 29,
   "metadata": {},
   "outputs": [
    {
     "data": {
      "text/plain": [
       "Index(['International_Plan', 'Voice_Mail_Plan', 'No_Vmail_Messages',\n",
       "       'Total_Day_minutes', 'Total_Day_Calls', 'Total_Day_charge',\n",
       "       'Total_Eve_Minutes', 'Total_Eve_Calls', 'Total_Eve_Charge',\n",
       "       'Total_Night_Minutes', 'Total_Night_Calls', 'Total_Night_Charge',\n",
       "       'Total_Intl_Minutes', 'Total_Intl_Calls', 'Total_Intl_Charge',\n",
       "       'No_CS_Calls', 'OUTPUT_LABEL', 'Active_minute', 'Active_minute_charge'],\n",
       "      dtype='object')"
      ]
     },
     "execution_count": 29,
     "metadata": {},
     "output_type": "execute_result"
    }
   ],
   "source": [
    "# Lets print out all the column name so that we can choose our column of interest by copying and pasting\n",
    "df.columns"
   ]
  },
  {
   "cell_type": "markdown",
   "metadata": {},
   "source": [
    "**Q5. Make a new dataframe that only has the columns of interest. Double check that the columns used to define your OUTPUT_LABEL are not part of cols_input!**"
   ]
  },
  {
   "cell_type": "code",
   "execution_count": 30,
   "metadata": {},
   "outputs": [],
   "source": [
    "# Lets choose our column of interest. \n",
    "# We will choose all the column name accept our OUTPUT LABEL \n",
    "cols_num =['International_Plan', 'Voice_Mail_Plan', 'No_Vmail_Messages',\n",
    "       'Total_Day_minutes', 'Total_Day_Calls', 'Total_Day_charge',\n",
    "       'Total_Eve_Minutes', 'Total_Eve_Calls', 'Total_Eve_Charge',\n",
    "       'Total_Night_Minutes', 'Total_Night_Calls', 'Total_Night_Charge',\n",
    "       'Total_Intl_Minutes', 'Total_Intl_Calls', 'Total_Intl_Charge',\n",
    "       'No_CS_Calls']"
   ]
  },
  {
   "cell_type": "markdown",
   "metadata": {},
   "source": [
    "## Engineering Features Summary"
   ]
  },
  {
   "cell_type": "code",
   "execution_count": 31,
   "metadata": {},
   "outputs": [
    {
     "name": "stdout",
     "output_type": "stream",
     "text": [
      "Total number of features: 16\n",
      "Numerical Features: 16\n"
     ]
    }
   ],
   "source": [
    "print('Total number of features:', len(cols_num))\n",
    "print('Numerical Features:',len(cols_num))\n",
    "# print('Categorical Features:',len(cols_all_cat))\n",
    "# print('Extra features:',len(cols_extra))  "
   ]
  },
  {
   "cell_type": "markdown",
   "metadata": {},
   "source": [
    "<font size=\"3\"> \n",
    "<div class=\"alert alert-block alert-success\">\n",
    "After adding new variables and removing the irrelevant columns we have total of 16 Variables to work with.\n",
    "\n",
    "</div>\n",
    "     </font>"
   ]
  },
  {
   "cell_type": "markdown",
   "metadata": {},
   "source": [
    "### Let's check if we are missing any data."
   ]
  },
  {
   "cell_type": "code",
   "execution_count": 32,
   "metadata": {},
   "outputs": [
    {
     "data": {
      "text/plain": [
       "No_CS_Calls            0\n",
       "Total_Intl_Charge      0\n",
       "Total_Intl_Calls       0\n",
       "Total_Intl_Minutes     0\n",
       "Total_Night_Charge     0\n",
       "Total_Night_Calls      0\n",
       "Total_Night_Minutes    0\n",
       "Total_Eve_Charge       0\n",
       "Total_Eve_Calls        0\n",
       "Total_Eve_Minutes      0\n",
       "Total_Day_charge       0\n",
       "Total_Day_Calls        0\n",
       "Total_Day_minutes      0\n",
       "No_Vmail_Messages      0\n",
       "Voice_Mail_Plan        0\n",
       "International_Plan     0\n",
       "dtype: int64"
      ]
     },
     "execution_count": 32,
     "metadata": {},
     "output_type": "execute_result"
    }
   ],
   "source": [
    "df[cols_num].isnull().sum().sort_values(ascending = False)"
   ]
  },
  {
   "cell_type": "markdown",
   "metadata": {},
   "source": [
    "<font size=\"3\"> \n",
    "<div class=\"alert alert-block alert-success\">\n",
    "    \n",
    "1. So looking at above code we don't have to deal with any Non Missing varaibles and need to impute which is very good interms of model building. <br> <br>\n",
    "2. We are not adding any bias for missing data. We don't have to impute any non missing datasets. <br> <br>\n",
    "3. Next Step is to make a new dataframe with our Column of our interest.<br> <br>\n",
    "\n",
    "</div>\n",
    "     </font>"
   ]
  },
  {
   "cell_type": "code",
   "execution_count": 33,
   "metadata": {},
   "outputs": [],
   "source": [
    "cols_input = cols_num \n",
    "df_data = df[cols_input + ['OUTPUT_LABEL']]"
   ]
  },
  {
   "cell_type": "code",
   "execution_count": 34,
   "metadata": {},
   "outputs": [
    {
     "data": {
      "text/html": [
       "<div>\n",
       "<style scoped>\n",
       "    .dataframe tbody tr th:only-of-type {\n",
       "        vertical-align: middle;\n",
       "    }\n",
       "\n",
       "    .dataframe tbody tr th {\n",
       "        vertical-align: top;\n",
       "    }\n",
       "\n",
       "    .dataframe thead th {\n",
       "        text-align: right;\n",
       "    }\n",
       "</style>\n",
       "<table border=\"1\" class=\"dataframe\">\n",
       "  <thead>\n",
       "    <tr style=\"text-align: right;\">\n",
       "      <th></th>\n",
       "      <th>0</th>\n",
       "      <th>1</th>\n",
       "      <th>2</th>\n",
       "      <th>3</th>\n",
       "      <th>4</th>\n",
       "      <th>5</th>\n",
       "      <th>6</th>\n",
       "      <th>7</th>\n",
       "      <th>8</th>\n",
       "      <th>9</th>\n",
       "      <th>10</th>\n",
       "      <th>11</th>\n",
       "      <th>12</th>\n",
       "      <th>13</th>\n",
       "      <th>14</th>\n",
       "    </tr>\n",
       "  </thead>\n",
       "  <tbody>\n",
       "    <tr>\n",
       "      <th>International_Plan</th>\n",
       "      <td>0.00</td>\n",
       "      <td>0.00</td>\n",
       "      <td>0.00</td>\n",
       "      <td>1.00</td>\n",
       "      <td>1.00</td>\n",
       "      <td>1.00</td>\n",
       "      <td>0.00</td>\n",
       "      <td>1.00</td>\n",
       "      <td>0.00</td>\n",
       "      <td>1.00</td>\n",
       "      <td>0.00</td>\n",
       "      <td>0.00</td>\n",
       "      <td>0.00</td>\n",
       "      <td>0.00</td>\n",
       "      <td>0.00</td>\n",
       "    </tr>\n",
       "    <tr>\n",
       "      <th>Voice_Mail_Plan</th>\n",
       "      <td>1.00</td>\n",
       "      <td>1.00</td>\n",
       "      <td>0.00</td>\n",
       "      <td>0.00</td>\n",
       "      <td>0.00</td>\n",
       "      <td>0.00</td>\n",
       "      <td>1.00</td>\n",
       "      <td>0.00</td>\n",
       "      <td>0.00</td>\n",
       "      <td>1.00</td>\n",
       "      <td>0.00</td>\n",
       "      <td>0.00</td>\n",
       "      <td>0.00</td>\n",
       "      <td>0.00</td>\n",
       "      <td>0.00</td>\n",
       "    </tr>\n",
       "    <tr>\n",
       "      <th>No_Vmail_Messages</th>\n",
       "      <td>25.00</td>\n",
       "      <td>26.00</td>\n",
       "      <td>0.00</td>\n",
       "      <td>0.00</td>\n",
       "      <td>0.00</td>\n",
       "      <td>0.00</td>\n",
       "      <td>24.00</td>\n",
       "      <td>0.00</td>\n",
       "      <td>0.00</td>\n",
       "      <td>37.00</td>\n",
       "      <td>0.00</td>\n",
       "      <td>0.00</td>\n",
       "      <td>0.00</td>\n",
       "      <td>0.00</td>\n",
       "      <td>0.00</td>\n",
       "    </tr>\n",
       "    <tr>\n",
       "      <th>Total_Day_minutes</th>\n",
       "      <td>265.10</td>\n",
       "      <td>161.60</td>\n",
       "      <td>243.40</td>\n",
       "      <td>299.40</td>\n",
       "      <td>166.70</td>\n",
       "      <td>223.40</td>\n",
       "      <td>218.20</td>\n",
       "      <td>157.00</td>\n",
       "      <td>184.50</td>\n",
       "      <td>258.60</td>\n",
       "      <td>129.10</td>\n",
       "      <td>187.70</td>\n",
       "      <td>128.80</td>\n",
       "      <td>156.60</td>\n",
       "      <td>120.70</td>\n",
       "    </tr>\n",
       "    <tr>\n",
       "      <th>Total_Day_Calls</th>\n",
       "      <td>110.00</td>\n",
       "      <td>123.00</td>\n",
       "      <td>114.00</td>\n",
       "      <td>71.00</td>\n",
       "      <td>113.00</td>\n",
       "      <td>98.00</td>\n",
       "      <td>88.00</td>\n",
       "      <td>79.00</td>\n",
       "      <td>97.00</td>\n",
       "      <td>84.00</td>\n",
       "      <td>137.00</td>\n",
       "      <td>127.00</td>\n",
       "      <td>96.00</td>\n",
       "      <td>88.00</td>\n",
       "      <td>70.00</td>\n",
       "    </tr>\n",
       "    <tr>\n",
       "      <th>Total_Day_charge</th>\n",
       "      <td>45.07</td>\n",
       "      <td>27.47</td>\n",
       "      <td>41.38</td>\n",
       "      <td>50.90</td>\n",
       "      <td>28.34</td>\n",
       "      <td>37.98</td>\n",
       "      <td>37.09</td>\n",
       "      <td>26.69</td>\n",
       "      <td>31.37</td>\n",
       "      <td>43.96</td>\n",
       "      <td>21.95</td>\n",
       "      <td>31.91</td>\n",
       "      <td>21.90</td>\n",
       "      <td>26.62</td>\n",
       "      <td>20.52</td>\n",
       "    </tr>\n",
       "    <tr>\n",
       "      <th>Total_Eve_Minutes</th>\n",
       "      <td>197.40</td>\n",
       "      <td>195.50</td>\n",
       "      <td>121.20</td>\n",
       "      <td>61.90</td>\n",
       "      <td>148.30</td>\n",
       "      <td>220.60</td>\n",
       "      <td>348.50</td>\n",
       "      <td>103.10</td>\n",
       "      <td>351.60</td>\n",
       "      <td>222.00</td>\n",
       "      <td>228.50</td>\n",
       "      <td>163.40</td>\n",
       "      <td>104.90</td>\n",
       "      <td>247.60</td>\n",
       "      <td>307.20</td>\n",
       "    </tr>\n",
       "    <tr>\n",
       "      <th>Total_Eve_Calls</th>\n",
       "      <td>99.00</td>\n",
       "      <td>103.00</td>\n",
       "      <td>110.00</td>\n",
       "      <td>88.00</td>\n",
       "      <td>122.00</td>\n",
       "      <td>101.00</td>\n",
       "      <td>108.00</td>\n",
       "      <td>94.00</td>\n",
       "      <td>80.00</td>\n",
       "      <td>111.00</td>\n",
       "      <td>83.00</td>\n",
       "      <td>148.00</td>\n",
       "      <td>71.00</td>\n",
       "      <td>75.00</td>\n",
       "      <td>76.00</td>\n",
       "    </tr>\n",
       "    <tr>\n",
       "      <th>Total_Eve_Charge</th>\n",
       "      <td>16.78</td>\n",
       "      <td>16.62</td>\n",
       "      <td>10.30</td>\n",
       "      <td>5.26</td>\n",
       "      <td>12.61</td>\n",
       "      <td>18.75</td>\n",
       "      <td>29.62</td>\n",
       "      <td>8.76</td>\n",
       "      <td>29.89</td>\n",
       "      <td>18.87</td>\n",
       "      <td>19.42</td>\n",
       "      <td>13.89</td>\n",
       "      <td>8.92</td>\n",
       "      <td>21.05</td>\n",
       "      <td>26.11</td>\n",
       "    </tr>\n",
       "    <tr>\n",
       "      <th>Total_Night_Minutes</th>\n",
       "      <td>244.70</td>\n",
       "      <td>254.40</td>\n",
       "      <td>162.60</td>\n",
       "      <td>196.90</td>\n",
       "      <td>186.90</td>\n",
       "      <td>203.90</td>\n",
       "      <td>212.60</td>\n",
       "      <td>211.80</td>\n",
       "      <td>215.80</td>\n",
       "      <td>326.40</td>\n",
       "      <td>208.80</td>\n",
       "      <td>196.00</td>\n",
       "      <td>141.10</td>\n",
       "      <td>192.30</td>\n",
       "      <td>203.00</td>\n",
       "    </tr>\n",
       "    <tr>\n",
       "      <th>Total_Night_Calls</th>\n",
       "      <td>91.00</td>\n",
       "      <td>103.00</td>\n",
       "      <td>104.00</td>\n",
       "      <td>89.00</td>\n",
       "      <td>121.00</td>\n",
       "      <td>118.00</td>\n",
       "      <td>118.00</td>\n",
       "      <td>96.00</td>\n",
       "      <td>90.00</td>\n",
       "      <td>97.00</td>\n",
       "      <td>111.00</td>\n",
       "      <td>94.00</td>\n",
       "      <td>128.00</td>\n",
       "      <td>115.00</td>\n",
       "      <td>99.00</td>\n",
       "    </tr>\n",
       "    <tr>\n",
       "      <th>Total_Night_Charge</th>\n",
       "      <td>11.01</td>\n",
       "      <td>11.45</td>\n",
       "      <td>7.32</td>\n",
       "      <td>8.86</td>\n",
       "      <td>8.41</td>\n",
       "      <td>9.18</td>\n",
       "      <td>9.57</td>\n",
       "      <td>9.53</td>\n",
       "      <td>9.71</td>\n",
       "      <td>14.69</td>\n",
       "      <td>9.40</td>\n",
       "      <td>8.82</td>\n",
       "      <td>6.35</td>\n",
       "      <td>8.65</td>\n",
       "      <td>9.14</td>\n",
       "    </tr>\n",
       "    <tr>\n",
       "      <th>Total_Intl_Minutes</th>\n",
       "      <td>10.00</td>\n",
       "      <td>13.70</td>\n",
       "      <td>12.20</td>\n",
       "      <td>6.60</td>\n",
       "      <td>10.10</td>\n",
       "      <td>6.30</td>\n",
       "      <td>7.50</td>\n",
       "      <td>7.10</td>\n",
       "      <td>8.70</td>\n",
       "      <td>11.20</td>\n",
       "      <td>12.70</td>\n",
       "      <td>9.10</td>\n",
       "      <td>11.20</td>\n",
       "      <td>12.30</td>\n",
       "      <td>13.10</td>\n",
       "    </tr>\n",
       "    <tr>\n",
       "      <th>Total_Intl_Calls</th>\n",
       "      <td>3.00</td>\n",
       "      <td>3.00</td>\n",
       "      <td>5.00</td>\n",
       "      <td>7.00</td>\n",
       "      <td>3.00</td>\n",
       "      <td>6.00</td>\n",
       "      <td>7.00</td>\n",
       "      <td>6.00</td>\n",
       "      <td>4.00</td>\n",
       "      <td>5.00</td>\n",
       "      <td>6.00</td>\n",
       "      <td>5.00</td>\n",
       "      <td>2.00</td>\n",
       "      <td>5.00</td>\n",
       "      <td>6.00</td>\n",
       "    </tr>\n",
       "    <tr>\n",
       "      <th>Total_Intl_Charge</th>\n",
       "      <td>2.70</td>\n",
       "      <td>3.70</td>\n",
       "      <td>3.29</td>\n",
       "      <td>1.78</td>\n",
       "      <td>2.73</td>\n",
       "      <td>1.70</td>\n",
       "      <td>2.03</td>\n",
       "      <td>1.92</td>\n",
       "      <td>2.35</td>\n",
       "      <td>3.02</td>\n",
       "      <td>3.43</td>\n",
       "      <td>2.46</td>\n",
       "      <td>3.02</td>\n",
       "      <td>3.32</td>\n",
       "      <td>3.54</td>\n",
       "    </tr>\n",
       "    <tr>\n",
       "      <th>No_CS_Calls</th>\n",
       "      <td>1.00</td>\n",
       "      <td>1.00</td>\n",
       "      <td>0.00</td>\n",
       "      <td>2.00</td>\n",
       "      <td>3.00</td>\n",
       "      <td>0.00</td>\n",
       "      <td>3.00</td>\n",
       "      <td>0.00</td>\n",
       "      <td>1.00</td>\n",
       "      <td>0.00</td>\n",
       "      <td>4.00</td>\n",
       "      <td>0.00</td>\n",
       "      <td>1.00</td>\n",
       "      <td>3.00</td>\n",
       "      <td>4.00</td>\n",
       "    </tr>\n",
       "    <tr>\n",
       "      <th>OUTPUT_LABEL</th>\n",
       "      <td>0.00</td>\n",
       "      <td>0.00</td>\n",
       "      <td>0.00</td>\n",
       "      <td>0.00</td>\n",
       "      <td>0.00</td>\n",
       "      <td>0.00</td>\n",
       "      <td>0.00</td>\n",
       "      <td>0.00</td>\n",
       "      <td>0.00</td>\n",
       "      <td>0.00</td>\n",
       "      <td>1.00</td>\n",
       "      <td>0.00</td>\n",
       "      <td>0.00</td>\n",
       "      <td>0.00</td>\n",
       "      <td>0.00</td>\n",
       "    </tr>\n",
       "  </tbody>\n",
       "</table>\n",
       "</div>"
      ],
      "text/plain": [
       "                         0       1       2       3       4       5       6   \\\n",
       "International_Plan     0.00    0.00    0.00    1.00    1.00    1.00    0.00   \n",
       "Voice_Mail_Plan        1.00    1.00    0.00    0.00    0.00    0.00    1.00   \n",
       "No_Vmail_Messages     25.00   26.00    0.00    0.00    0.00    0.00   24.00   \n",
       "Total_Day_minutes    265.10  161.60  243.40  299.40  166.70  223.40  218.20   \n",
       "Total_Day_Calls      110.00  123.00  114.00   71.00  113.00   98.00   88.00   \n",
       "Total_Day_charge      45.07   27.47   41.38   50.90   28.34   37.98   37.09   \n",
       "Total_Eve_Minutes    197.40  195.50  121.20   61.90  148.30  220.60  348.50   \n",
       "Total_Eve_Calls       99.00  103.00  110.00   88.00  122.00  101.00  108.00   \n",
       "Total_Eve_Charge      16.78   16.62   10.30    5.26   12.61   18.75   29.62   \n",
       "Total_Night_Minutes  244.70  254.40  162.60  196.90  186.90  203.90  212.60   \n",
       "Total_Night_Calls     91.00  103.00  104.00   89.00  121.00  118.00  118.00   \n",
       "Total_Night_Charge    11.01   11.45    7.32    8.86    8.41    9.18    9.57   \n",
       "Total_Intl_Minutes    10.00   13.70   12.20    6.60   10.10    6.30    7.50   \n",
       "Total_Intl_Calls       3.00    3.00    5.00    7.00    3.00    6.00    7.00   \n",
       "Total_Intl_Charge      2.70    3.70    3.29    1.78    2.73    1.70    2.03   \n",
       "No_CS_Calls            1.00    1.00    0.00    2.00    3.00    0.00    3.00   \n",
       "OUTPUT_LABEL           0.00    0.00    0.00    0.00    0.00    0.00    0.00   \n",
       "\n",
       "                         7       8       9       10      11      12      13  \\\n",
       "International_Plan     1.00    0.00    1.00    0.00    0.00    0.00    0.00   \n",
       "Voice_Mail_Plan        0.00    0.00    1.00    0.00    0.00    0.00    0.00   \n",
       "No_Vmail_Messages      0.00    0.00   37.00    0.00    0.00    0.00    0.00   \n",
       "Total_Day_minutes    157.00  184.50  258.60  129.10  187.70  128.80  156.60   \n",
       "Total_Day_Calls       79.00   97.00   84.00  137.00  127.00   96.00   88.00   \n",
       "Total_Day_charge      26.69   31.37   43.96   21.95   31.91   21.90   26.62   \n",
       "Total_Eve_Minutes    103.10  351.60  222.00  228.50  163.40  104.90  247.60   \n",
       "Total_Eve_Calls       94.00   80.00  111.00   83.00  148.00   71.00   75.00   \n",
       "Total_Eve_Charge       8.76   29.89   18.87   19.42   13.89    8.92   21.05   \n",
       "Total_Night_Minutes  211.80  215.80  326.40  208.80  196.00  141.10  192.30   \n",
       "Total_Night_Calls     96.00   90.00   97.00  111.00   94.00  128.00  115.00   \n",
       "Total_Night_Charge     9.53    9.71   14.69    9.40    8.82    6.35    8.65   \n",
       "Total_Intl_Minutes     7.10    8.70   11.20   12.70    9.10   11.20   12.30   \n",
       "Total_Intl_Calls       6.00    4.00    5.00    6.00    5.00    2.00    5.00   \n",
       "Total_Intl_Charge      1.92    2.35    3.02    3.43    2.46    3.02    3.32   \n",
       "No_CS_Calls            0.00    1.00    0.00    4.00    0.00    1.00    3.00   \n",
       "OUTPUT_LABEL           0.00    0.00    0.00    1.00    0.00    0.00    0.00   \n",
       "\n",
       "                         14  \n",
       "International_Plan     0.00  \n",
       "Voice_Mail_Plan        0.00  \n",
       "No_Vmail_Messages      0.00  \n",
       "Total_Day_minutes    120.70  \n",
       "Total_Day_Calls       70.00  \n",
       "Total_Day_charge      20.52  \n",
       "Total_Eve_Minutes    307.20  \n",
       "Total_Eve_Calls       76.00  \n",
       "Total_Eve_Charge      26.11  \n",
       "Total_Night_Minutes  203.00  \n",
       "Total_Night_Calls     99.00  \n",
       "Total_Night_Charge     9.14  \n",
       "Total_Intl_Minutes    13.10  \n",
       "Total_Intl_Calls       6.00  \n",
       "Total_Intl_Charge      3.54  \n",
       "No_CS_Calls            4.00  \n",
       "OUTPUT_LABEL           0.00  "
      ]
     },
     "execution_count": 34,
     "metadata": {},
     "output_type": "execute_result"
    }
   ],
   "source": [
    "# Lets look at the head so that we can see if we have only one OUTPUT LABEL\n",
    "# Lets Transpose so that we can see all the column and the values at a glance\n",
    "df_data.head(15).T"
   ]
  },
  {
   "cell_type": "markdown",
   "metadata": {},
   "source": [
    "# Building Training/Validation/Test Samples"
   ]
  },
  {
   "cell_type": "markdown",
   "metadata": {},
   "source": [
    "** Q6. In your own words, describe what are training / validation and test samples used for?**"
   ]
  },
  {
   "cell_type": "markdown",
   "metadata": {},
   "source": [
    "Training datasets are set of datasets where we let our model learn from certain set of our historical datasets.\n",
    "\n",
    "Validation datasets are datasets which we hold and keep aside before we train our model with a set of dataset. \n",
    "\n",
    "Test datasets is where we evaluate our model is. how good our Model does in unseen datasets after learning and implying training and validatation datasets.\n",
    "\n",
    "Lets say we have 100 Rows of data X. We will train to build our model using 70-80% of our datasets. Then rest 20% of remaining datasets can be witheld to validate and whatever remains after validate we can choose that percentage to evaluate how good our model is."
   ]
  },
  {
   "cell_type": "markdown",
   "metadata": {},
   "source": [
    "<font size=\"3\"> \n",
    "<div class=\"alert alert-block alert-success\">\n",
    "    \n",
    "The whole Goal of our Project is to find out how can we decrease our Churn ratio so that we can keep our valuable consumers  from loosing and being unhappy so that business is always in profit. So lets train our Model with different condition. We will create some variables for prediction. We will have only numerical features as we have dropped all categorical features while doing feature enginerring.\n",
    "\n",
    "</div>\n",
    "     </font>\n"
   ]
  },
  {
   "cell_type": "code",
   "execution_count": 35,
   "metadata": {},
   "outputs": [
    {
     "name": "stdout",
     "output_type": "stream",
     "text": [
      "<class 'pandas.core.frame.DataFrame'>\n",
      "RangeIndex: 3333 entries, 0 to 3332\n",
      "Data columns (total 19 columns):\n",
      "International_Plan      3333 non-null int64\n",
      "Voice_Mail_Plan         3333 non-null int64\n",
      "No_Vmail_Messages       3333 non-null int64\n",
      "Total_Day_minutes       3333 non-null float64\n",
      "Total_Day_Calls         3333 non-null int64\n",
      "Total_Day_charge        3333 non-null float64\n",
      "Total_Eve_Minutes       3333 non-null float64\n",
      "Total_Eve_Calls         3333 non-null int64\n",
      "Total_Eve_Charge        3333 non-null float64\n",
      "Total_Night_Minutes     3333 non-null float64\n",
      "Total_Night_Calls       3333 non-null int64\n",
      "Total_Night_Charge      3333 non-null float64\n",
      "Total_Intl_Minutes      3333 non-null float64\n",
      "Total_Intl_Calls        3333 non-null int64\n",
      "Total_Intl_Charge       3333 non-null float64\n",
      "No_CS_Calls             3333 non-null int64\n",
      "OUTPUT_LABEL            3333 non-null int64\n",
      "Active_minute           3333 non-null float64\n",
      "Active_minute_charge    3333 non-null float64\n",
      "dtypes: float64(10), int64(9)\n",
      "memory usage: 494.8 KB\n"
     ]
    }
   ],
   "source": [
    "# Lets get Some info about the datasets before we build model\n",
    "# Sanity  check\n",
    "df.info()"
   ]
  },
  {
   "cell_type": "markdown",
   "metadata": {},
   "source": [
    "<font size=\"3\"> \n",
    "<div class=\"alert alert-block alert-success\">\n",
    "\n",
    "So after we did Sanity Check.<br><br>\n",
    "Lets Split our datasets into three categories:<br><br>\n",
    "- Training Set: As name Suggest We will train our Model with 65 % of our datasets<br><br>\n",
    "- Validation Set: We will validate, how better our model does with 20 % of our datasets.<br><br>\n",
    "- Test Set: We will keep 15 % of datasets from our model to test the result and measure our performance.<br><br>\n",
    "\n",
    "So far we have explored our data and created features from the only numerical measure how well your model would do on unseen data. We split into three parts:<br><br>\n",
    "\n",
    "Summary:<br><br>\n",
    "- 70% train<br><br>\n",
    "- 15% validation<br><br>\n",
    "- 15% test.<br><br>\n",
    "\n",
    "Lets Shuffle the Sample so that there is not any particular order that our model learns to decide Churn.\n",
    "Lets keep Positive Sample on top.<br><br>\n",
    "\n",
    "Extract 30% of the data for Validation/ test Split.\n",
    "\n",
    "</div>\n",
    "     </font>"
   ]
  },
  {
   "cell_type": "code",
   "execution_count": 36,
   "metadata": {},
   "outputs": [
    {
     "data": {
      "text/html": [
       "<div>\n",
       "<style scoped>\n",
       "    .dataframe tbody tr th:only-of-type {\n",
       "        vertical-align: middle;\n",
       "    }\n",
       "\n",
       "    .dataframe tbody tr th {\n",
       "        vertical-align: top;\n",
       "    }\n",
       "\n",
       "    .dataframe thead th {\n",
       "        text-align: right;\n",
       "    }\n",
       "</style>\n",
       "<table border=\"1\" class=\"dataframe\">\n",
       "  <thead>\n",
       "    <tr style=\"text-align: right;\">\n",
       "      <th></th>\n",
       "      <th>International_Plan</th>\n",
       "      <th>Voice_Mail_Plan</th>\n",
       "      <th>No_Vmail_Messages</th>\n",
       "      <th>Total_Day_minutes</th>\n",
       "      <th>Total_Day_Calls</th>\n",
       "      <th>Total_Day_charge</th>\n",
       "      <th>Total_Eve_Minutes</th>\n",
       "      <th>Total_Eve_Calls</th>\n",
       "      <th>Total_Eve_Charge</th>\n",
       "      <th>Total_Night_Minutes</th>\n",
       "      <th>Total_Night_Calls</th>\n",
       "      <th>Total_Night_Charge</th>\n",
       "      <th>Total_Intl_Minutes</th>\n",
       "      <th>Total_Intl_Calls</th>\n",
       "      <th>Total_Intl_Charge</th>\n",
       "      <th>No_CS_Calls</th>\n",
       "      <th>OUTPUT_LABEL</th>\n",
       "    </tr>\n",
       "  </thead>\n",
       "  <tbody>\n",
       "    <tr>\n",
       "      <th>0</th>\n",
       "      <td>0</td>\n",
       "      <td>0</td>\n",
       "      <td>0</td>\n",
       "      <td>155.0</td>\n",
       "      <td>93</td>\n",
       "      <td>26.35</td>\n",
       "      <td>330.6</td>\n",
       "      <td>106</td>\n",
       "      <td>28.10</td>\n",
       "      <td>189.4</td>\n",
       "      <td>123</td>\n",
       "      <td>8.52</td>\n",
       "      <td>13.5</td>\n",
       "      <td>3</td>\n",
       "      <td>3.65</td>\n",
       "      <td>1</td>\n",
       "      <td>0</td>\n",
       "    </tr>\n",
       "    <tr>\n",
       "      <th>1</th>\n",
       "      <td>0</td>\n",
       "      <td>0</td>\n",
       "      <td>0</td>\n",
       "      <td>109.1</td>\n",
       "      <td>117</td>\n",
       "      <td>18.55</td>\n",
       "      <td>217.4</td>\n",
       "      <td>124</td>\n",
       "      <td>18.48</td>\n",
       "      <td>188.4</td>\n",
       "      <td>141</td>\n",
       "      <td>8.48</td>\n",
       "      <td>12.8</td>\n",
       "      <td>6</td>\n",
       "      <td>3.46</td>\n",
       "      <td>0</td>\n",
       "      <td>0</td>\n",
       "    </tr>\n",
       "    <tr>\n",
       "      <th>2</th>\n",
       "      <td>0</td>\n",
       "      <td>0</td>\n",
       "      <td>0</td>\n",
       "      <td>0.0</td>\n",
       "      <td>0</td>\n",
       "      <td>0.00</td>\n",
       "      <td>159.6</td>\n",
       "      <td>130</td>\n",
       "      <td>13.57</td>\n",
       "      <td>167.1</td>\n",
       "      <td>88</td>\n",
       "      <td>7.52</td>\n",
       "      <td>6.8</td>\n",
       "      <td>1</td>\n",
       "      <td>1.84</td>\n",
       "      <td>4</td>\n",
       "      <td>1</td>\n",
       "    </tr>\n",
       "    <tr>\n",
       "      <th>3</th>\n",
       "      <td>0</td>\n",
       "      <td>0</td>\n",
       "      <td>0</td>\n",
       "      <td>212.8</td>\n",
       "      <td>79</td>\n",
       "      <td>36.18</td>\n",
       "      <td>204.1</td>\n",
       "      <td>91</td>\n",
       "      <td>17.35</td>\n",
       "      <td>156.2</td>\n",
       "      <td>113</td>\n",
       "      <td>7.03</td>\n",
       "      <td>10.2</td>\n",
       "      <td>2</td>\n",
       "      <td>2.75</td>\n",
       "      <td>1</td>\n",
       "      <td>0</td>\n",
       "    </tr>\n",
       "    <tr>\n",
       "      <th>4</th>\n",
       "      <td>0</td>\n",
       "      <td>0</td>\n",
       "      <td>0</td>\n",
       "      <td>144.0</td>\n",
       "      <td>102</td>\n",
       "      <td>24.48</td>\n",
       "      <td>224.7</td>\n",
       "      <td>73</td>\n",
       "      <td>19.10</td>\n",
       "      <td>227.7</td>\n",
       "      <td>91</td>\n",
       "      <td>10.25</td>\n",
       "      <td>10.0</td>\n",
       "      <td>7</td>\n",
       "      <td>2.70</td>\n",
       "      <td>1</td>\n",
       "      <td>0</td>\n",
       "    </tr>\n",
       "  </tbody>\n",
       "</table>\n",
       "</div>"
      ],
      "text/plain": [
       "   International_Plan  Voice_Mail_Plan  No_Vmail_Messages  Total_Day_minutes  \\\n",
       "0                   0                0                  0              155.0   \n",
       "1                   0                0                  0              109.1   \n",
       "2                   0                0                  0                0.0   \n",
       "3                   0                0                  0              212.8   \n",
       "4                   0                0                  0              144.0   \n",
       "\n",
       "   Total_Day_Calls  Total_Day_charge  Total_Eve_Minutes  Total_Eve_Calls  \\\n",
       "0               93             26.35              330.6              106   \n",
       "1              117             18.55              217.4              124   \n",
       "2                0              0.00              159.6              130   \n",
       "3               79             36.18              204.1               91   \n",
       "4              102             24.48              224.7               73   \n",
       "\n",
       "   Total_Eve_Charge  Total_Night_Minutes  Total_Night_Calls  \\\n",
       "0             28.10                189.4                123   \n",
       "1             18.48                188.4                141   \n",
       "2             13.57                167.1                 88   \n",
       "3             17.35                156.2                113   \n",
       "4             19.10                227.7                 91   \n",
       "\n",
       "   Total_Night_Charge  Total_Intl_Minutes  Total_Intl_Calls  \\\n",
       "0                8.52                13.5                 3   \n",
       "1                8.48                12.8                 6   \n",
       "2                7.52                 6.8                 1   \n",
       "3                7.03                10.2                 2   \n",
       "4               10.25                10.0                 7   \n",
       "\n",
       "   Total_Intl_Charge  No_CS_Calls  OUTPUT_LABEL  \n",
       "0               3.65            1             0  \n",
       "1               3.46            0             0  \n",
       "2               1.84            4             1  \n",
       "3               2.75            1             0  \n",
       "4               2.70            1             0  "
      ]
     },
     "execution_count": 36,
     "metadata": {},
     "output_type": "execute_result"
    }
   ],
   "source": [
    "# shuffle the samples\n",
    "df_data = df_data.sample(n = len(df_data), random_state = 42)\n",
    "df_data = df_data.reset_index(drop = True)\n",
    "df_data.head()"
   ]
  },
  {
   "cell_type": "markdown",
   "metadata": {},
   "source": [
    "** Q7. Create a training (df_train_all), validation (df_valid) and test (df_test) set.**"
   ]
  },
  {
   "cell_type": "markdown",
   "metadata": {},
   "source": [
    "In below steps we will createtraining (df_train_all), validation (df_valid) and test (df_test) set."
   ]
  },
  {
   "cell_type": "code",
   "execution_count": 37,
   "metadata": {},
   "outputs": [
    {
     "name": "stdout",
     "output_type": "stream",
     "text": [
      "Split size: 0.350\n"
     ]
    }
   ],
   "source": [
    "# Save 30% of the data as validation and test data \n",
    "df_valid_test=df_data.sample(frac=0.35,random_state=42)\n",
    "\n",
    "print('Split size: %.3f'%(len(df_valid_test)/len(df_data)))"
   ]
  },
  {
   "cell_type": "markdown",
   "metadata": {},
   "source": [
    "<font size=\"3\"> \n",
    "<div class=\"alert alert-block alert-success\">\n",
    "\n",
    "And now split into test and validation using 37% fraction. \n",
    "</div>\n",
    "     </font>"
   ]
  },
  {
   "cell_type": "code",
   "execution_count": 38,
   "metadata": {},
   "outputs": [],
   "source": [
    "df_test = df_valid_test.sample(frac = 0.37, random_state = 42)\n",
    "df_valid = df_valid_test.drop(df_test.index)"
   ]
  },
  {
   "cell_type": "markdown",
   "metadata": {},
   "source": [
    "\n",
    "<font size=\"3\"> \n",
    "<div class=\"alert alert-block alert-success\">\n",
    "Lets drop rows from our df_test datasets so that those row will never be part of our training or validating sample.\n",
    " \n",
    "</div>\n",
    "     </font>"
   ]
  },
  {
   "cell_type": "code",
   "execution_count": 39,
   "metadata": {},
   "outputs": [],
   "source": [
    "# use the rest of the data as training data\n",
    "df_train_all=df_data.drop(df_valid_test.index)"
   ]
  },
  {
   "cell_type": "markdown",
   "metadata": {},
   "source": [
    "<font size=\"3\"> \n",
    "<div class=\"alert alert-block alert-success\">\n",
    "\n",
    "After dropping the rows lets calculate the Prevelance Score.\n",
    "If the prevelance score is close for test sets, validated sets and train sets the model is more better than having huge disparancies.\n",
    "</div>\n",
    "     </font>\n"
   ]
  },
  {
   "cell_type": "code",
   "execution_count": 40,
   "metadata": {},
   "outputs": [
    {
     "name": "stdout",
     "output_type": "stream",
     "text": [
      "0.13657407407407407\n",
      "0.1306122448979592\n",
      "0.15143120960295475\n"
     ]
    }
   ],
   "source": [
    "print(calc_prevalence(df_test.OUTPUT_LABEL.values))\n",
    "print(calc_prevalence(df_valid.OUTPUT_LABEL.values))\n",
    "print(calc_prevalence(df_train_all.OUTPUT_LABEL.values))"
   ]
  },
  {
   "cell_type": "markdown",
   "metadata": {},
   "source": [
    "<font size=\"3\"> \n",
    "<div class=\"alert alert-block alert-success\">\n",
    "    \n",
    "By tweaking more or less I can come close to 0.136 for test Output Labels  and 0.130 for validate output Labels and for the training Output labels it came close to 0.151. I think these is the best i can come with splitting into validate and test sets.\n",
    "</div>\n",
    "     </font>"
   ]
  },
  {
   "cell_type": "code",
   "execution_count": 41,
   "metadata": {},
   "outputs": [
    {
     "name": "stdout",
     "output_type": "stream",
     "text": [
      "432\n",
      "735\n",
      "2166\n"
     ]
    }
   ],
   "source": [
    "print(len(df_test)) # lets print the length of train category\n",
    "print(len(df_valid))   # lets print the length of validate category\n",
    "print(len(df_train_all))  # lets print the length of train all category"
   ]
  },
  {
   "cell_type": "code",
   "execution_count": 42,
   "metadata": {},
   "outputs": [
    {
     "name": "stdout",
     "output_type": "stream",
     "text": [
      "Test prevalence(n = 432):0.137\n",
      "Valid prevalence(n = 735):0.131\n",
      "Train all prevalence(n = 2166):0.151\n"
     ]
    }
   ],
   "source": [
    "print(\"Test prevalence(n = %d):%.3f\"%(len(df_test),calc_prevalence(df_test.OUTPUT_LABEL.values)))\n",
    "print('Valid prevalence(n = %d):%.3f'%(len(df_valid),calc_prevalence(df_valid.OUTPUT_LABEL.values)))\n",
    "print('Train all prevalence(n = %d):%.3f'%(len(df_train_all), calc_prevalence(df_train_all.OUTPUT_LABEL.values)))"
   ]
  },
  {
   "cell_type": "code",
   "execution_count": 43,
   "metadata": {},
   "outputs": [
    {
     "name": "stdout",
     "output_type": "stream",
     "text": [
      "all samples (n = 3333)\n"
     ]
    }
   ],
   "source": [
    "print('all samples (n = %d)'%len(df_data))\n",
    "assert len(df_data) == (len(df_test)+len(df_valid)+len(df_train_all)),'math did work but why?'"
   ]
  },
  {
   "cell_type": "markdown",
   "metadata": {},
   "source": [
    "** Q8. Take your df_train_all and create a balanced dataset. Briefly explain in your own words why we need to balance and a few techniques for balancing the dataset.**"
   ]
  },
  {
   "cell_type": "markdown",
   "metadata": {},
   "source": [
    "Imbalance data: Where number of Observation is not equal. <br>\n",
    "In Practical case scenario these is very common. <br>\n",
    "None of the datasets come with balance ratio of positive and negative.<br>  \n",
    "There are some ways to prevent the unbalance datasets . <br>\n",
    "We learn in Week 2.<br>\n",
    "Some of those techniques are undersampling (Removal of some data), oversampling (increase numbers of minority class in your datasets), synthetic data generation and cost sensitive learning.<br>\n",
    "Balanced data will lead the model to be not bias on majority and let treat all column equally. If we have one dominate class of 90 % then our model will be biased stating True and get right atleast 90%.But if we have balanced our datasets before training. The results and output are not skewed because of Unbalanced datasets to begin with."
   ]
  },
  {
   "cell_type": "code",
   "execution_count": 44,
   "metadata": {},
   "outputs": [
    {
     "name": "stdout",
     "output_type": "stream",
     "text": [
      "Train balanced prevalence(n = 656):0.500\n"
     ]
    }
   ],
   "source": [
    "# split the training data into positive and negative\n",
    "rows_pos = df_train_all.OUTPUT_LABEL == 1\n",
    "df_train_pos = df_train_all.loc[rows_pos]\n",
    "df_train_neg = df_train_all.loc[~rows_pos]\n",
    "\n",
    "# merge the balanced data\n",
    "df_train = pd.concat([df_train_pos, df_train_neg.sample(n = len(df_train_pos), random_state = 42)],axis = 0)\n",
    "\n",
    "# shuffle the order of training samples \n",
    "df_train = df_train.sample(n = len(df_train), random_state = 42).reset_index(drop = True)\n",
    "\n",
    "print('Train balanced prevalence(n = %d):%.3f'%(len(df_train), calc_prevalence(df_train.OUTPUT_LABEL.values)))"
   ]
  },
  {
   "cell_type": "markdown",
   "metadata": {},
   "source": [
    "**Q9. Save all 4 dataframes to csv and the cols_input**"
   ]
  },
  {
   "cell_type": "code",
   "execution_count": 45,
   "metadata": {},
   "outputs": [],
   "source": [
    "df_train_all.to_csv('df_train_all.csv',index=False)\n",
    "df_train.to_csv('df_train.csv',index=False)\n",
    "df_valid.to_csv('df_valid.csv',index=False)\n",
    "df_test.to_csv('df_test.csv',index=False)"
   ]
  },
  {
   "cell_type": "markdown",
   "metadata": {},
   "source": [
    "** Q10.fill any missing values with the mean value.**"
   ]
  },
  {
   "cell_type": "markdown",
   "metadata": {},
   "source": [
    "We don't have any Missing Variables so we don't need to do this step."
   ]
  },
  {
   "cell_type": "code",
   "execution_count": 46,
   "metadata": {},
   "outputs": [],
   "source": [
    "import pickle\n",
    "pickle.dump(cols_input, open('cols_input.sav', 'wb'))"
   ]
  },
  {
   "cell_type": "code",
   "execution_count": 47,
   "metadata": {},
   "outputs": [],
   "source": [
    "def fill_my_missing(df, df_mean, col2use):\n",
    "    # This function fills the missing values\n",
    "\n",
    "    # check the columns are present\n",
    "    for c in col2use:\n",
    "        assert c in df.columns, c + ' not in df'\n",
    "        assert c in df_mean.col.values, c+ 'not in df_mean'\n",
    "    \n",
    "    # replace the mean \n",
    "    for c in col2use:\n",
    "        mean_value = df_mean.loc[df_mean.col == c,'mean_val'].values[0]\n",
    "        df[c] = df[c].fillna(mean_value)\n",
    "    return df"
   ]
  },
  {
   "cell_type": "code",
   "execution_count": 48,
   "metadata": {},
   "outputs": [],
   "source": [
    "df_mean = df_train_all[cols_input].mean(axis = 0)\n",
    "# save the means\n",
    "df_mean.to_csv('df_mean.csv',index=True)"
   ]
  },
  {
   "cell_type": "code",
   "execution_count": 49,
   "metadata": {},
   "outputs": [
    {
     "data": {
      "text/html": [
       "<div>\n",
       "<style scoped>\n",
       "    .dataframe tbody tr th:only-of-type {\n",
       "        vertical-align: middle;\n",
       "    }\n",
       "\n",
       "    .dataframe tbody tr th {\n",
       "        vertical-align: top;\n",
       "    }\n",
       "\n",
       "    .dataframe thead th {\n",
       "        text-align: right;\n",
       "    }\n",
       "</style>\n",
       "<table border=\"1\" class=\"dataframe\">\n",
       "  <thead>\n",
       "    <tr style=\"text-align: right;\">\n",
       "      <th></th>\n",
       "      <th>col</th>\n",
       "      <th>mean_val</th>\n",
       "    </tr>\n",
       "  </thead>\n",
       "  <tbody>\n",
       "    <tr>\n",
       "      <th>0</th>\n",
       "      <td>International_Plan</td>\n",
       "      <td>0.104801</td>\n",
       "    </tr>\n",
       "    <tr>\n",
       "      <th>1</th>\n",
       "      <td>Voice_Mail_Plan</td>\n",
       "      <td>0.278393</td>\n",
       "    </tr>\n",
       "    <tr>\n",
       "      <th>2</th>\n",
       "      <td>No_Vmail_Messages</td>\n",
       "      <td>8.185134</td>\n",
       "    </tr>\n",
       "    <tr>\n",
       "      <th>3</th>\n",
       "      <td>Total_Day_minutes</td>\n",
       "      <td>179.106602</td>\n",
       "    </tr>\n",
       "    <tr>\n",
       "      <th>4</th>\n",
       "      <td>Total_Day_Calls</td>\n",
       "      <td>100.117729</td>\n",
       "    </tr>\n",
       "  </tbody>\n",
       "</table>\n",
       "</div>"
      ],
      "text/plain": [
       "                  col    mean_val\n",
       "0  International_Plan    0.104801\n",
       "1     Voice_Mail_Plan    0.278393\n",
       "2   No_Vmail_Messages    8.185134\n",
       "3   Total_Day_minutes  179.106602\n",
       "4     Total_Day_Calls  100.117729"
      ]
     },
     "execution_count": 49,
     "metadata": {},
     "output_type": "execute_result"
    }
   ],
   "source": [
    "# load the means so we know how to do it for the test data\n",
    "df_mean_in = pd.read_csv('df_mean.csv', names =['col','mean_val'])\n",
    "df_mean_in.head()"
   ]
  },
  {
   "cell_type": "code",
   "execution_count": 50,
   "metadata": {},
   "outputs": [
    {
     "name": "stdout",
     "output_type": "stream",
     "text": [
      "Training All shapes: (2166, 16)\n",
      "Training shapes: (656, 16) (656,)\n",
      "Validation shapes: (735, 16) (735,)\n"
     ]
    }
   ],
   "source": [
    "# Most machine learning packages like to use an input matrix X and output vector y, so let's create those:\n",
    "X_train = df_train[cols_input].values\n",
    "X_train_all = df_train_all[cols_input].values\n",
    "X_valid = df_valid[cols_input].values\n",
    "\n",
    "y_train = df_train['OUTPUT_LABEL'].values\n",
    "y_valid = df_valid['OUTPUT_LABEL'].values\n",
    "\n",
    "print('Training All shapes:',X_train_all.shape)\n",
    "print('Training shapes:',X_train.shape, y_train.shape)\n",
    "print('Validation shapes:',X_valid.shape, y_valid.shape)"
   ]
  },
  {
   "cell_type": "markdown",
   "metadata": {},
   "source": [
    "<font size=\"3\"> \n",
    "<div class=\"alert alert-block alert-success\">\n",
    "    \n",
    "After looking at the output we might need to scale our data so that we by doing Standard Scale we can remove mean and scale variance.\n",
    "    </div>\n",
    "     </font>"
   ]
  },
  {
   "cell_type": "markdown",
   "metadata": {},
   "source": [
    "**Q11. create a scalar, save it, and scale the X matrices**"
   ]
  },
  {
   "cell_type": "code",
   "execution_count": 51,
   "metadata": {},
   "outputs": [
    {
     "data": {
      "text/plain": [
       "StandardScaler(copy=True, with_mean=True, with_std=True)"
      ]
     },
     "execution_count": 51,
     "metadata": {},
     "output_type": "execute_result"
    }
   ],
   "source": [
    "from sklearn.preprocessing import StandardScaler\n",
    "scaler  = StandardScaler()\n",
    "scaler.fit(X_train_all)"
   ]
  },
  {
   "cell_type": "code",
   "execution_count": 52,
   "metadata": {},
   "outputs": [],
   "source": [
    "# We will need this scaler for the test data, so let's save it using a package called pickle.\n",
    "scalerfile = 'scaler.sav'\n",
    "pickle.dump(scaler, open(scalerfile, 'wb'))"
   ]
  },
  {
   "cell_type": "code",
   "execution_count": 53,
   "metadata": {},
   "outputs": [],
   "source": [
    "# load it back\n",
    "scaler = pickle.load(open(scalerfile, 'rb'))"
   ]
  },
  {
   "cell_type": "code",
   "execution_count": 54,
   "metadata": {},
   "outputs": [],
   "source": [
    "# transform our data matrices\n",
    "X_train_tf = scaler.transform(X_train)\n",
    "X_valid_tf = scaler.transform(X_valid)"
   ]
  },
  {
   "cell_type": "markdown",
   "metadata": {},
   "source": [
    "# Model Selection¶"
   ]
  },
  {
   "cell_type": "markdown",
   "metadata": {},
   "source": [
    "**Q12. Briefly describe what this section does. It will change as we learn more about machine learning.**"
   ]
  },
  {
   "cell_type": "markdown",
   "metadata": {},
   "source": [
    "\n",
    "<font size=\"3\"> \n",
    "<div class=\"alert alert-block alert-success\">\n",
    "    \n",
    "Model Selection is very important to select based on our category.<br> <br>\n",
    "As we have spend most of our time in data cleaning, munging. <br> <br>\n",
    "Training our model with limited datasets and then validating it.<br> <br>\n",
    "\n",
    "Now its time to train few of the popular Model and do some fine tunning to boost the performance. \n",
    "\n",
    "</div>\n",
    "     </font>"
   ]
  },
  {
   "cell_type": "code",
   "execution_count": 55,
   "metadata": {},
   "outputs": [],
   "source": [
    "from sklearn.metrics import roc_auc_score, accuracy_score, precision_score, recall_score\n",
    "def calc_specificity(y_actual, y_pred, thresh):\n",
    "    # calculates specificity\n",
    "    return sum((y_pred < thresh) & (y_actual == 0)) /sum(y_actual ==0)\n",
    "\n",
    "def print_report(y_actual, y_pred, thresh):\n",
    "    \n",
    "    auc = roc_auc_score(y_actual, y_pred)\n",
    "    accuracy = accuracy_score(y_actual, (y_pred > thresh))\n",
    "    recall = recall_score(y_actual, (y_pred > thresh))\n",
    "    precision = precision_score(y_actual, (y_pred > thresh))\n",
    "    specificity = calc_specificity(y_actual, y_pred, thresh)\n",
    "    print('AUC:%.3f'%auc)\n",
    "    print('accuracy:%.3f'%accuracy)\n",
    "    print('recall:%.3f'%recall)\n",
    "    print('precision:%.3f'%precision)\n",
    "    print('specificity:%.3f'%specificity)\n",
    "    print('prevalence:%.3f'%calc_prevalence(y_actual))\n",
    "    print(' ')\n",
    "    return auc, accuracy, recall, precision, specificity "
   ]
  },
  {
   "cell_type": "markdown",
   "metadata": {},
   "source": [
    "**Q13. Since we balanced our training data, let's set our threshold at 0.5 to label a predicted sample as positive.**"
   ]
  },
  {
   "cell_type": "markdown",
   "metadata": {},
   "source": [
    "\n",
    "### Setting threshold to 0.5  to label a predicted sample as positive.\n"
   ]
  },
  {
   "cell_type": "code",
   "execution_count": 56,
   "metadata": {},
   "outputs": [],
   "source": [
    "thresh = 0.5"
   ]
  },
  {
   "cell_type": "markdown",
   "metadata": {},
   "source": [
    "# Model Selection: baseline models"
   ]
  },
  {
   "cell_type": "markdown",
   "metadata": {},
   "source": [
    "<font size=\"3\"> \n",
    "<div class=\"alert alert-block alert-success\">\n",
    "    \n",
    "Lets test all 7 Models that we learn as part of predictive Analytics class to test the models and see which one will be best to use. <br><br>\n",
    "\n",
    "For all our Models we will keep default parameters and then after looking  at the result we will see by tweaking some of the parameters if we can get some best results. But for now we will keep default parameters.<br><br>\n",
    "\n",
    "</div>\n",
    "     </font>"
   ]
  },
  {
   "cell_type": "markdown",
   "metadata": {},
   "source": [
    "# 1. K nearest neighbors (KNN)"
   ]
  },
  {
   "cell_type": "markdown",
   "metadata": {},
   "source": [
    "![title](https://www.python-course.eu/images/nearest_neighbor_people.png)\n",
    "\n",
    "<div style=\"text-align: right\">**Image Source: https://www.python-course.eu/images/nearest_neighbor_people** </div>\n"
   ]
  },
  {
   "cell_type": "markdown",
   "metadata": {},
   "source": [
    "** Q14. Briefly describe how KNN works in your own words.**"
   ]
  },
  {
   "cell_type": "markdown",
   "metadata": {},
   "source": [
    "<font size=\"3\"> \n",
    "<div class=\"alert alert-block alert-success\">\n",
    "    \n",
    "Simplest Classification Algorithm  as it is consumes less time and easy to built in and to intepret its result.<br><br>\n",
    "Often called as Lazy learning Algorithm which is good place to start.<br><br>\n",
    "It is known for not making any assumption of our underlying datasets.<br><br>\n",
    "Beside its little complex Math it needs very minimal training even before we validate our dataset. Could be taken as benchmark to build other models and Compare.<br><br>\n",
    "\n",
    "Based on our K value parameter our results will change. It is nothing but can be taken as average of all the numerical targets to closet Neighbors.<br><br>\n",
    "\n",
    "</div>\n",
    "     </font>\n",
    " "
   ]
  },
  {
   "cell_type": "markdown",
   "metadata": {},
   "source": [
    "** Q15. Train a KNN and evaluate performance**"
   ]
  },
  {
   "cell_type": "code",
   "execution_count": 57,
   "metadata": {},
   "outputs": [
    {
     "data": {
      "text/plain": [
       "KNeighborsClassifier(algorithm='auto', leaf_size=30, metric='minkowski',\n",
       "           metric_params=None, n_jobs=None, n_neighbors=100, p=2,\n",
       "           weights='uniform')"
      ]
     },
     "execution_count": 57,
     "metadata": {},
     "output_type": "execute_result"
    }
   ],
   "source": [
    "# k-nearest neighbors\n",
    "from sklearn.neighbors import KNeighborsClassifier\n",
    "knn=KNeighborsClassifier(n_neighbors = 100)\n",
    "knn.fit(X_train_tf, y_train)"
   ]
  },
  {
   "cell_type": "code",
   "execution_count": 58,
   "metadata": {},
   "outputs": [
    {
     "name": "stdout",
     "output_type": "stream",
     "text": [
      "KNN\n",
      "Training:\n",
      "AUC:0.887\n",
      "accuracy:0.785\n",
      "recall:0.634\n",
      "precision:0.908\n",
      "specificity:0.927\n",
      "prevalence:0.500\n",
      " \n",
      "Validation:\n",
      "AUC:0.864\n",
      "accuracy:0.882\n",
      "recall:0.708\n",
      "precision:0.535\n",
      "specificity:0.900\n",
      "prevalence:0.131\n",
      " \n"
     ]
    }
   ],
   "source": [
    "y_train_preds = knn.predict_proba(X_train_tf)[:,1]\n",
    "y_valid_preds = knn.predict_proba(X_valid_tf)[:,1]\n",
    "\n",
    "print('KNN')\n",
    "print('Training:')\n",
    "knn_train_auc, knn_train_accuracy, knn_train_recall, \\\n",
    "    knn_train_precision, knn_train_specificity = print_report(y_train,y_train_preds, thresh)\n",
    "print('Validation:')\n",
    "knn_valid_auc, knn_valid_accuracy, knn_valid_recall, \\\n",
    "    knn_valid_precision, knn_valid_specificity = print_report(y_valid,y_valid_preds, thresh)"
   ]
  },
  {
   "cell_type": "markdown",
   "metadata": {},
   "source": [
    "<font size=\"3\"> \n",
    "<div class=\"alert alert-block alert-success\">\n",
    "    \n",
    "    \n",
    "__Our First Model : KNN Analysis__ <br> <br>\n",
    "    We have AUC 0.88 % in Training Datasets whereas we have less AUC score in Our validation datasets.It decrease by 0.02%. If we compare Accuracy then it has definetly gone up from 78 % to 88%.<br> <br>\n",
    "    In validation datasets it is being more accuarte about it. Also Precision has dropped from 0.90 to 0.535. When it predicts the positive result, how often is it correct?  <br> <br>\n",
    "    We Must also Remember that we have set our treshold datasets to 0.5 <br> <br>\n",
    "    Lets see if any other variables have any correlation for future model fine tunning.\n",
    "    \n",
    "    </div>\n",
    "     </font>\n",
    " "
   ]
  },
  {
   "cell_type": "code",
   "execution_count": 59,
   "metadata": {},
   "outputs": [
    {
     "data": {
      "text/html": [
       "<div>\n",
       "<style scoped>\n",
       "    .dataframe tbody tr th:only-of-type {\n",
       "        vertical-align: middle;\n",
       "    }\n",
       "\n",
       "    .dataframe tbody tr th {\n",
       "        vertical-align: top;\n",
       "    }\n",
       "\n",
       "    .dataframe thead th {\n",
       "        text-align: right;\n",
       "    }\n",
       "</style>\n",
       "<table border=\"1\" class=\"dataframe\">\n",
       "  <thead>\n",
       "    <tr style=\"text-align: right;\">\n",
       "      <th></th>\n",
       "      <th>0</th>\n",
       "      <th>1</th>\n",
       "      <th>2</th>\n",
       "      <th>3</th>\n",
       "      <th>4</th>\n",
       "      <th>5</th>\n",
       "      <th>6</th>\n",
       "      <th>7</th>\n",
       "      <th>8</th>\n",
       "      <th>9</th>\n",
       "      <th>10</th>\n",
       "      <th>11</th>\n",
       "      <th>12</th>\n",
       "      <th>13</th>\n",
       "      <th>14</th>\n",
       "    </tr>\n",
       "  </thead>\n",
       "  <tbody>\n",
       "    <tr>\n",
       "      <th>International_Plan</th>\n",
       "      <td>0.00</td>\n",
       "      <td>0.00</td>\n",
       "      <td>0.00</td>\n",
       "      <td>1.00</td>\n",
       "      <td>1.00</td>\n",
       "      <td>1.00</td>\n",
       "      <td>0.00</td>\n",
       "      <td>1.00</td>\n",
       "      <td>0.00</td>\n",
       "      <td>1.00</td>\n",
       "      <td>0.00</td>\n",
       "      <td>0.00</td>\n",
       "      <td>0.00</td>\n",
       "      <td>0.00</td>\n",
       "      <td>0.00</td>\n",
       "    </tr>\n",
       "    <tr>\n",
       "      <th>Voice_Mail_Plan</th>\n",
       "      <td>1.00</td>\n",
       "      <td>1.00</td>\n",
       "      <td>0.00</td>\n",
       "      <td>0.00</td>\n",
       "      <td>0.00</td>\n",
       "      <td>0.00</td>\n",
       "      <td>1.00</td>\n",
       "      <td>0.00</td>\n",
       "      <td>0.00</td>\n",
       "      <td>1.00</td>\n",
       "      <td>0.00</td>\n",
       "      <td>0.00</td>\n",
       "      <td>0.00</td>\n",
       "      <td>0.00</td>\n",
       "      <td>0.00</td>\n",
       "    </tr>\n",
       "    <tr>\n",
       "      <th>No_Vmail_Messages</th>\n",
       "      <td>25.00</td>\n",
       "      <td>26.00</td>\n",
       "      <td>0.00</td>\n",
       "      <td>0.00</td>\n",
       "      <td>0.00</td>\n",
       "      <td>0.00</td>\n",
       "      <td>24.00</td>\n",
       "      <td>0.00</td>\n",
       "      <td>0.00</td>\n",
       "      <td>37.00</td>\n",
       "      <td>0.00</td>\n",
       "      <td>0.00</td>\n",
       "      <td>0.00</td>\n",
       "      <td>0.00</td>\n",
       "      <td>0.00</td>\n",
       "    </tr>\n",
       "    <tr>\n",
       "      <th>Total_Day_minutes</th>\n",
       "      <td>265.10</td>\n",
       "      <td>161.60</td>\n",
       "      <td>243.40</td>\n",
       "      <td>299.40</td>\n",
       "      <td>166.70</td>\n",
       "      <td>223.40</td>\n",
       "      <td>218.20</td>\n",
       "      <td>157.00</td>\n",
       "      <td>184.50</td>\n",
       "      <td>258.60</td>\n",
       "      <td>129.10</td>\n",
       "      <td>187.70</td>\n",
       "      <td>128.80</td>\n",
       "      <td>156.60</td>\n",
       "      <td>120.70</td>\n",
       "    </tr>\n",
       "    <tr>\n",
       "      <th>Total_Day_Calls</th>\n",
       "      <td>110.00</td>\n",
       "      <td>123.00</td>\n",
       "      <td>114.00</td>\n",
       "      <td>71.00</td>\n",
       "      <td>113.00</td>\n",
       "      <td>98.00</td>\n",
       "      <td>88.00</td>\n",
       "      <td>79.00</td>\n",
       "      <td>97.00</td>\n",
       "      <td>84.00</td>\n",
       "      <td>137.00</td>\n",
       "      <td>127.00</td>\n",
       "      <td>96.00</td>\n",
       "      <td>88.00</td>\n",
       "      <td>70.00</td>\n",
       "    </tr>\n",
       "    <tr>\n",
       "      <th>Total_Day_charge</th>\n",
       "      <td>45.07</td>\n",
       "      <td>27.47</td>\n",
       "      <td>41.38</td>\n",
       "      <td>50.90</td>\n",
       "      <td>28.34</td>\n",
       "      <td>37.98</td>\n",
       "      <td>37.09</td>\n",
       "      <td>26.69</td>\n",
       "      <td>31.37</td>\n",
       "      <td>43.96</td>\n",
       "      <td>21.95</td>\n",
       "      <td>31.91</td>\n",
       "      <td>21.90</td>\n",
       "      <td>26.62</td>\n",
       "      <td>20.52</td>\n",
       "    </tr>\n",
       "    <tr>\n",
       "      <th>Total_Eve_Minutes</th>\n",
       "      <td>197.40</td>\n",
       "      <td>195.50</td>\n",
       "      <td>121.20</td>\n",
       "      <td>61.90</td>\n",
       "      <td>148.30</td>\n",
       "      <td>220.60</td>\n",
       "      <td>348.50</td>\n",
       "      <td>103.10</td>\n",
       "      <td>351.60</td>\n",
       "      <td>222.00</td>\n",
       "      <td>228.50</td>\n",
       "      <td>163.40</td>\n",
       "      <td>104.90</td>\n",
       "      <td>247.60</td>\n",
       "      <td>307.20</td>\n",
       "    </tr>\n",
       "    <tr>\n",
       "      <th>Total_Eve_Calls</th>\n",
       "      <td>99.00</td>\n",
       "      <td>103.00</td>\n",
       "      <td>110.00</td>\n",
       "      <td>88.00</td>\n",
       "      <td>122.00</td>\n",
       "      <td>101.00</td>\n",
       "      <td>108.00</td>\n",
       "      <td>94.00</td>\n",
       "      <td>80.00</td>\n",
       "      <td>111.00</td>\n",
       "      <td>83.00</td>\n",
       "      <td>148.00</td>\n",
       "      <td>71.00</td>\n",
       "      <td>75.00</td>\n",
       "      <td>76.00</td>\n",
       "    </tr>\n",
       "    <tr>\n",
       "      <th>Total_Eve_Charge</th>\n",
       "      <td>16.78</td>\n",
       "      <td>16.62</td>\n",
       "      <td>10.30</td>\n",
       "      <td>5.26</td>\n",
       "      <td>12.61</td>\n",
       "      <td>18.75</td>\n",
       "      <td>29.62</td>\n",
       "      <td>8.76</td>\n",
       "      <td>29.89</td>\n",
       "      <td>18.87</td>\n",
       "      <td>19.42</td>\n",
       "      <td>13.89</td>\n",
       "      <td>8.92</td>\n",
       "      <td>21.05</td>\n",
       "      <td>26.11</td>\n",
       "    </tr>\n",
       "    <tr>\n",
       "      <th>Total_Night_Minutes</th>\n",
       "      <td>244.70</td>\n",
       "      <td>254.40</td>\n",
       "      <td>162.60</td>\n",
       "      <td>196.90</td>\n",
       "      <td>186.90</td>\n",
       "      <td>203.90</td>\n",
       "      <td>212.60</td>\n",
       "      <td>211.80</td>\n",
       "      <td>215.80</td>\n",
       "      <td>326.40</td>\n",
       "      <td>208.80</td>\n",
       "      <td>196.00</td>\n",
       "      <td>141.10</td>\n",
       "      <td>192.30</td>\n",
       "      <td>203.00</td>\n",
       "    </tr>\n",
       "    <tr>\n",
       "      <th>Total_Night_Calls</th>\n",
       "      <td>91.00</td>\n",
       "      <td>103.00</td>\n",
       "      <td>104.00</td>\n",
       "      <td>89.00</td>\n",
       "      <td>121.00</td>\n",
       "      <td>118.00</td>\n",
       "      <td>118.00</td>\n",
       "      <td>96.00</td>\n",
       "      <td>90.00</td>\n",
       "      <td>97.00</td>\n",
       "      <td>111.00</td>\n",
       "      <td>94.00</td>\n",
       "      <td>128.00</td>\n",
       "      <td>115.00</td>\n",
       "      <td>99.00</td>\n",
       "    </tr>\n",
       "    <tr>\n",
       "      <th>Total_Night_Charge</th>\n",
       "      <td>11.01</td>\n",
       "      <td>11.45</td>\n",
       "      <td>7.32</td>\n",
       "      <td>8.86</td>\n",
       "      <td>8.41</td>\n",
       "      <td>9.18</td>\n",
       "      <td>9.57</td>\n",
       "      <td>9.53</td>\n",
       "      <td>9.71</td>\n",
       "      <td>14.69</td>\n",
       "      <td>9.40</td>\n",
       "      <td>8.82</td>\n",
       "      <td>6.35</td>\n",
       "      <td>8.65</td>\n",
       "      <td>9.14</td>\n",
       "    </tr>\n",
       "    <tr>\n",
       "      <th>Total_Intl_Minutes</th>\n",
       "      <td>10.00</td>\n",
       "      <td>13.70</td>\n",
       "      <td>12.20</td>\n",
       "      <td>6.60</td>\n",
       "      <td>10.10</td>\n",
       "      <td>6.30</td>\n",
       "      <td>7.50</td>\n",
       "      <td>7.10</td>\n",
       "      <td>8.70</td>\n",
       "      <td>11.20</td>\n",
       "      <td>12.70</td>\n",
       "      <td>9.10</td>\n",
       "      <td>11.20</td>\n",
       "      <td>12.30</td>\n",
       "      <td>13.10</td>\n",
       "    </tr>\n",
       "    <tr>\n",
       "      <th>Total_Intl_Calls</th>\n",
       "      <td>3.00</td>\n",
       "      <td>3.00</td>\n",
       "      <td>5.00</td>\n",
       "      <td>7.00</td>\n",
       "      <td>3.00</td>\n",
       "      <td>6.00</td>\n",
       "      <td>7.00</td>\n",
       "      <td>6.00</td>\n",
       "      <td>4.00</td>\n",
       "      <td>5.00</td>\n",
       "      <td>6.00</td>\n",
       "      <td>5.00</td>\n",
       "      <td>2.00</td>\n",
       "      <td>5.00</td>\n",
       "      <td>6.00</td>\n",
       "    </tr>\n",
       "    <tr>\n",
       "      <th>Total_Intl_Charge</th>\n",
       "      <td>2.70</td>\n",
       "      <td>3.70</td>\n",
       "      <td>3.29</td>\n",
       "      <td>1.78</td>\n",
       "      <td>2.73</td>\n",
       "      <td>1.70</td>\n",
       "      <td>2.03</td>\n",
       "      <td>1.92</td>\n",
       "      <td>2.35</td>\n",
       "      <td>3.02</td>\n",
       "      <td>3.43</td>\n",
       "      <td>2.46</td>\n",
       "      <td>3.02</td>\n",
       "      <td>3.32</td>\n",
       "      <td>3.54</td>\n",
       "    </tr>\n",
       "    <tr>\n",
       "      <th>No_CS_Calls</th>\n",
       "      <td>1.00</td>\n",
       "      <td>1.00</td>\n",
       "      <td>0.00</td>\n",
       "      <td>2.00</td>\n",
       "      <td>3.00</td>\n",
       "      <td>0.00</td>\n",
       "      <td>3.00</td>\n",
       "      <td>0.00</td>\n",
       "      <td>1.00</td>\n",
       "      <td>0.00</td>\n",
       "      <td>4.00</td>\n",
       "      <td>0.00</td>\n",
       "      <td>1.00</td>\n",
       "      <td>3.00</td>\n",
       "      <td>4.00</td>\n",
       "    </tr>\n",
       "    <tr>\n",
       "      <th>OUTPUT_LABEL</th>\n",
       "      <td>0.00</td>\n",
       "      <td>0.00</td>\n",
       "      <td>0.00</td>\n",
       "      <td>0.00</td>\n",
       "      <td>0.00</td>\n",
       "      <td>0.00</td>\n",
       "      <td>0.00</td>\n",
       "      <td>0.00</td>\n",
       "      <td>0.00</td>\n",
       "      <td>0.00</td>\n",
       "      <td>1.00</td>\n",
       "      <td>0.00</td>\n",
       "      <td>0.00</td>\n",
       "      <td>0.00</td>\n",
       "      <td>0.00</td>\n",
       "    </tr>\n",
       "    <tr>\n",
       "      <th>Active_minute</th>\n",
       "      <td>707.20</td>\n",
       "      <td>611.50</td>\n",
       "      <td>527.20</td>\n",
       "      <td>558.20</td>\n",
       "      <td>501.90</td>\n",
       "      <td>647.90</td>\n",
       "      <td>779.30</td>\n",
       "      <td>471.90</td>\n",
       "      <td>751.90</td>\n",
       "      <td>807.00</td>\n",
       "      <td>566.40</td>\n",
       "      <td>547.10</td>\n",
       "      <td>374.80</td>\n",
       "      <td>596.50</td>\n",
       "      <td>630.90</td>\n",
       "    </tr>\n",
       "    <tr>\n",
       "      <th>Active_minute_charge</th>\n",
       "      <td>72.86</td>\n",
       "      <td>55.54</td>\n",
       "      <td>59.00</td>\n",
       "      <td>65.02</td>\n",
       "      <td>49.36</td>\n",
       "      <td>65.91</td>\n",
       "      <td>76.28</td>\n",
       "      <td>44.98</td>\n",
       "      <td>70.97</td>\n",
       "      <td>77.52</td>\n",
       "      <td>50.77</td>\n",
       "      <td>54.62</td>\n",
       "      <td>37.17</td>\n",
       "      <td>56.32</td>\n",
       "      <td>55.77</td>\n",
       "    </tr>\n",
       "  </tbody>\n",
       "</table>\n",
       "</div>"
      ],
      "text/plain": [
       "                          0       1       2       3       4       5       6   \\\n",
       "International_Plan      0.00    0.00    0.00    1.00    1.00    1.00    0.00   \n",
       "Voice_Mail_Plan         1.00    1.00    0.00    0.00    0.00    0.00    1.00   \n",
       "No_Vmail_Messages      25.00   26.00    0.00    0.00    0.00    0.00   24.00   \n",
       "Total_Day_minutes     265.10  161.60  243.40  299.40  166.70  223.40  218.20   \n",
       "Total_Day_Calls       110.00  123.00  114.00   71.00  113.00   98.00   88.00   \n",
       "Total_Day_charge       45.07   27.47   41.38   50.90   28.34   37.98   37.09   \n",
       "Total_Eve_Minutes     197.40  195.50  121.20   61.90  148.30  220.60  348.50   \n",
       "Total_Eve_Calls        99.00  103.00  110.00   88.00  122.00  101.00  108.00   \n",
       "Total_Eve_Charge       16.78   16.62   10.30    5.26   12.61   18.75   29.62   \n",
       "Total_Night_Minutes   244.70  254.40  162.60  196.90  186.90  203.90  212.60   \n",
       "Total_Night_Calls      91.00  103.00  104.00   89.00  121.00  118.00  118.00   \n",
       "Total_Night_Charge     11.01   11.45    7.32    8.86    8.41    9.18    9.57   \n",
       "Total_Intl_Minutes     10.00   13.70   12.20    6.60   10.10    6.30    7.50   \n",
       "Total_Intl_Calls        3.00    3.00    5.00    7.00    3.00    6.00    7.00   \n",
       "Total_Intl_Charge       2.70    3.70    3.29    1.78    2.73    1.70    2.03   \n",
       "No_CS_Calls             1.00    1.00    0.00    2.00    3.00    0.00    3.00   \n",
       "OUTPUT_LABEL            0.00    0.00    0.00    0.00    0.00    0.00    0.00   \n",
       "Active_minute         707.20  611.50  527.20  558.20  501.90  647.90  779.30   \n",
       "Active_minute_charge   72.86   55.54   59.00   65.02   49.36   65.91   76.28   \n",
       "\n",
       "                          7       8       9       10      11      12      13  \\\n",
       "International_Plan      1.00    0.00    1.00    0.00    0.00    0.00    0.00   \n",
       "Voice_Mail_Plan         0.00    0.00    1.00    0.00    0.00    0.00    0.00   \n",
       "No_Vmail_Messages       0.00    0.00   37.00    0.00    0.00    0.00    0.00   \n",
       "Total_Day_minutes     157.00  184.50  258.60  129.10  187.70  128.80  156.60   \n",
       "Total_Day_Calls        79.00   97.00   84.00  137.00  127.00   96.00   88.00   \n",
       "Total_Day_charge       26.69   31.37   43.96   21.95   31.91   21.90   26.62   \n",
       "Total_Eve_Minutes     103.10  351.60  222.00  228.50  163.40  104.90  247.60   \n",
       "Total_Eve_Calls        94.00   80.00  111.00   83.00  148.00   71.00   75.00   \n",
       "Total_Eve_Charge        8.76   29.89   18.87   19.42   13.89    8.92   21.05   \n",
       "Total_Night_Minutes   211.80  215.80  326.40  208.80  196.00  141.10  192.30   \n",
       "Total_Night_Calls      96.00   90.00   97.00  111.00   94.00  128.00  115.00   \n",
       "Total_Night_Charge      9.53    9.71   14.69    9.40    8.82    6.35    8.65   \n",
       "Total_Intl_Minutes      7.10    8.70   11.20   12.70    9.10   11.20   12.30   \n",
       "Total_Intl_Calls        6.00    4.00    5.00    6.00    5.00    2.00    5.00   \n",
       "Total_Intl_Charge       1.92    2.35    3.02    3.43    2.46    3.02    3.32   \n",
       "No_CS_Calls             0.00    1.00    0.00    4.00    0.00    1.00    3.00   \n",
       "OUTPUT_LABEL            0.00    0.00    0.00    1.00    0.00    0.00    0.00   \n",
       "Active_minute         471.90  751.90  807.00  566.40  547.10  374.80  596.50   \n",
       "Active_minute_charge   44.98   70.97   77.52   50.77   54.62   37.17   56.32   \n",
       "\n",
       "                          14  \n",
       "International_Plan      0.00  \n",
       "Voice_Mail_Plan         0.00  \n",
       "No_Vmail_Messages       0.00  \n",
       "Total_Day_minutes     120.70  \n",
       "Total_Day_Calls        70.00  \n",
       "Total_Day_charge       20.52  \n",
       "Total_Eve_Minutes     307.20  \n",
       "Total_Eve_Calls        76.00  \n",
       "Total_Eve_Charge       26.11  \n",
       "Total_Night_Minutes   203.00  \n",
       "Total_Night_Calls      99.00  \n",
       "Total_Night_Charge      9.14  \n",
       "Total_Intl_Minutes     13.10  \n",
       "Total_Intl_Calls        6.00  \n",
       "Total_Intl_Charge       3.54  \n",
       "No_CS_Calls             4.00  \n",
       "OUTPUT_LABEL            0.00  \n",
       "Active_minute         630.90  \n",
       "Active_minute_charge   55.77  "
      ]
     },
     "execution_count": 59,
     "metadata": {},
     "output_type": "execute_result"
    }
   ],
   "source": [
    "df.head(15).T"
   ]
  },
  {
   "cell_type": "code",
   "execution_count": 60,
   "metadata": {},
   "outputs": [
    {
     "data": {
      "image/png": "[encoded data removed]",
      "text/plain": [
       "<Figure size 1440x720 with 2 Axes>"
      ]
     },
     "metadata": {},
     "output_type": "display_data"
    }
   ],
   "source": [
    "\n",
    "# Lets define all if there is any correlation  between various column names. We will represent interms of chart.\n",
    "def find_correlations(dataframe, show_chart = True):\n",
    "    fig = plt.figure(figsize = (20,10))\n",
    "    corr = dataframe.corr()\n",
    "    if show_chart == True:\n",
    "        sns.heatmap(corr,  # Show correlation\n",
    "                    xticklabels=corr.columns.values, # x ticks labels\n",
    "                    yticklabels=corr.columns.values, # y ticks labels\n",
    "                    annot=True)\n",
    "    return corr\n",
    "\n",
    "correlation_df = find_correlations(df,show_chart=True)"
   ]
  },
  {
   "cell_type": "markdown",
   "metadata": {},
   "source": [
    "## 2. Logistic regression¶"
   ]
  },
  {
   "cell_type": "markdown",
   "metadata": {},
   "source": [
    "\n",
    "![title](https://cdn-images-1.medium.com/max/1600/1*CfV_EAgUO1zcRusrWhXIfg.jpeg)\n",
    "\n",
    "<div style=\"text-align: right\">**Source : https://cdn-images-1.medium.com/max/1600/1*CfV_EAgUO1zcRusrWhXIfg ** </div>"
   ]
  },
  {
   "cell_type": "markdown",
   "metadata": {},
   "source": [
    "**Q16. Briefly describe how logistic regression works in your own words.**"
   ]
  },
  {
   "cell_type": "markdown",
   "metadata": {},
   "source": [
    "<font size=\"3\"> \n",
    "<div class=\"alert alert-block alert-success\">\n",
    "\n",
    "Predictive Analyis for generealised linear model.<br><br>\n",
    "Usually good to find relationship between one dependent and other independeent variable.<br><br>\n",
    "Outcome is measured : Dichtomous varaible.<br><br>\n",
    "Machine helps us to find the relationship betweeen variables. <br><br>\n",
    "Easy to implement but sometime very difficlut to train based on our sample size of data.\n",
    "    <br>\n",
    "    </div>\n",
    "     </font>\n",
    " "
   ]
  },
  {
   "cell_type": "code",
   "execution_count": 61,
   "metadata": {},
   "outputs": [
    {
     "data": {
      "text/plain": [
       "LogisticRegression(C=1.0, class_weight=None, dual=False, fit_intercept=True,\n",
       "          intercept_scaling=1, max_iter=100, multi_class='warn',\n",
       "          n_jobs=None, penalty='l2', random_state=42, solver='warn',\n",
       "          tol=0.0001, verbose=0, warm_start=False)"
      ]
     },
     "execution_count": 61,
     "metadata": {},
     "output_type": "execute_result"
    }
   ],
   "source": [
    "# logistic regression\n",
    "from sklearn.linear_model import LogisticRegression\n",
    "lr=LogisticRegression(random_state = 42)\n",
    "lr.fit(X_train_tf, y_train)"
   ]
  },
  {
   "cell_type": "markdown",
   "metadata": {},
   "source": [
    "**Q17. Train a logistic regression and evaluate the performance**"
   ]
  },
  {
   "cell_type": "code",
   "execution_count": 62,
   "metadata": {},
   "outputs": [
    {
     "name": "stdout",
     "output_type": "stream",
     "text": [
      "Logistic Regression\n",
      "Training:\n",
      "AUC:0.842\n",
      "accuracy:0.780\n",
      "recall:0.768\n",
      "precision:0.787\n",
      "specificity:0.793\n",
      "prevalence:0.500\n",
      " \n",
      "Validation:\n",
      "AUC:0.799\n",
      "accuracy:0.770\n",
      "recall:0.740\n",
      "precision:0.330\n",
      "specificity:0.775\n",
      "prevalence:0.131\n",
      " \n"
     ]
    }
   ],
   "source": [
    "y_train_preds = lr.predict_proba(X_train_tf)[:,1]\n",
    "y_valid_preds = lr.predict_proba(X_valid_tf)[:,1]\n",
    "\n",
    "print('Logistic Regression')\n",
    "print('Training:')\n",
    "lr_train_auc, lr_train_accuracy, lr_train_recall, \\\n",
    "    lr_train_precision, lr_train_specificity = print_report(y_train,y_train_preds, thresh)\n",
    "print('Validation:')\n",
    "lr_valid_auc, lr_valid_accuracy, lr_valid_recall, \\\n",
    "    lr_valid_precision, lr_valid_specificity = print_report(y_valid,y_valid_preds, thresh)"
   ]
  },
  {
   "cell_type": "markdown",
   "metadata": {},
   "source": [
    "<font size=\"3\"> \n",
    "<div class=\"alert alert-block alert-success\">\n",
    "\n",
    "Lets Understand the meaning of the output to interpret the results.<br><br>\n",
    "\n",
    "1. Accuracy : How often is the classifier correct? <br><br>\n",
    "2. Precision : When it predicts the positive result, how often is it correct? <br><br>\n",
    "3. Recall: When it is actually the positive result, how often does it predict correctly? <br><br>\n",
    "4. Precision: How many of the returned hits were true positive or simply how many of the found were correct hits.<br><br>\n",
    "5. Specificity: When the actual value is negative, how often is the prediction correct?<br><br>\n",
    "              : Proportion of actual negative cases, which got predicted correctly. <br><br>\n",
    "              \n",
    "</div>\n",
    "     </font>"
   ]
  },
  {
   "cell_type": "markdown",
   "metadata": {},
   "source": [
    "<font size=\"3\"> \n",
    "<div class=\"alert alert-block alert-success\">\n",
    "    \n",
    "    \n",
    "__Our Second Model : KNN Analysis__ <br> <br>\n",
    "    We don't have any promising good results from our Second model as well. <br> <br>\n",
    "    We have AUC 0.84 % in Training Datasets whereas we have less AUC score in Our validation datasets.It decrease by 0.02%. <br> <br>\n",
    "    If we compare prevelance then it has definetly drop down up from 0.5 to 0.13.<br> <br>\n",
    "    In validation datasets it is being more accuarte about it. Also Precision has dropped from 0.78 to 0.335. When it predicts the positive result, how often is it correct?  <br> <br>\n",
    "    We Must also Remember that we have set our treshold datasets to 0.5 <br> <br>\n",
    "    Lets see if any other variables have any correlation for future model fine tunning.<br> <br>\n",
    "    \n",
    "    Recall limits the number of false negatives.Which in our second model is not changed much. <br> <br> \n",
    "    \n",
    "     For each 100 Customer Churn that is classified, 79 were correctly classified as Churned or not Churned\n",
    "    </div>\n",
    "     </font>"
   ]
  },
  {
   "cell_type": "markdown",
   "metadata": {},
   "source": [
    "<font size=\"3\"> \n",
    "<div class=\"alert alert-block alert-success\">\n",
    "    \n",
    "1.As we know by now that The higher the precision, the lower the recall and vice versa.<br><br>\n",
    "2.We can fine tune our  precision and recall of the existing  Logistics Regression model.<br><br>\n",
    "3.If we incresed the threshold then it will typically increase precision and decrease recall.<br><br>\n",
    "\n",
    "\n",
    "Lets Move to our remaining Model to see the better result and AUC score to determine if we could get to our end goal. \n",
    "</div>\n",
    "     </font>"
   ]
  },
  {
   "cell_type": "markdown",
   "metadata": {},
   "source": [
    "## 3. Stochastic Gradient Descent"
   ]
  },
  {
   "cell_type": "markdown",
   "metadata": {},
   "source": [
    "![](https://cdn-images-1.medium.com/max/1600/1*Sa5kGcZIVNTLjrI8P-YsSQ.gif)\n",
    "\n",
    "<div style=\"text-align: right\">**Source : https://cdn-images-1.medium.com/max/1600/1*Sa5kGcZIVNTLjrI8P-YsSQ ** </div>\n"
   ]
  },
  {
   "cell_type": "markdown",
   "metadata": {},
   "source": [
    "**Q18. Briefly describe how stochastic gradient descent works in your own words.**"
   ]
  },
  {
   "cell_type": "markdown",
   "metadata": {},
   "source": [
    "<font size=\"3\"> \n",
    "<div class=\"alert alert-block alert-success\">\n",
    "    \n",
    "It uses only a single example usually refered to as batch Size per iteration to build and train our Model. <br><br><br>\n",
    "Stochastic Gradient Descent is a multiplication of gradient descent.<br><br>\n",
    "Optimize by updating a set of parameters. <br><br>\n",
    "Minimize the error of cost function <br><br>\n",
    "If we provide lot of batch size it works may be the best but it will also be very noisy.<br><br>\n",
    "Gradually decrease the learning rate as it passes through many trainings.\n",
    "\n",
    "</div>\n",
    "     </font>"
   ]
  },
  {
   "cell_type": "markdown",
   "metadata": {},
   "source": [
    "**Q19. Train a stochastic gradient descent model and evaluate the performance**"
   ]
  },
  {
   "cell_type": "code",
   "execution_count": 63,
   "metadata": {},
   "outputs": [
    {
     "data": {
      "text/plain": [
       "SGDClassifier(alpha=0.1, average=False, class_weight=None,\n",
       "       early_stopping=False, epsilon=0.1, eta0=0.0, fit_intercept=True,\n",
       "       l1_ratio=0.15, learning_rate='optimal', loss='log', max_iter=None,\n",
       "       n_iter=None, n_iter_no_change=5, n_jobs=None, penalty='l2',\n",
       "       power_t=0.5, random_state=42, shuffle=True, tol=None,\n",
       "       validation_fraction=0.1, verbose=0, warm_start=False)"
      ]
     },
     "execution_count": 63,
     "metadata": {},
     "output_type": "execute_result"
    }
   ],
   "source": [
    "from sklearn.linear_model import SGDClassifier\n",
    "sgdc=SGDClassifier(loss = 'log',alpha = 0.1,random_state = 42)\n",
    "sgdc.fit(X_train_tf, y_train)"
   ]
  },
  {
   "cell_type": "code",
   "execution_count": 64,
   "metadata": {},
   "outputs": [
    {
     "name": "stdout",
     "output_type": "stream",
     "text": [
      "Stochastic Gradient Descend\n",
      "Training:\n",
      "AUC:0.840\n",
      "accuracy:0.785\n",
      "recall:0.774\n",
      "precision:0.791\n",
      "specificity:0.796\n",
      "prevalence:0.500\n",
      " \n",
      "Validation:\n",
      "AUC:0.800\n",
      "accuracy:0.769\n",
      "recall:0.740\n",
      "precision:0.329\n",
      "specificity:0.773\n",
      "prevalence:0.131\n",
      " \n"
     ]
    }
   ],
   "source": [
    "y_train_preds = sgdc.predict_proba(X_train_tf)[:,1]\n",
    "y_valid_preds = sgdc.predict_proba(X_valid_tf)[:,1]\n",
    "\n",
    "print('Stochastic Gradient Descend')\n",
    "print('Training:')\n",
    "sgdc_train_auc, sgdc_train_accuracy, sgdc_train_recall, sgdc_train_precision, sgdc_train_specificity =print_report(y_train,y_train_preds, thresh)\n",
    "print('Validation:')\n",
    "sgdc_valid_auc, sgdc_valid_accuracy, sgdc_valid_recall, sgdc_valid_precision, sgdc_valid_specificity = print_report(y_valid,y_valid_preds, thresh)"
   ]
  },
  {
   "cell_type": "markdown",
   "metadata": {},
   "source": [
    "<font size=\"3\"> \n",
    "<div class=\"alert alert-block alert-success\">\n",
    "    \n",
    "    \n",
    "__Our Third Model : Stochastic Gradient Descent__ <br> <br>\n",
    "We don't have any promising good results from our third model as well.Although AUC score for validation test drop from 84 % to 80% <br> <br>\n",
    "We have AUC 0.84 % in Training Datasets whereas we have less AUC score in Our validation datasets.It decrease by 0.4%. <br> <br>\n",
    "If we compare prevelance then it has definetly drop down up from 0.5 to 0.13.<br> <br>\n",
    "In validation datasets it is being more accuarte about it. Also Precision has dropped from 0.79 to 0.329. When it predicts the positive result, how often is it correct?  <br> <br>\n",
    "We Must also Remember that we have set our treshold datasets to 0.5 <br> <br>\n",
    "Lets see if any other variables have any correlation for future model fine tunning.<br> <br>\n",
    "Also Precission has dropped in our SGD model <br><br>\n",
    "Recall limits the number of false negatives.Which in our third model is not changed much. <br> <br> \n",
    "    \n",
    "\n",
    "</div>\n",
    "     </font>"
   ]
  },
  {
   "cell_type": "markdown",
   "metadata": {},
   "source": [
    "## 4. Naive Bayes¶"
   ]
  },
  {
   "cell_type": "markdown",
   "metadata": {},
   "source": [
    "![](https://www.researchgate.net/profile/Yune_Lee/publication/255695722/figure/fig1/AS:297967207632900@1448052327024/Illustration-of-how-a-Gaussian-Naive-Bayes-GNB-classifier-works-For-each-data-point.png)\n",
    "\n",
    "<div style=\"text-align: right\">**Source: https://www.researchgate.net/profile/Yune_Lee/publication/255695722/figure** </div>\n"
   ]
  },
  {
   "cell_type": "markdown",
   "metadata": {},
   "source": [
    "**Q20. Briefly describe how naive bayes works in your own words.**"
   ]
  },
  {
   "cell_type": "markdown",
   "metadata": {},
   "source": [
    "<font size=\"3\"> \n",
    "<div class=\"alert alert-block alert-success\">\n",
    "\n",
    "Lets see What does Naive Bayes has to offer for our analysis. In this model we will be using Naive Bayes Classifier to identify our main goal identifying Customer Churn. <br><br>\n",
    "- Calculate the probability of our defined hypothesis based on reference to prior knowledge. <br><br>\n",
    "- Feed the datasets into X_Train and Y_train in our Validation set.<br><br>\n",
    "- Model to be used to implement : GaussianNB of sklearn.<br><br>\n",
    "- Based on Bayes Theorem <br><br>\n",
    "- We should remove highly Correlated features becuase they will play high corelation and lead to over inflating our model.\n",
    "\n",
    "</div>\n",
    "     </font>"
   ]
  },
  {
   "cell_type": "markdown",
   "metadata": {},
   "source": [
    "**Q21.Train naive bayes model and evaluate the performance**"
   ]
  },
  {
   "cell_type": "code",
   "execution_count": 65,
   "metadata": {},
   "outputs": [
    {
     "data": {
      "text/plain": [
       "GaussianNB(priors=None, var_smoothing=1e-09)"
      ]
     },
     "execution_count": 65,
     "metadata": {},
     "output_type": "execute_result"
    }
   ],
   "source": [
    "from sklearn.naive_bayes import GaussianNB\n",
    "\n",
    "nb = GaussianNB()\n",
    "nb.fit(X_train_tf, y_train)"
   ]
  },
  {
   "cell_type": "code",
   "execution_count": 66,
   "metadata": {},
   "outputs": [
    {
     "name": "stdout",
     "output_type": "stream",
     "text": [
      "Naive Bayes\n",
      "Training:\n",
      "AUC:0.863\n",
      "accuracy:0.823\n",
      "recall:0.790\n",
      "precision:0.846\n",
      "specificity:0.857\n",
      "prevalence:0.500\n",
      " \n",
      "Validation:\n",
      "AUC:0.826\n",
      "accuracy:0.824\n",
      "recall:0.781\n",
      "precision:0.410\n",
      "specificity:0.831\n",
      "prevalence:0.131\n",
      " \n"
     ]
    }
   ],
   "source": [
    "y_train_preds = nb.predict_proba(X_train_tf)[:,1]\n",
    "y_valid_preds = nb.predict_proba(X_valid_tf)[:,1]\n",
    "\n",
    "print('Naive Bayes')\n",
    "print('Training:')\n",
    "nb_train_auc, nb_train_accuracy, nb_train_recall, nb_train_precision, nb_train_specificity =print_report(y_train,y_train_preds, thresh)\n",
    "print('Validation:')\n",
    "nb_valid_auc, nb_valid_accuracy, nb_valid_recall, nb_valid_precision, nb_valid_specificity = print_report(y_valid,y_valid_preds, thresh)\n"
   ]
  },
  {
   "cell_type": "markdown",
   "metadata": {},
   "source": [
    "<font size=\"3\"> \n",
    "<div class=\"alert alert-block alert-success\">\n",
    "    \n",
    "__Our Fourth Model : Naive Bayes using GaussianNB__ <br> <br>\n",
    "We don't have any promising good results from our third model as well.Although AUC score for validation test drop from 84 % to 80% <br> <br>\n",
    "We have AUC 0.84 % in Training Datasets whereas we have less AUC score in Our validation datasets.It decrease by 0.4%. <br> <br>\n",
    "If we compare prevelance then it has definetly drop down up from 0.5 to 0.13.<br> <br>\n",
    "In validation datasets it is being more accuarte about it. Also Precision has dropped from 0.79 to 0.329. When it predicts the positive result, how often is it correct?  <br> <br>\n",
    "We Must also Remember that we have set our treshold datasets to 0.5 <br> <br>\n",
    "Lets see if any other variables have any correlation for future model fine tunning.<br> <br>\n",
    "Also Precission has dropped in our SGD model <br><br>\n",
    "Recall limits the number of false negatives.Which in our third model is not changed much. <br> <br> \n",
    "    \n",
    "\n",
    "</div>\n",
    "     </font>"
   ]
  },
  {
   "cell_type": "markdown",
   "metadata": {},
   "source": [
    "## 5. Decision Tree Classifier¶"
   ]
  },
  {
   "cell_type": "markdown",
   "metadata": {},
   "source": [
    "![](https://cdn-images-1.medium.com/max/1600/0*0dN6d8THyImxwPeD.png)\n",
    "\n",
    "<div style=\"text-align: right\">**Source: https://cdn-images-1.medium.com/max/1600/0*0dN6d8THyImxwPeD** </div>\n"
   ]
  },
  {
   "cell_type": "markdown",
   "metadata": {},
   "source": [
    "**Q22. Briefly describe how decision tree model works in your own words.**"
   ]
  },
  {
   "cell_type": "markdown",
   "metadata": {},
   "source": [
    "<font size=\"3\"> \n",
    "<div class=\"alert alert-block alert-success\">\n",
    "\n",
    "Lets Move to our Fifth Model. After Looking at the result from Naive Bayes Algorithm we are looking at Decision Tree Classifier where we can divide our dataets based on factors to decide whether it will increase the likelihood of Churn. <br><br>\n",
    "As in Decision Tree Classifier we are dividing customers into yes/no. <br><br>\n",
    "\n",
    "1. Decission Support tool.<br><br>\n",
    "2. Use tree like decission Model.<br><br>\n",
    "3. Good to think as Conditional Control Statements.<br><br>\n",
    "4. Each Node represents Point of Decision for the Model.<br><br>\n",
    "5. To understand Simple We can just say “.. if .. then .. else ..”\n",
    "</div>\n",
    "     </font>\n"
   ]
  },
  {
   "cell_type": "markdown",
   "metadata": {},
   "source": [
    "**Q23. Train decision tree model and evaluate the performance**"
   ]
  },
  {
   "cell_type": "code",
   "execution_count": 67,
   "metadata": {},
   "outputs": [
    {
     "data": {
      "text/plain": [
       "DecisionTreeClassifier(class_weight=None, criterion='gini', max_depth=10,\n",
       "            max_features=None, max_leaf_nodes=None,\n",
       "            min_impurity_decrease=0.0, min_impurity_split=None,\n",
       "            min_samples_leaf=1, min_samples_split=2,\n",
       "            min_weight_fraction_leaf=0.0, presort=False, random_state=42,\n",
       "            splitter='best')"
      ]
     },
     "execution_count": 67,
     "metadata": {},
     "output_type": "execute_result"
    }
   ],
   "source": [
    "from sklearn.tree import DecisionTreeClassifier\n",
    "\n",
    "tree = DecisionTreeClassifier(max_depth = 10, random_state = 42)\n",
    "tree.fit(X_train_tf, y_train)"
   ]
  },
  {
   "cell_type": "code",
   "execution_count": 68,
   "metadata": {},
   "outputs": [
    {
     "name": "stdout",
     "output_type": "stream",
     "text": [
      "Decision Tree\n",
      "Training:\n",
      "AUC:0.991\n",
      "accuracy:0.974\n",
      "recall:0.951\n",
      "precision:0.997\n",
      "specificity:0.994\n",
      "prevalence:0.500\n",
      " \n",
      "Validation:\n",
      "AUC:0.841\n",
      "accuracy:0.846\n",
      "recall:0.844\n",
      "precision:0.453\n",
      "specificity:0.842\n",
      "prevalence:0.131\n",
      " \n"
     ]
    }
   ],
   "source": [
    "y_train_preds = tree.predict_proba(X_train_tf)[:,1]\n",
    "y_valid_preds = tree.predict_proba(X_valid_tf)[:,1]\n",
    "\n",
    "print('Decision Tree')\n",
    "print('Training:')\n",
    "tree_train_auc, tree_train_accuracy, tree_train_recall, tree_train_precision, tree_train_specificity =print_report(y_train,y_train_preds, thresh)\n",
    "print('Validation:')\n",
    "tree_valid_auc, tree_valid_accuracy, tree_valid_recall, tree_valid_precision, tree_valid_specificity = print_report(y_valid,y_valid_preds, thresh)"
   ]
  },
  {
   "cell_type": "markdown",
   "metadata": {},
   "source": [
    "### Analysis"
   ]
  },
  {
   "cell_type": "markdown",
   "metadata": {},
   "source": [
    "<font size=\"3\"> \n",
    "<div class=\"alert alert-block alert-success\">\n",
    "    \n",
    "__Our Fifth Model : Decision Tree Classifier__ <br> <br>\n",
    "Our AUC score for training set is 0.99 which seems perfect which is close to 1. But when it test it in validate test we can see most of it was overfitted.<br> <br>\n",
    "The Accuracy also fail down from 0.97 to 0.84 which indicates it was overfitting based on our datasets.<br> <br>\n",
    "If we look into precission it fell almost to the half.<br> <br>\n",
    "Recall limits the number of false negatives.Which in our fifth model is changed by almost 10%. <br> <br> \n",
    "</div>\n",
    "     </font>"
   ]
  },
  {
   "cell_type": "markdown",
   "metadata": {},
   "source": [
    "## 6. Random Forest¶"
   ]
  },
  {
   "cell_type": "markdown",
   "metadata": {},
   "source": [
    "![](http://res.cloudinary.com/dyd911kmh/image/upload/f_auto,q_auto:best/v1526467744/voting_dnjweq.jpg)\n",
    "\n",
    "<div style=\"text-align: right\">**Source : http://res.cloudinary.com/dyd911kmh/image/upload/f_auto,q_auto:best/v1526467744/voting_dnjweq** </div>"
   ]
  },
  {
   "cell_type": "markdown",
   "metadata": {},
   "source": [
    "**Q25.Briefly describe how random forest model works in your own words**"
   ]
  },
  {
   "cell_type": "markdown",
   "metadata": {},
   "source": [
    "<font size=\"3\"> \n",
    "<div class=\"alert alert-block alert-success\">\n",
    "\n",
    "Supervised Learning algorithm <br><br>\n",
    "Usually used for both classification and Regression problems.<br><br>\n",
    "Similar to decision Tree but it more robust as we have more trees like bunch of trees thats why it is called forest.<br><br>\n",
    "Helps us to pick relative importnat features.<br><br>\n",
    "There is disadvantage of being slow as there are multiples node/ decision to be made.<br><br>\n",
    "Difficult to interpret as compare to our fifth Model Decision Tree Classifier.\n",
    "\n",
    "</div>\n",
    "     </font>\n"
   ]
  },
  {
   "cell_type": "markdown",
   "metadata": {},
   "source": [
    "**Q27.Train random forest model and evaluate the performance.**"
   ]
  },
  {
   "cell_type": "code",
   "execution_count": 69,
   "metadata": {},
   "outputs": [
    {
     "data": {
      "text/plain": [
       "RandomForestClassifier(bootstrap=True, class_weight=None, criterion='gini',\n",
       "            max_depth=6, max_features='auto', max_leaf_nodes=None,\n",
       "            min_impurity_decrease=0.0, min_impurity_split=None,\n",
       "            min_samples_leaf=1, min_samples_split=2,\n",
       "            min_weight_fraction_leaf=0.0, n_estimators=10, n_jobs=None,\n",
       "            oob_score=False, random_state=42, verbose=0, warm_start=False)"
      ]
     },
     "execution_count": 69,
     "metadata": {},
     "output_type": "execute_result"
    }
   ],
   "source": [
    "from sklearn.ensemble import RandomForestClassifier\n",
    "rf=RandomForestClassifier(max_depth = 6, random_state = 42)\n",
    "rf.fit(X_train_tf, y_train)"
   ]
  },
  {
   "cell_type": "code",
   "execution_count": 70,
   "metadata": {},
   "outputs": [
    {
     "name": "stdout",
     "output_type": "stream",
     "text": [
      "Random Forest\n",
      "Training:\n",
      "AUC:0.974\n",
      "accuracy:0.934\n",
      "recall:0.899\n",
      "precision:0.967\n",
      "specificity:0.970\n",
      "prevalence:0.500\n",
      " \n",
      "Validation:\n",
      "AUC:0.896\n",
      "accuracy:0.854\n",
      "recall:0.844\n",
      "precision:0.468\n",
      "specificity:0.856\n",
      "prevalence:0.131\n",
      " \n"
     ]
    }
   ],
   "source": [
    "y_train_preds = rf.predict_proba(X_train_tf)[:,1]\n",
    "y_valid_preds = rf.predict_proba(X_valid_tf)[:,1]\n",
    "\n",
    "print('Random Forest')\n",
    "print('Training:')\n",
    "rf_train_auc, rf_train_accuracy, rf_train_recall, rf_train_precision, rf_train_specificity =print_report(y_train,y_train_preds, thresh)\n",
    "print('Validation:')\n",
    "rf_valid_auc, rf_valid_accuracy, rf_valid_recall, rf_valid_precision, rf_valid_specificity = print_report(y_valid,y_valid_preds, thresh)"
   ]
  },
  {
   "cell_type": "markdown",
   "metadata": {},
   "source": [
    "<font size=\"3\"> \n",
    "<div class=\"alert alert-block alert-success\">\n",
    "    \n",
    "__Our sixth Model : Random Forest__ <br> <br>\n",
    "Lets See how our Sixth Model did interms of AUC score. <br> <br>\n",
    "Our AUC score for training set is 0.97 which seems perfect which is close to 1. But when it test it in validate dataset we can see most of it was overfitted.<br> <br>\n",
    "The Accuracy also fail down from 0.93 to 0.85 which indicates it was overfitting based on our datasets.<br> <br>\n",
    "If we look into precission it fell almost to the half. 0.96 to 0.46<br> <br>\n",
    "Recall limits the number of false negatives.Which in our sixth model is changed by almost 5%. <br> <br> \n",
    "</div>\n",
    "     </font>"
   ]
  },
  {
   "cell_type": "markdown",
   "metadata": {},
   "source": [
    "## 7. Gradient Boosting Classifier"
   ]
  },
  {
   "cell_type": "markdown",
   "metadata": {},
   "source": [
    "![](https://d2h0cx97tjks2p.cloudfront.net/blogs/wp-content/uploads/sites/2/2018/02/Gradient-Boosting-Algorithm-01.jpg)\n",
    "\n",
    "\n",
    "<div style=\"text-align: right\">**Source: https://d2h0cx97tjks2p.cloudfront.net/blogs/wp-content/uploads/sites/2/2018/02/Gradient-Boosting-Algorithm-01** </div>\n",
    " "
   ]
  },
  {
   "cell_type": "markdown",
   "metadata": {},
   "source": [
    "**Q28. Briefly describe how gradient boosting classifier model works in your own words.**"
   ]
  },
  {
   "cell_type": "markdown",
   "metadata": {},
   "source": [
    "<font size=\"3\"> \n",
    "<div class=\"alert alert-block alert-success\">\n",
    "Gradient Boosting Classifier is very important and most informative technique used to classify regression and classification problem.<br><br>\n",
    "    \n",
    "So far we have no luck in getting higher accuracy score in our past sixth model. <br><br>\n",
    "By Using Gradient Boosting Classfier we can boost those either in our feature engineering step or by applying some of the boosting algorithm to our Telecom Datasets. <br><br>\n",
    "As we think we have already did lot of feature engineering lets try to apply Gradient Descent Classifier directly to our datasets and see if these changes anything in our validation set model.<br><br>\n",
    "often refered to as black box.<br><br>\n",
    "\n",
    "Xgboost of Gradient Descent is regarded as very fast and most accurate than any other traditional gradient boosting model is.\n",
    "    \n",
    "</div>\n",
    "     </font>"
   ]
  },
  {
   "cell_type": "markdown",
   "metadata": {},
   "source": [
    "**Q29. Train gradient boosting model and evaluate the performance.**"
   ]
  },
  {
   "cell_type": "code",
   "execution_count": 71,
   "metadata": {},
   "outputs": [
    {
     "data": {
      "text/plain": [
       "GradientBoostingClassifier(criterion='friedman_mse', init=None,\n",
       "              learning_rate=1.0, loss='deviance', max_depth=3,\n",
       "              max_features=None, max_leaf_nodes=None,\n",
       "              min_impurity_decrease=0.0, min_impurity_split=None,\n",
       "              min_samples_leaf=1, min_samples_split=2,\n",
       "              min_weight_fraction_leaf=0.0, n_estimators=100,\n",
       "              n_iter_no_change=None, presort='auto', random_state=42,\n",
       "              subsample=1.0, tol=0.0001, validation_fraction=0.1,\n",
       "              verbose=0, warm_start=False)"
      ]
     },
     "execution_count": 71,
     "metadata": {},
     "output_type": "execute_result"
    }
   ],
   "source": [
    "from sklearn.ensemble import GradientBoostingClassifier\n",
    "gbc =GradientBoostingClassifier(n_estimators=100, learning_rate=1.0,\n",
    "     max_depth=3, random_state=42)\n",
    "gbc.fit(X_train_tf, y_train)"
   ]
  },
  {
   "cell_type": "code",
   "execution_count": 72,
   "metadata": {},
   "outputs": [
    {
     "name": "stdout",
     "output_type": "stream",
     "text": [
      "Gradient Boosting Classifier\n",
      "Training:\n",
      "AUC:1.000\n",
      "accuracy:1.000\n",
      "recall:1.000\n",
      "precision:1.000\n",
      "specificity:1.000\n",
      "prevalence:0.500\n",
      " \n",
      "Validation:\n",
      "AUC:0.885\n",
      "accuracy:0.848\n",
      "recall:0.833\n",
      "precision:0.455\n",
      "specificity:0.850\n",
      "prevalence:0.131\n",
      " \n"
     ]
    }
   ],
   "source": [
    "y_train_preds = gbc.predict_proba(X_train_tf)[:,1]\n",
    "y_valid_preds = gbc.predict_proba(X_valid_tf)[:,1]\n",
    "\n",
    "print('Gradient Boosting Classifier')\n",
    "print('Training:')\n",
    "gbc_train_auc, gbc_train_accuracy, gbc_train_recall, gbc_train_precision, gbc_train_specificity = print_report(y_train,y_train_preds, thresh)\n",
    "print('Validation:')\n",
    "gbc_valid_auc, gbc_valid_accuracy, gbc_valid_recall, gbc_valid_precision, gbc_valid_specificity = print_report(y_valid,y_valid_preds, thresh)"
   ]
  },
  {
   "cell_type": "markdown",
   "metadata": {},
   "source": [
    "<font size=\"3\"> \n",
    "<div class=\"alert alert-block alert-success\">\n",
    "    \n",
    "__Our seventh Model : Gradient Boosting Classifier__ <br> <br>\n",
    "Lets See how our Seventhh Model did interms of AUC score. <br> <br>\n",
    "Our AUC score for training set is perfect 1. Which seems perfect But when it test it in validate dataset we can see most of it was overfitted as model lear to fit more.<br> <br>\n",
    "The Accuracy also fail down from perfect 1.00 to 0.84 which indicates it was overfitting based on our datasets.<br> <br>\n",
    "If we look into precission it fell almost to the half. 1.00 to 0.45<br> <br>\n",
    "Recall limits the number of false negatives.Which in our seventh model is changed by almost 17%. <br> <br> \n",
    "</div>\n",
    "     </font>    "
   ]
  },
  {
   "cell_type": "markdown",
   "metadata": {},
   "source": [
    "## Analyze results baseline mode"
   ]
  },
  {
   "cell_type": "code",
   "execution_count": 73,
   "metadata": {},
   "outputs": [],
   "source": [
    "df_results = pd.DataFrame({'classifier':['KNN','KNN','LR','LR','SGD','SGD','NB','NB','DT','DT','RF','RF','GB','GB'],\n",
    "                           'data_set':['train','valid']*7,\n",
    "                          'auc':[knn_train_auc, knn_valid_auc,lr_train_auc,lr_valid_auc,sgdc_train_auc,sgdc_valid_auc,nb_train_auc,nb_valid_auc,tree_train_auc,tree_valid_auc,rf_train_auc,rf_valid_auc,gbc_train_auc,gbc_valid_auc,],\n",
    "                          'accuracy':[knn_train_accuracy, knn_valid_accuracy,lr_train_accuracy,lr_valid_accuracy,sgdc_train_accuracy,sgdc_valid_accuracy,nb_train_accuracy,nb_valid_accuracy,tree_train_accuracy,tree_valid_accuracy,rf_train_accuracy,rf_valid_accuracy,gbc_train_accuracy,gbc_valid_accuracy,],\n",
    "                          'recall':[knn_train_recall, knn_valid_recall,lr_train_recall,lr_valid_recall,sgdc_train_recall,sgdc_valid_recall,nb_train_recall,nb_valid_recall,tree_train_recall,tree_valid_recall,rf_train_recall,rf_valid_recall,gbc_train_recall,gbc_valid_recall,],\n",
    "                          'precision':[knn_train_precision, knn_valid_precision,lr_train_precision,lr_valid_precision,sgdc_train_precision,sgdc_valid_precision,nb_train_precision,nb_valid_precision,tree_train_precision,tree_valid_precision,rf_train_precision,rf_valid_precision,gbc_train_precision,gbc_valid_precision,],\n",
    "                          'specificity':[knn_train_specificity, knn_valid_specificity,lr_train_specificity,lr_valid_specificity,sgdc_train_specificity,sgdc_valid_specificity,nb_train_specificity,nb_valid_specificity,tree_train_specificity,tree_valid_specificity,rf_train_specificity,rf_valid_specificity,gbc_train_specificity,gbc_valid_specificity,]})"
   ]
  },
  {
   "cell_type": "markdown",
   "metadata": {},
   "source": [
    "**Q30.Pick one performance metric that you will use for picking the best model. Explain your choice of performance metric. Make a bar plot of this performance metric below to demonstrate the baseline performance.**"
   ]
  },
  {
   "cell_type": "markdown",
   "metadata": {},
   "source": [
    "Based on AUC Score and looking at the best Parameter I think Random Forest Seems much more suiatble for my model. Although Gradient Bossting Classifier seems much higher result. We also saw that it did poorly on validate set compare to Random Forest. There is huge gap which you can see in graph ploted below the difference between trainning and validating sets. The AUC Score for Random Forest is 97 % for Training sets and 89 % for Validation set which is much higher than our rest of the models.  "
   ]
  },
  {
   "cell_type": "code",
   "execution_count": 74,
   "metadata": {},
   "outputs": [],
   "source": [
    "import seaborn as sns\n",
    "import matplotlib.pyplot as plt\n",
    "sns.set(style=\"darkgrid\")"
   ]
  },
  {
   "cell_type": "code",
   "execution_count": 75,
   "metadata": {},
   "outputs": [
    {
     "data": {
      "image/png": "[encoded data removed]",
      "text/plain": [
       "<Figure size 432x288 with 1 Axes>"
      ]
     },
     "metadata": {},
     "output_type": "display_data"
    }
   ],
   "source": [
    "ax = sns.barplot(x=\"classifier\", y=\"auc\", hue=\"data_set\", data=df_results)\n",
    "ax.set_xlabel('Classifier',fontsize = 15)\n",
    "ax.set_ylabel('AUC', fontsize = 15)\n",
    "ax.tick_params(labelsize=15)\n",
    "\n",
    "# Put the legend out of the figure\n",
    "plt.legend(bbox_to_anchor=(1.05, 1), loc=2, borderaxespad=0., fontsize = 15)\n",
    "plt.show()"
   ]
  },
  {
   "cell_type": "code",
   "execution_count": 76,
   "metadata": {},
   "outputs": [
    {
     "data": {
      "image/png": "[encoded data removed]",
      "text/plain": [
       "<Figure size 432x288 with 1 Axes>"
      ]
     },
     "metadata": {},
     "output_type": "display_data"
    }
   ],
   "source": [
    "ax = sns.barplot(x=\"classifier\", y=\"recall\", hue=\"data_set\", data=df_results)\n",
    "ax.set_xlabel('Classifier',fontsize = 15)\n",
    "ax.set_ylabel('recall', fontsize = 15)\n",
    "ax.tick_params(labelsize=15)\n",
    "\n",
    "# Put the legend out of the figure\n",
    "plt.legend(bbox_to_anchor=(1.05, 1), loc=2, borderaxespad=0., fontsize = 15)\n",
    "\n",
    "plt.show()"
   ]
  },
  {
   "cell_type": "code",
   "execution_count": 77,
   "metadata": {},
   "outputs": [
    {
     "data": {
      "image/png": "[encoded data removed]",
      "text/plain": [
       "<Figure size 432x288 with 1 Axes>"
      ]
     },
     "metadata": {},
     "output_type": "display_data"
    }
   ],
   "source": [
    "ax = sns.barplot(x=\"classifier\", y=\"specificity\", hue=\"data_set\", data=df_results)\n",
    "ax.set_xlabel('Classifier',fontsize = 15)\n",
    "ax.set_ylabel('specificity', fontsize = 15)\n",
    "ax.tick_params(labelsize=15)\n",
    "\n",
    "# Put the legend out of the figure\n",
    "plt.legend(bbox_to_anchor=(1.05, 1), loc=2, borderaxespad=0., fontsize = 15)\n",
    "\n",
    "plt.show()"
   ]
  },
  {
   "cell_type": "code",
   "execution_count": 78,
   "metadata": {},
   "outputs": [
    {
     "data": {
      "image/png": "[encoded data removed]",
      "text/plain": [
       "<Figure size 432x288 with 1 Axes>"
      ]
     },
     "metadata": {},
     "output_type": "display_data"
    }
   ],
   "source": [
    "ax = sns.barplot(x=\"classifier\", y=\"precision\", hue=\"data_set\", data=df_results)\n",
    "ax.set_xlabel('Classifier',fontsize = 15)\n",
    "ax.set_ylabel('precision', fontsize = 15)\n",
    "ax.tick_params(labelsize=15)\n",
    "\n",
    "# Put the legend out of the figure\n",
    "plt.legend(bbox_to_anchor=(1.05, 1), loc=2, borderaxespad=0., fontsize = 15)\n",
    "\n",
    "plt.show()"
   ]
  },
  {
   "cell_type": "code",
   "execution_count": 79,
   "metadata": {},
   "outputs": [
    {
     "data": {
      "image/png": "[encoded data removed]",
      "text/plain": [
       "<Figure size 432x288 with 1 Axes>"
      ]
     },
     "metadata": {},
     "output_type": "display_data"
    }
   ],
   "source": [
    "ax = sns.barplot(x=\"classifier\", y=\"accuracy\", hue=\"data_set\", data=df_results)\n",
    "ax.set_xlabel('Classifier',fontsize = 15)\n",
    "ax.set_ylabel('accuracy', fontsize = 15)\n",
    "ax.tick_params(labelsize=15)\n",
    "\n",
    "# Put the legend out of the figure\n",
    "plt.legend(bbox_to_anchor=(1.05, 1), loc=2, borderaxespad=0., fontsize = 15)\n",
    "\n",
    "plt.show()"
   ]
  },
  {
   "cell_type": "markdown",
   "metadata": {},
   "source": [
    "**Q30.Pick one performance metric that you will use for picking the best model. Explain your choice of performance metric. Make a bar plot of this performance metric below to demonstrate the baseline performance.**"
   ]
  },
  {
   "cell_type": "markdown",
   "metadata": {},
   "source": [
    "<font size=\"3\"> \n",
    "<div class=\"alert alert-block alert-success\">\n",
    "    \n",
    "We have done great work on training our model and testing it in validating sets but we have done our job yet.<br><br>\n",
    "Based on all the graphs that we have created we need to select best algorithm.<br><br>\n",
    "Our goal when we start our Project was to get threshold value closer to one meaning predicting each custumer before it churns. <br><br>\n",
    "We need to boost more True positive by minimising True Negative.<br><br> \n",
    "We also need to remember that we have set our treshhold value to 0.5 for alll our models that we build.<br><br>\n",
    "So what does setting up the treshold value to 0.5 means is that we are just converting our predicted probability into class predictions.<br><br>\n",
    "Some of the important features we should look into to address our Customer Churn Analysis would be to look into Specificity, sensitivity from all the models.\n",
    "\n",
    "</div>\n",
    "     </font>  "
   ]
  },
  {
   "cell_type": "markdown",
   "metadata": {},
   "source": [
    "# Model Selection: Learning Curves¶"
   ]
  },
  {
   "cell_type": "markdown",
   "metadata": {},
   "source": [
    "Learning Curve Model from Scikit Learn Websites."
   ]
  },
  {
   "cell_type": "markdown",
   "metadata": {},
   "source": [
    "**Q31. Using your baseline model that has the best performance on the validation set, plot a learning curve for that model.**"
   ]
  },
  {
   "cell_type": "code",
   "execution_count": 80,
   "metadata": {},
   "outputs": [],
   "source": [
    "import numpy as np\n",
    "from sklearn.model_selection import learning_curve\n",
    "from sklearn.model_selection import ShuffleSplit\n",
    "\n",
    "def plot_learning_curve(estimator, title, X, y, ylim=None, cv=None,\n",
    "                        n_jobs=1, train_sizes=np.linspace(.1, 1.0, 5)):  \n",
    "    plt.figure()\n",
    "    plt.title(title)\n",
    "    if ylim is not None:\n",
    "        plt.ylim(*ylim)\n",
    "    plt.xlabel(\"Training examples\")\n",
    "    plt.ylabel(\"AUC\")\n",
    "    train_sizes, train_scores, test_scores = learning_curve(\n",
    "        estimator, X, y, cv=cv, n_jobs=n_jobs, train_sizes=train_sizes, scoring = 'roc_auc')\n",
    "    train_scores_mean = np.mean(train_scores, axis=1)\n",
    "    train_scores_std = np.std(train_scores, axis=1)\n",
    "    test_scores_mean = np.mean(test_scores, axis=1)\n",
    "    test_scores_std = np.std(test_scores, axis=1)\n",
    "    plt.grid()\n",
    "\n",
    "    plt.fill_between(train_sizes, train_scores_mean - train_scores_std,\n",
    "                     train_scores_mean + train_scores_std, alpha=0.1,\n",
    "                     color=\"r\")\n",
    "    plt.fill_between(train_sizes, test_scores_mean - test_scores_std,\n",
    "                     test_scores_mean + test_scores_std, alpha=0.1, color=\"b\")\n",
    "    plt.plot(train_sizes, train_scores_mean, 'o-', color=\"r\",\n",
    "             label=\"Training score\")\n",
    "    plt.plot(train_sizes, test_scores_mean, 'o-', color=\"b\",\n",
    "             label=\"Cross-validation score\")\n",
    "\n",
    "    plt.legend(loc=\"best\")\n",
    "    return plt"
   ]
  },
  {
   "cell_type": "code",
   "execution_count": 81,
   "metadata": {},
   "outputs": [
    {
     "data": {
      "image/png": "[encoded data removed]",
      "text/plain": [
       "<Figure size 432x288 with 1 Axes>"
      ]
     },
     "metadata": {},
     "output_type": "display_data"
    }
   ],
   "source": [
    "from sklearn.ensemble import RandomForestClassifier\n",
    "title = \"Learning Curves (Random Forest)\"\n",
    "# Cross validation with 5 iterations to get smoother mean test and train\n",
    "# score curves, each time with 20% data randomly selected as a validation set.\n",
    "cv = ShuffleSplit(n_splits=5, test_size=0.2, random_state=42)\n",
    "estimator = RandomForestClassifier(max_depth = 20, random_state = 42)\n",
    "plot_learning_curve(estimator, title, X_train_tf, y_train, ylim=(0.2, 1.01), cv=cv, n_jobs=4)\n",
    "\n",
    "plt.show()"
   ]
  },
  {
   "cell_type": "markdown",
   "metadata": {},
   "source": [
    "**Q32.Identify if your model has high variance or high bias. Briefly discuss what techniques could be used to improve performance of that model.**"
   ]
  },
  {
   "cell_type": "markdown",
   "metadata": {},
   "source": [
    "large difference between the training and validation scores: High variance <br>\n",
    "A sign of overfitting <br>\n",
    "\n",
    "Looking at the plot above My Model has High Variance than High Bias. <br>\n",
    "I Could reduce the High Bias in my model by adding\n",
    " - some new features, \n",
    " - increase the complexity of the model rather than having simple model.\n",
    " - We can also try Reducing Regularization and change model architecture to reduce underfitting.\n",
    " - I look into inspire new feature ideas and try to make my model complicated to decrease variance."
   ]
  },
  {
   "cell_type": "markdown",
   "metadata": {},
   "source": [
    "**Q33. Plot the feature importance for logistic regression and random forest models here.**"
   ]
  },
  {
   "cell_type": "code",
   "execution_count": 82,
   "metadata": {},
   "outputs": [
    {
     "data": {
      "image/png": "[encoded data removed]",
      "text/plain": [
       "<Figure size 432x288 with 1 Axes>"
      ]
     },
     "metadata": {},
     "output_type": "display_data"
    }
   ],
   "source": [
    "title = \"Learning Curves (Random Forest)\"\n",
    "# Cross validation with 5 iterations to get smoother mean test and train\n",
    "# score curves, each time with 20% data randomly selected as a validation set.\n",
    "cv = ShuffleSplit(n_splits=5, test_size=0.2, random_state=42)\n",
    "estimator = RandomForestClassifier(max_depth = 3, random_state = 42)\n",
    "plot_learning_curve(estimator, title, X_train_tf, y_train, ylim=(0.2, 1.01), cv=cv, n_jobs=4)\n",
    "\n",
    "plt.show()"
   ]
  },
  {
   "cell_type": "markdown",
   "metadata": {},
   "source": [
    "In the first graph plotted above we can see that there is some difference between training and validation scores compare to second one."
   ]
  },
  {
   "cell_type": "markdown",
   "metadata": {},
   "source": [
    "# Feature Importance: logistic regression"
   ]
  },
  {
   "cell_type": "code",
   "execution_count": 83,
   "metadata": {},
   "outputs": [
    {
     "data": {
      "text/plain": [
       "LogisticRegression(C=1.0, class_weight=None, dual=False, fit_intercept=True,\n",
       "          intercept_scaling=1, max_iter=100, multi_class='warn',\n",
       "          n_jobs=None, penalty='l2', random_state=42, solver='warn',\n",
       "          tol=0.0001, verbose=0, warm_start=False)"
      ]
     },
     "execution_count": 83,
     "metadata": {},
     "output_type": "execute_result"
    }
   ],
   "source": [
    "from sklearn.linear_model import LogisticRegression\n",
    "lr=LogisticRegression(random_state = 42)\n",
    "lr.fit(X_train_tf, y_train)"
   ]
  },
  {
   "cell_type": "code",
   "execution_count": 84,
   "metadata": {},
   "outputs": [],
   "source": [
    "feature_importances = pd.DataFrame(lr.coef_[0],\n",
    "                                   index = cols_input,\n",
    "                                    columns=['importance']).sort_values('importance',\n",
    "                                                                        ascending=False)"
   ]
  },
  {
   "cell_type": "code",
   "execution_count": 85,
   "metadata": {},
   "outputs": [
    {
     "data": {
      "text/html": [
       "<div>\n",
       "<style scoped>\n",
       "    .dataframe tbody tr th:only-of-type {\n",
       "        vertical-align: middle;\n",
       "    }\n",
       "\n",
       "    .dataframe tbody tr th {\n",
       "        vertical-align: top;\n",
       "    }\n",
       "\n",
       "    .dataframe thead th {\n",
       "        text-align: right;\n",
       "    }\n",
       "</style>\n",
       "<table border=\"1\" class=\"dataframe\">\n",
       "  <thead>\n",
       "    <tr style=\"text-align: right;\">\n",
       "      <th></th>\n",
       "      <th>importance</th>\n",
       "    </tr>\n",
       "  </thead>\n",
       "  <tbody>\n",
       "    <tr>\n",
       "      <th>International_Plan</th>\n",
       "      <td>0.860908</td>\n",
       "    </tr>\n",
       "    <tr>\n",
       "      <th>No_CS_Calls</th>\n",
       "      <td>0.809180</td>\n",
       "    </tr>\n",
       "    <tr>\n",
       "      <th>Total_Day_charge</th>\n",
       "      <td>0.367032</td>\n",
       "    </tr>\n",
       "    <tr>\n",
       "      <th>Total_Day_minutes</th>\n",
       "      <td>0.364059</td>\n",
       "    </tr>\n",
       "    <tr>\n",
       "      <th>Total_Eve_Minutes</th>\n",
       "      <td>0.164832</td>\n",
       "    </tr>\n",
       "  </tbody>\n",
       "</table>\n",
       "</div>"
      ],
      "text/plain": [
       "                    importance\n",
       "International_Plan    0.860908\n",
       "No_CS_Calls           0.809180\n",
       "Total_Day_charge      0.367032\n",
       "Total_Day_minutes     0.364059\n",
       "Total_Eve_Minutes     0.164832"
      ]
     },
     "execution_count": 85,
     "metadata": {},
     "output_type": "execute_result"
    }
   ],
   "source": [
    "feature_importances.head()"
   ]
  },
  {
   "cell_type": "markdown",
   "metadata": {},
   "source": [
    "Looking at the output of the results from Logistic Regression "
   ]
  },
  {
   "cell_type": "markdown",
   "metadata": {},
   "source": [
    "For logistic regression,<br>\n",
    "\n",
    "the variables with highest positive coefficients are predictive of Churn <br>\n",
    "and the variables with highest negative coefficients are predictive of not being Churn. "
   ]
  },
  {
   "cell_type": "code",
   "execution_count": 86,
   "metadata": {
    "scrolled": false
   },
   "outputs": [
    {
     "data": {
      "image/png": "[encoded data removed]",
      "text/plain": [
       "<Figure size 640x1200 with 1 Axes>"
      ]
     },
     "metadata": {},
     "output_type": "display_data"
    }
   ],
   "source": [
    "# We can plot the top 50 for each direction below.\n",
    "# Note that if you don't have a lot of features, this may show the negative coefficients too.\n",
    "\n",
    "num = np.min([50, len(cols_input)])\n",
    "ylocs = np.arange(num)\n",
    "# get the feature importance for top num and sort in reverse order\n",
    "values_to_plot = feature_importances.iloc[:num].values.ravel()[::-1]\n",
    "feature_labels = list(feature_importances.iloc[:num].index)[::-1]\n",
    "\n",
    "plt.figure(num=None, figsize=(8, 15), dpi=80, facecolor='w', edgecolor='k');\n",
    "plt.barh(ylocs, values_to_plot, align = 'center')\n",
    "plt.ylabel('Features')\n",
    "plt.xlabel('Importance Score')\n",
    "plt.title('Positive Feature Importance Score - Logistic Regression')\n",
    "plt.yticks(ylocs, feature_labels)\n",
    "plt.show()"
   ]
  },
  {
   "cell_type": "code",
   "execution_count": 87,
   "metadata": {},
   "outputs": [
    {
     "data": {
      "image/png": "[encoded data removed]",
      "text/plain": [
       "<Figure size 640x1200 with 1 Axes>"
      ]
     },
     "metadata": {},
     "output_type": "display_data"
    }
   ],
   "source": [
    "values_to_plot = feature_importances.iloc[-num:].values.ravel()\n",
    "feature_labels = list(feature_importances.iloc[-num:].index)\n",
    "\n",
    "plt.figure(num=None, figsize=(8, 15), dpi=80, facecolor='w', edgecolor='k');\n",
    "plt.barh(ylocs, values_to_plot, align = 'center')\n",
    "plt.ylabel('Features')\n",
    "plt.xlabel('Importance Score')\n",
    "plt.title('Negative Feature Importance Score - Logistic Regression')\n",
    "plt.yticks(ylocs, feature_labels)\n",
    "plt.show()"
   ]
  },
  {
   "cell_type": "markdown",
   "metadata": {},
   "source": [
    "# Model Selection: random forest"
   ]
  },
  {
   "cell_type": "markdown",
   "metadata": {},
   "source": [
    "<font size=\"3\"> \n",
    "<div class=\"alert alert-block alert-success\">\n",
    "    \n",
    "To select the Model using the Random Forest we can do more investigation on our Random Forest or Alternative gradient Bossting Feature Selection. <br><br>\n",
    "\n",
    "Feature importance always is a good indication of how we split our datasets. <br><br>\n",
    "\n",
    "It shows us Corelation with both positive and negative class as we have seen above when we plot all our 16 variables. It is very helpful in making decision.<br><br>\n",
    "\n",
    "</div>\n",
    "     </font>  "
   ]
  },
  {
   "cell_type": "code",
   "execution_count": 88,
   "metadata": {},
   "outputs": [
    {
     "data": {
      "text/plain": [
       "RandomForestClassifier(bootstrap=True, class_weight=None, criterion='gini',\n",
       "            max_depth=6, max_features='auto', max_leaf_nodes=None,\n",
       "            min_impurity_decrease=0.0, min_impurity_split=None,\n",
       "            min_samples_leaf=1, min_samples_split=2,\n",
       "            min_weight_fraction_leaf=0.0, n_estimators=10, n_jobs=None,\n",
       "            oob_score=False, random_state=42, verbose=0, warm_start=False)"
      ]
     },
     "execution_count": 88,
     "metadata": {},
     "output_type": "execute_result"
    }
   ],
   "source": [
    "from sklearn.ensemble import RandomForestClassifier\n",
    "rf=RandomForestClassifier(max_depth = 6, random_state = 42)\n",
    "rf.fit(X_train_tf, y_train)"
   ]
  },
  {
   "cell_type": "code",
   "execution_count": 89,
   "metadata": {},
   "outputs": [
    {
     "data": {
      "text/html": [
       "<div>\n",
       "<style scoped>\n",
       "    .dataframe tbody tr th:only-of-type {\n",
       "        vertical-align: middle;\n",
       "    }\n",
       "\n",
       "    .dataframe tbody tr th {\n",
       "        vertical-align: top;\n",
       "    }\n",
       "\n",
       "    .dataframe thead th {\n",
       "        text-align: right;\n",
       "    }\n",
       "</style>\n",
       "<table border=\"1\" class=\"dataframe\">\n",
       "  <thead>\n",
       "    <tr style=\"text-align: right;\">\n",
       "      <th></th>\n",
       "      <th>importance</th>\n",
       "    </tr>\n",
       "  </thead>\n",
       "  <tbody>\n",
       "    <tr>\n",
       "      <th>Total_Day_minutes</th>\n",
       "      <td>0.162931</td>\n",
       "    </tr>\n",
       "    <tr>\n",
       "      <th>No_CS_Calls</th>\n",
       "      <td>0.157510</td>\n",
       "    </tr>\n",
       "    <tr>\n",
       "      <th>Total_Day_charge</th>\n",
       "      <td>0.157331</td>\n",
       "    </tr>\n",
       "    <tr>\n",
       "      <th>International_Plan</th>\n",
       "      <td>0.129995</td>\n",
       "    </tr>\n",
       "    <tr>\n",
       "      <th>Total_Eve_Charge</th>\n",
       "      <td>0.054223</td>\n",
       "    </tr>\n",
       "  </tbody>\n",
       "</table>\n",
       "</div>"
      ],
      "text/plain": [
       "                    importance\n",
       "Total_Day_minutes     0.162931\n",
       "No_CS_Calls           0.157510\n",
       "Total_Day_charge      0.157331\n",
       "International_Plan    0.129995\n",
       "Total_Eve_Charge      0.054223"
      ]
     },
     "execution_count": 89,
     "metadata": {},
     "output_type": "execute_result"
    }
   ],
   "source": [
    "feature_importances = pd.DataFrame(rf.feature_importances_,\n",
    "                                   index = cols_input,\n",
    "                                    columns=['importance']).sort_values('importance',\n",
    "                                                                        ascending=False)\n",
    "feature_importances.head()"
   ]
  },
  {
   "cell_type": "code",
   "execution_count": 90,
   "metadata": {},
   "outputs": [
    {
     "data": {
      "image/png": "[encoded data removed]",
      "text/plain": [
       "<Figure size 640x1200 with 1 Axes>"
      ]
     },
     "metadata": {},
     "output_type": "display_data"
    }
   ],
   "source": [
    "num = np.min([50, len(cols_input)])\n",
    "ylocs = np.arange(num)\n",
    "# get the feature importance for top num and sort in reverse order\n",
    "values_to_plot = feature_importances.iloc[:num].values.ravel()[::-1]\n",
    "feature_labels = list(feature_importances.iloc[:num].index)[::-1]\n",
    "\n",
    "plt.figure(num=None, figsize=(8, 15), dpi=80, facecolor='w', edgecolor='k');\n",
    "plt.barh(ylocs, values_to_plot, align = 'center')\n",
    "plt.ylabel('Features')\n",
    "plt.xlabel('Importance Score')\n",
    "plt.title('Feature Importance Score - Random Forest')\n",
    "plt.yticks(ylocs, feature_labels)\n",
    "plt.show()"
   ]
  },
  {
   "cell_type": "markdown",
   "metadata": {},
   "source": [
    "<font size=\"3\"> \n",
    "<div class=\"alert alert-block alert-success\">\n",
    "    \n",
    "As I look to add more datasets I was limited to add features as the background about the datasets is limited.<br><br>\n",
    "The following datasets is subset of some big datasets which the information is limited. <br><br>\n",
    "\n",
    "- If we have high variance, We should reduce the number of variables to minimize overfitting.<br><br>\n",
    "- Adjust N <br><br>\n",
    "- use the top N positive and negative features. <br><br> \n",
    "- even top N important random forest features.<br><br>\n",
    "- PCA (principle component analysis could be helpful.<br><br>\n",
    "- Data leakage in cleaning process.(letting Machine to artifically cheat)<br><br>\n",
    "\n",
    "</div>\n",
    "     </font>  "
   ]
  },
  {
   "cell_type": "markdown",
   "metadata": {},
   "source": [
    "# Model Selection: Hyperparameter Tuning"
   ]
  },
  {
   "cell_type": "markdown",
   "metadata": {},
   "source": [
    "**Q35. Using your best baseline model, pick a hyperparameter and show its effect for a range of values (similar to what we did for the random forest and max_depths in the diabetes project.**"
   ]
  },
  {
   "cell_type": "markdown",
   "metadata": {},
   "source": [
    "<font size=\"3\"> \n",
    "<div class=\"alert alert-block alert-success\">\n",
    "- Hyperparameter Tuning is nothing but way to enhance our model by tweaking its parameter. <br><br>\n",
    "- Think as knob in your old Radio buttoms of your old grandma Car.<br><br>\n",
    "- Most of all Machine Learning models have basic components called hyper-parameters in it so that people like us tweak the model in and out to bosst that 0.01% prediction. <br><br>\n",
    "- Sometime it gets little better result when we are competing for third degree increase between models. To do this we have to optimal setting of many variables in right combinations.<br><br>\n",
    "- For example, what is the maximum depth for our random forest is hyperparameter tunning? <br><br>\n",
    "- Each of these hyperparameters can be optimized to improve the model.<br><br>\n",
    "- We can start with random number and once seen the output we can either decrease or increase these value to get good output of it.<br><br>\n",
    "- max_depth controls the depth of the tree in Random forest.<br><br>\n",
    "- Change the number of variables that are sampled at each split. \n",
    "- Use the AUC as the comparison metric.\n",
    "</div>\n",
    "     </font> "
   ]
  },
  {
   "cell_type": "code",
   "execution_count": 91,
   "metadata": {},
   "outputs": [],
   "source": [
    "# train a model for each max_depth in a list. Store the auc for the training and validation set\n",
    "\n",
    "# max depths\n",
    "max_depths = np.arange(2,20,2)\n",
    "\n",
    "train_aucs = np.zeros(len(max_depths))\n",
    "valid_aucs = np.zeros(len(max_depths))\n",
    "\n",
    "for jj in range(len(max_depths)):\n",
    "    max_depth = max_depths[jj]\n",
    "\n",
    "    # fit model\n",
    "    rf=RandomForestClassifier(n_estimators = 100, max_depth = max_depth, random_state = 42)\n",
    "    rf.fit(X_train_tf, y_train)        \n",
    "    # get predictions\n",
    "    y_train_preds = rf.predict_proba(X_train_tf)[:,1]\n",
    "    y_valid_preds = rf.predict_proba(X_valid_tf)[:,1]\n",
    "\n",
    "    # calculate auc\n",
    "    auc_train = roc_auc_score(y_train, y_train_preds)\n",
    "    auc_valid = roc_auc_score(y_valid, y_valid_preds)\n",
    "\n",
    "    # save aucs\n",
    "    train_aucs[jj] = auc_train\n",
    "    valid_aucs[jj] = auc_valid"
   ]
  },
  {
   "cell_type": "code",
   "execution_count": 92,
   "metadata": {},
   "outputs": [
    {
     "data": {
      "image/png": "[encoded data removed]",
      "text/plain": [
       "<Figure size 432x288 with 1 Axes>"
      ]
     },
     "metadata": {},
     "output_type": "display_data"
    }
   ],
   "source": [
    "import matplotlib.pyplot as plt\n",
    "\n",
    "plt.plot(max_depths, train_aucs,'o-',label = 'train')\n",
    "plt.plot(max_depths, valid_aucs,'o-',label = 'valid')\n",
    "\n",
    "plt.xlabel('max_depth')\n",
    "plt.ylabel('AUC')\n",
    "plt.legend()\n",
    "plt.show()"
   ]
  },
  {
   "cell_type": "markdown",
   "metadata": {},
   "source": [
    "We inccrease the max_depth to improve the training performance but as we can see it flattens out after reaching to certain max depth. We also know that there are many hyperparameteres for each model and we can fine tune some of these components to optimise it."
   ]
  },
  {
   "cell_type": "markdown",
   "metadata": {},
   "source": [
    "Let's create a grid over a few of these (see the scikit-learn website for the descriptions)."
   ]
  },
  {
   "cell_type": "code",
   "execution_count": 93,
   "metadata": {},
   "outputs": [
    {
     "name": "stdout",
     "output_type": "stream",
     "text": [
      "{'n_estimators': range(200, 1000, 200), 'max_features': ['auto', 'sqrt'], 'max_depth': range(2, 20, 2), 'min_samples_split': range(2, 10, 2), 'criterion': ['gini', 'entropy']}\n"
     ]
    }
   ],
   "source": [
    "from sklearn.model_selection import RandomizedSearchCV\n",
    "\n",
    "# number of trees\n",
    "n_estimators = range(200,1000,200)\n",
    "# maximum number of features to use at each split\n",
    "max_features = ['auto','sqrt']\n",
    "# maximum depth of the tree\n",
    "max_depth = range(2,20,2)\n",
    "# minimum number of samples to split a node\n",
    "min_samples_split = range(2,10,2)\n",
    "# criterion for evaluating a split\n",
    "criterion = ['gini','entropy']\n",
    "\n",
    "# random grid\n",
    "\n",
    "random_grid = {'n_estimators':n_estimators,\n",
    "              'max_features':max_features,\n",
    "              'max_depth':max_depth,\n",
    "              'min_samples_split':min_samples_split,\n",
    "              'criterion':criterion}\n",
    "\n",
    "print(random_grid)"
   ]
  },
  {
   "cell_type": "markdown",
   "metadata": {},
   "source": [
    "**Q 36. Using RandomizedSearchCV, optimize a few of your baseline models. Note that GradientBoosting Classifier may take a while so you might need to adjust the number of iterations or specific parameters. If this takes too long on your computer, feel free to take that one out.**"
   ]
  },
  {
   "cell_type": "markdown",
   "metadata": {},
   "source": [
    "To use the RandomizedSearchCV function, we need something to score or evaluate a set of hyperparameters. Here we will use the auc."
   ]
  },
  {
   "cell_type": "code",
   "execution_count": 94,
   "metadata": {},
   "outputs": [],
   "source": [
    "from sklearn.metrics import make_scorer, roc_auc_score\n",
    "auc_scoring = make_scorer(roc_auc_score)"
   ]
  },
  {
   "cell_type": "code",
   "execution_count": 95,
   "metadata": {},
   "outputs": [],
   "source": [
    "# create a baseline model\n",
    "rf = RandomForestClassifier()\n",
    "\n",
    "# create the randomized search cross-validation\n",
    "rf_random = RandomizedSearchCV(estimator = rf, param_distributions = random_grid, \n",
    "                               n_iter = 20, cv = 2, \n",
    "                               scoring=auc_scoring,verbose = 1, random_state = 42)"
   ]
  },
  {
   "cell_type": "markdown",
   "metadata": {},
   "source": [
    "Three important parameters of RandomizedSearchCV are scoring, n_iter and cross-validation.If we increase more n_iter and cv then \n",
    "we will have more run time and one benefit we will decrease the overfitting.\n",
    "By doing cross validation we wil get better estimate of our performance metrics. So lets keep that 2.\n"
   ]
  },
  {
   "cell_type": "code",
   "execution_count": 96,
   "metadata": {},
   "outputs": [
    {
     "name": "stdout",
     "output_type": "stream",
     "text": [
      "Fitting 2 folds for each of 20 candidates, totalling 40 fits\n"
     ]
    },
    {
     "name": "stderr",
     "output_type": "stream",
     "text": [
      "[Parallel(n_jobs=1)]: Using backend SequentialBackend with 1 concurrent workers.\n",
      "[Parallel(n_jobs=1)]: Done  40 out of  40 | elapsed:   31.5s finished\n"
     ]
    },
    {
     "name": "stdout",
     "output_type": "stream",
     "text": [
      "33.0925350189209\n"
     ]
    }
   ],
   "source": [
    "import time\n",
    "# fit the random search model (this will take a few minutes)\n",
    "t1 = time.time()\n",
    "rf_random.fit(X_train_tf, y_train)\n",
    "t2 = time.time()\n",
    "print(t2-t1)"
   ]
  },
  {
   "cell_type": "code",
   "execution_count": 97,
   "metadata": {},
   "outputs": [
    {
     "data": {
      "text/plain": [
       "{'criterion': 'gini',\n",
       " 'max_depth': 16,\n",
       " 'max_features': 'auto',\n",
       " 'min_samples_split': 6,\n",
       " 'n_estimators': 600}"
      ]
     },
     "execution_count": 97,
     "metadata": {},
     "output_type": "execute_result"
    }
   ],
   "source": [
    "rf_random.best_params_"
   ]
  },
  {
   "cell_type": "code",
   "execution_count": 122,
   "metadata": {},
   "outputs": [
    {
     "name": "stdout",
     "output_type": "stream",
     "text": [
      "Baseline Random Forest\n",
      "Training AUC:0.974\n",
      "Validation AUC:0.896\n",
      "Optimized Random Forest\n",
      "Training AUC:1.000\n",
      "Validation AUC:0.903\n"
     ]
    }
   ],
   "source": [
    "rf=RandomForestClassifier(max_depth = 6, random_state = 42)\n",
    "rf.fit(X_train_tf, y_train)\n",
    "\n",
    "y_train_preds = rf.predict_proba(X_train_tf)[:,1]\n",
    "y_valid_preds = rf.predict_proba(X_valid_tf)[:,1]\n",
    "\n",
    "thresh = 0.5\n",
    "\n",
    "print('Baseline Random Forest')\n",
    "rf_train_base_auc = roc_auc_score(y_train, y_train_preds)\n",
    "rf_valid_base_auc = roc_auc_score(y_valid, y_valid_preds)\n",
    "\n",
    "print('Training AUC:%.3f'%(rf_train_base_auc))\n",
    "print('Validation AUC:%.3f'%(rf_valid_base_auc))\n",
    "\n",
    "print('Optimized Random Forest')\n",
    "y_train_preds_random = rf_random.best_estimator_.predict_proba(X_train_tf)[:,1]\n",
    "y_valid_preds_random = rf_random.best_estimator_.predict_proba(X_valid_tf)[:,1]\n",
    "\n",
    "rf_train_opt_auc = roc_auc_score(y_train, y_train_preds_random)\n",
    "rf_valid_opt_auc = roc_auc_score(y_valid, y_valid_preds_random)\n",
    "\n",
    "print('Training AUC:%.3f'%(rf_train_opt_auc))\n",
    "print('Validation AUC:%.3f'%(rf_valid_opt_auc))"
   ]
  },
  {
   "cell_type": "markdown",
   "metadata": {},
   "source": [
    "The Validataion AUC score didn't change much at all. So we will check some other models to look for."
   ]
  },
  {
   "cell_type": "markdown",
   "metadata": {},
   "source": [
    "# Optimized SGDClassifier"
   ]
  },
  {
   "cell_type": "code",
   "execution_count": 99,
   "metadata": {},
   "outputs": [
    {
     "data": {
      "text/plain": [
       "SGDClassifier(alpha=0.1, average=False, class_weight=None,\n",
       "       early_stopping=False, epsilon=0.1, eta0=0.0, fit_intercept=True,\n",
       "       l1_ratio=0.15, learning_rate='optimal', loss='log', max_iter=None,\n",
       "       n_iter=None, n_iter_no_change=5, n_jobs=None, penalty='l2',\n",
       "       power_t=0.5, random_state=42, shuffle=True, tol=None,\n",
       "       validation_fraction=0.1, verbose=0, warm_start=False)"
      ]
     },
     "execution_count": 99,
     "metadata": {},
     "output_type": "execute_result"
    }
   ],
   "source": [
    "from sklearn.linear_model import SGDClassifier\n",
    "sgdc=SGDClassifier(loss = 'log',alpha = 0.1,random_state = 42)\n",
    "sgdc.fit(X_train_tf, y_train)"
   ]
  },
  {
   "cell_type": "code",
   "execution_count": 100,
   "metadata": {},
   "outputs": [
    {
     "name": "stdout",
     "output_type": "stream",
     "text": [
      "1.2415211200714111\n"
     ]
    }
   ],
   "source": [
    "penalty = ['none','l2','l1']\n",
    "max_iter = range(200,1000,200)\n",
    "alpha = [0.001,0.003,0.01,0.03,0.1,0.3]\n",
    "random_grid_sgdc = {'penalty':penalty,\n",
    "              'max_iter':max_iter,\n",
    "              'alpha':alpha}\n",
    "# create the randomized search cross-validation\n",
    "sgdc_random = RandomizedSearchCV(estimator = sgdc, param_distributions = random_grid_sgdc, n_iter = 20, cv = 2, scoring=auc_scoring,verbose = 0, random_state = 42)\n",
    "\n",
    "t1 = time.time()\n",
    "sgdc_random.fit(X_train_tf, y_train)\n",
    "t2 = time.time()\n",
    "print(t2-t1)"
   ]
  },
  {
   "cell_type": "code",
   "execution_count": 101,
   "metadata": {},
   "outputs": [
    {
     "data": {
      "text/plain": [
       "{'alpha': 0.001, 'max_iter': 200, 'penalty': 'none'}"
      ]
     },
     "execution_count": 101,
     "metadata": {},
     "output_type": "execute_result"
    }
   ],
   "source": [
    "sgdc_random.best_params_"
   ]
  },
  {
   "cell_type": "code",
   "execution_count": 102,
   "metadata": {},
   "outputs": [
    {
     "name": "stdout",
     "output_type": "stream",
     "text": [
      "Baseline sgdc\n",
      "Training AUC:0.840\n",
      "Validation AUC:0.800\n",
      "Optimized sgdc\n",
      "Training AUC:0.843\n",
      "Validation AUC:0.799\n"
     ]
    }
   ],
   "source": [
    "y_train_preds = sgdc.predict_proba(X_train_tf)[:,1]\n",
    "y_valid_preds = sgdc.predict_proba(X_valid_tf)[:,1]\n",
    "\n",
    "thresh = 0.5\n",
    "\n",
    "print('Baseline sgdc')\n",
    "sgdc_train_base_auc = roc_auc_score(y_train, y_train_preds)\n",
    "sgdc_valid_base_auc = roc_auc_score(y_valid, y_valid_preds)\n",
    "\n",
    "print('Training AUC:%.3f'%(sgdc_train_base_auc))\n",
    "print('Validation AUC:%.3f'%(sgdc_valid_base_auc))\n",
    "\n",
    "print('Optimized sgdc')\n",
    "y_train_preds_random = sgdc_random.best_estimator_.predict_proba(X_train_tf)[:,1]\n",
    "y_valid_preds_random = sgdc_random.best_estimator_.predict_proba(X_valid_tf)[:,1]\n",
    "sgdc_train_opt_auc = roc_auc_score(y_train, y_train_preds_random)\n",
    "sgdc_valid_opt_auc = roc_auc_score(y_valid, y_valid_preds_random)\n",
    "\n",
    "print('Training AUC:%.3f'%(sgdc_train_opt_auc))\n",
    "print('Validation AUC:%.3f'%(sgdc_valid_opt_auc))"
   ]
  },
  {
   "cell_type": "markdown",
   "metadata": {},
   "source": [
    "# Optimize Gradient Boosting Tree Classifier"
   ]
  },
  {
   "cell_type": "code",
   "execution_count": 103,
   "metadata": {},
   "outputs": [
    {
     "data": {
      "text/plain": [
       "GradientBoostingClassifier(criterion='friedman_mse', init=None,\n",
       "              learning_rate=1.0, loss='deviance', max_depth=3,\n",
       "              max_features=None, max_leaf_nodes=None,\n",
       "              min_impurity_decrease=0.0, min_impurity_split=None,\n",
       "              min_samples_leaf=1, min_samples_split=2,\n",
       "              min_weight_fraction_leaf=0.0, n_estimators=100,\n",
       "              n_iter_no_change=None, presort='auto', random_state=42,\n",
       "              subsample=1.0, tol=0.0001, validation_fraction=0.1,\n",
       "              verbose=0, warm_start=False)"
      ]
     },
     "execution_count": 103,
     "metadata": {},
     "output_type": "execute_result"
    }
   ],
   "source": [
    "from sklearn.ensemble import GradientBoostingClassifier\n",
    "gbc =GradientBoostingClassifier(n_estimators=100, learning_rate=1.0,\n",
    "     max_depth=3, random_state=42)\n",
    "gbc.fit(X_train_tf, y_train)"
   ]
  },
  {
   "cell_type": "code",
   "execution_count": 104,
   "metadata": {},
   "outputs": [
    {
     "name": "stdout",
     "output_type": "stream",
     "text": [
      "5.249337673187256\n"
     ]
    }
   ],
   "source": [
    "# number of trees\n",
    "n_estimators = range(50,200,50)\n",
    "\n",
    "# maximum depth of the tree\n",
    "max_depth = range(1,5,1)\n",
    "\n",
    "# learning rate\n",
    "learning_rate = [0.001,0.01,0.1]\n",
    "\n",
    "# random grid\n",
    "\n",
    "random_grid_gbc = {'n_estimators':n_estimators,\n",
    "              'max_depth':max_depth,\n",
    "              'learning_rate':learning_rate}\n",
    "\n",
    "# create the randomized search cross-validation\n",
    "gbc_random = RandomizedSearchCV(estimator = gbc, param_distributions = random_grid_gbc, n_iter = 20, cv = 2, scoring=auc_scoring,verbose = 0, random_state = 42)\n",
    "\n",
    "t1 = time.time()\n",
    "gbc_random.fit(X_train_tf, y_train)\n",
    "t2 = time.time()\n",
    "print(t2-t1)"
   ]
  },
  {
   "cell_type": "code",
   "execution_count": 105,
   "metadata": {},
   "outputs": [
    {
     "data": {
      "text/plain": [
       "{'learning_rate': 0.1, 'max_depth': 3, 'n_estimators': 100}"
      ]
     },
     "execution_count": 105,
     "metadata": {},
     "output_type": "execute_result"
    }
   ],
   "source": [
    "gbc_random.best_params_"
   ]
  },
  {
   "cell_type": "code",
   "execution_count": 106,
   "metadata": {},
   "outputs": [
    {
     "name": "stdout",
     "output_type": "stream",
     "text": [
      "Baseline gbc\n",
      "Training AUC:1.000\n",
      "Validation AUC:0.885\n",
      "Optimized gbc\n",
      "Training AUC:0.990\n",
      "Validation AUC:0.892\n"
     ]
    }
   ],
   "source": [
    "y_train_preds = gbc.predict_proba(X_train_tf)[:,1]\n",
    "y_valid_preds = gbc.predict_proba(X_valid_tf)[:,1]\n",
    "\n",
    "thresh = 0.5\n",
    "\n",
    "print('Baseline gbc')\n",
    "gbc_train_base_auc = roc_auc_score(y_train, y_train_preds)\n",
    "gbc_valid_base_auc = roc_auc_score(y_valid, y_valid_preds)\n",
    "\n",
    "print('Training AUC:%.3f'%(gbc_train_base_auc))\n",
    "print('Validation AUC:%.3f'%(gbc_valid_base_auc))\n",
    "print('Optimized gbc')\n",
    "y_train_preds_random = gbc_random.best_estimator_.predict_proba(X_train_tf)[:,1]\n",
    "y_valid_preds_random = gbc_random.best_estimator_.predict_proba(X_valid_tf)[:,1]\n",
    "gbc_train_opt_auc = roc_auc_score(y_train, y_train_preds_random)\n",
    "gbc_valid_opt_auc = roc_auc_score(y_valid, y_valid_preds_random)\n",
    "\n",
    "print('Training AUC:%.3f'%(gbc_train_opt_auc))\n",
    "print('Validation AUC:%.3f'%(gbc_valid_opt_auc))"
   ]
  },
  {
   "cell_type": "markdown",
   "metadata": {},
   "source": [
    "# Model Selection: analyze optimization results"
   ]
  },
  {
   "cell_type": "code",
   "execution_count": 107,
   "metadata": {},
   "outputs": [],
   "source": [
    "df_results = pd.DataFrame({'classifier':['SGD','SGD','RF','RF','GB','GB'],\n",
    "                           'data_set':['baseline','optimized']*3,\n",
    "                          'auc':[sgdc_valid_base_auc,sgdc_valid_opt_auc,\n",
    "                                 rf_valid_base_auc,rf_valid_opt_auc,\n",
    "                                 gbc_valid_base_auc,gbc_valid_opt_auc],\n",
    "                          })"
   ]
  },
  {
   "cell_type": "code",
   "execution_count": 108,
   "metadata": {},
   "outputs": [
    {
     "data": {
      "text/html": [
       "<div>\n",
       "<style scoped>\n",
       "    .dataframe tbody tr th:only-of-type {\n",
       "        vertical-align: middle;\n",
       "    }\n",
       "\n",
       "    .dataframe tbody tr th {\n",
       "        vertical-align: top;\n",
       "    }\n",
       "\n",
       "    .dataframe thead th {\n",
       "        text-align: right;\n",
       "    }\n",
       "</style>\n",
       "<table border=\"1\" class=\"dataframe\">\n",
       "  <thead>\n",
       "    <tr style=\"text-align: right;\">\n",
       "      <th></th>\n",
       "      <th>classifier</th>\n",
       "      <th>data_set</th>\n",
       "      <th>auc</th>\n",
       "    </tr>\n",
       "  </thead>\n",
       "  <tbody>\n",
       "    <tr>\n",
       "      <th>0</th>\n",
       "      <td>SGD</td>\n",
       "      <td>baseline</td>\n",
       "      <td>0.799850</td>\n",
       "    </tr>\n",
       "    <tr>\n",
       "      <th>1</th>\n",
       "      <td>SGD</td>\n",
       "      <td>optimized</td>\n",
       "      <td>0.798986</td>\n",
       "    </tr>\n",
       "    <tr>\n",
       "      <th>2</th>\n",
       "      <td>RF</td>\n",
       "      <td>baseline</td>\n",
       "      <td>0.895939</td>\n",
       "    </tr>\n",
       "    <tr>\n",
       "      <th>3</th>\n",
       "      <td>RF</td>\n",
       "      <td>optimized</td>\n",
       "      <td>0.902598</td>\n",
       "    </tr>\n",
       "    <tr>\n",
       "      <th>4</th>\n",
       "      <td>GB</td>\n",
       "      <td>baseline</td>\n",
       "      <td>0.884781</td>\n",
       "    </tr>\n",
       "    <tr>\n",
       "      <th>5</th>\n",
       "      <td>GB</td>\n",
       "      <td>optimized</td>\n",
       "      <td>0.892329</td>\n",
       "    </tr>\n",
       "  </tbody>\n",
       "</table>\n",
       "</div>"
      ],
      "text/plain": [
       "  classifier   data_set       auc\n",
       "0        SGD   baseline  0.799850\n",
       "1        SGD  optimized  0.798986\n",
       "2         RF   baseline  0.895939\n",
       "3         RF  optimized  0.902598\n",
       "4         GB   baseline  0.884781\n",
       "5         GB  optimized  0.892329"
      ]
     },
     "execution_count": 108,
     "metadata": {},
     "output_type": "execute_result"
    }
   ],
   "source": [
    "df_results"
   ]
  },
  {
   "cell_type": "markdown",
   "metadata": {},
   "source": [
    "**Q38.Make a plot comparing the performance of the optimized models to the baseline models.**"
   ]
  },
  {
   "cell_type": "code",
   "execution_count": 109,
   "metadata": {},
   "outputs": [
    {
     "data": {
      "image/png": "[encoded data removed]",
      "text/plain": [
       "<Figure size 432x288 with 1 Axes>"
      ]
     },
     "metadata": {},
     "output_type": "display_data"
    }
   ],
   "source": [
    "import seaborn as sns\n",
    "import matplotlib.pyplot as plt\n",
    "sns.set(style=\"darkgrid\")\n",
    "\n",
    "ax = sns.barplot(x=\"classifier\", y=\"auc\", hue=\"data_set\", data=df_results)\n",
    "ax.set_xlabel('Classifier',fontsize = 15)\n",
    "ax.set_ylabel('AUC', fontsize = 15)\n",
    "ax.tick_params(labelsize=15)\n",
    "# Put the legend out of the figure\n",
    "plt.legend(bbox_to_anchor=(1.05, 1), loc=2, borderaxespad=0., fontsize = 15)\n",
    "\n",
    "plt.show()"
   ]
  },
  {
   "cell_type": "markdown",
   "metadata": {},
   "source": [
    "# Pick your best model"
   ]
  },
  {
   "cell_type": "markdown",
   "metadata": {},
   "source": [
    "**Q39. Pick your best model. Explain why you picked it. Save the model using pickle.**"
   ]
  },
  {
   "cell_type": "markdown",
   "metadata": {},
   "source": [
    "<font size=\"3\"> \n",
    "<div class=\"alert alert-block alert-success\">\n",
    "    \n",
    "- I have picked Random Forest as Best Model and below we are saving it using pickle dump. <br><br>\n",
    "- The choice of Picking the Random Forest was because of the better AUC Score than rest of the models. <br><br>\n",
    "- Also GB has more AUC score it seems like GB was overfitting my training data and doing poor on validation datasets. <br><br>\n",
    "- I had no confidence that it might do well in Test Sets. <br><br>\n",
    "- So I chose Random Forest than SGD and GB. Also becuase of better AUC Score. <br><br>\n",
    "\n",
    "**Looking at some other Parameters to make me choose Random Forests:** <br><br>\n",
    "- Gradient Boosting model shows the training score is perfectly good.<br><br>\n",
    "- Large difference between the training and validation scores. <br><br>\n",
    "- Sign of overfitting.<br><br>\n",
    "- The model has a high variance. <br><br>\n",
    "- Not possible to add more samples. <br><br>\n",
    "-  Hence, I consider RF with optimized hyperparameter is my best model here.<br><br>\n",
    "\n",
    "</div>\n",
    "     </font> "
   ]
  },
  {
   "cell_type": "code",
   "execution_count": 110,
   "metadata": {},
   "outputs": [],
   "source": [
    "pickle.dump(sgdc_random.best_estimator_, open('best_classifier.pkl', 'wb'),protocol = 4)"
   ]
  },
  {
   "cell_type": "markdown",
   "metadata": {},
   "source": [
    "# Model Evaluation"
   ]
  },
  {
   "cell_type": "code",
   "execution_count": 111,
   "metadata": {},
   "outputs": [],
   "source": [
    "import pandas as pd\n",
    "import numpy as np\n",
    "import matplotlib.pyplot as plt\n",
    "import pickle"
   ]
  },
  {
   "cell_type": "code",
   "execution_count": 112,
   "metadata": {},
   "outputs": [],
   "source": [
    "# load the model, columns, mean values, and scaler\n",
    "best_model = pickle.load(open('best_classifier.pkl','rb'))\n",
    "cols_input = pickle.load(open('cols_input.sav','rb'))\n",
    "df_mean_in = pd.read_csv('df_mean.csv', names =['col','mean_val'])\n",
    "scaler = pickle.load(open('scaler.sav', 'rb'))\n"
   ]
  },
  {
   "cell_type": "code",
   "execution_count": 113,
   "metadata": {},
   "outputs": [],
   "source": [
    "# load the data\n",
    "df_train = pd.read_csv('df_train.csv')\n",
    "df_valid= pd.read_csv('df_valid.csv')\n",
    "df_test= pd.read_csv('df_test.csv')"
   ]
  },
  {
   "cell_type": "code",
   "execution_count": 114,
   "metadata": {},
   "outputs": [],
   "source": [
    "# fill missing\n",
    "df_train = fill_my_missing(df_train, df_mean_in, cols_input)\n",
    "df_valid = fill_my_missing(df_valid, df_mean_in, cols_input)\n",
    "df_test = fill_my_missing(df_test, df_mean_in, cols_input)\n",
    "\n",
    "# create X and y matrices\n",
    "X_train = df_train[cols_input].values\n",
    "X_valid = df_valid[cols_input].values\n",
    "X_test = df_test[cols_input].values\n",
    "\n",
    "y_train = df_train['OUTPUT_LABEL'].values\n",
    "y_valid = df_valid['OUTPUT_LABEL'].values\n",
    "y_test = df_test['OUTPUT_LABEL'].values\n",
    "\n",
    "# transform our data matrices \n",
    "X_train_tf = scaler.transform(X_train)\n",
    "X_valid_tf = scaler.transform(X_valid)\n",
    "X_test_tf = scaler.transform(X_test)"
   ]
  },
  {
   "cell_type": "markdown",
   "metadata": {},
   "source": [
    "#### Calculate prediction probabilities"
   ]
  },
  {
   "cell_type": "code",
   "execution_count": 115,
   "metadata": {},
   "outputs": [],
   "source": [
    "y_train_preds = best_model.predict_proba(X_train_tf)[:,1]\n",
    "y_valid_preds = best_model.predict_proba(X_valid_tf)[:,1]\n",
    "y_test_preds = best_model.predict_proba(X_test_tf)[:,1]"
   ]
  },
  {
   "cell_type": "markdown",
   "metadata": {},
   "source": [
    "#### Evaluate the Performance"
   ]
  },
  {
   "cell_type": "code",
   "execution_count": 116,
   "metadata": {},
   "outputs": [
    {
     "name": "stdout",
     "output_type": "stream",
     "text": [
      "Training:\n",
      "AUC:0.843\n",
      "accuracy:0.776\n",
      "recall:0.762\n",
      "precision:0.784\n",
      "specificity:0.790\n",
      "prevalence:0.500\n",
      " \n",
      "Validation:\n",
      "AUC:0.799\n",
      "accuracy:0.776\n",
      "recall:0.740\n",
      "precision:0.336\n",
      "specificity:0.781\n",
      "prevalence:0.131\n",
      " \n",
      "Test:\n",
      "AUC:0.832\n",
      "accuracy:0.803\n",
      "recall:0.746\n",
      "precision:0.386\n",
      "specificity:0.812\n",
      "prevalence:0.137\n",
      " \n"
     ]
    }
   ],
   "source": [
    "thresh = 0.5\n",
    "\n",
    "print('Training:')\n",
    "train_auc, train_accuracy, train_recall, train_precision, train_specificity = print_report(y_train,y_train_preds, thresh)\n",
    "print('Validation:')\n",
    "valid_auc, valid_accuracy, valid_recall, valid_precision, valid_specificity = print_report(y_valid,y_valid_preds, thresh)\n",
    "print('Test:')\n",
    "test_auc, test_accuracy, test_recall, test_precision, test_specificity = print_report(y_test,y_test_preds, thresh)"
   ]
  },
  {
   "cell_type": "markdown",
   "metadata": {},
   "source": [
    "Plot the ROC curve"
   ]
  },
  {
   "cell_type": "markdown",
   "metadata": {},
   "source": [
    "**Q40. evaluate the performance of your best model on the training, validation and test sets. Make an ROC curve too.**"
   ]
  },
  {
   "cell_type": "code",
   "execution_count": 117,
   "metadata": {},
   "outputs": [
    {
     "data": {
      "image/png": "[encoded data removed]",
      "text/plain": [
       "<Figure size 432x288 with 1 Axes>"
      ]
     },
     "metadata": {},
     "output_type": "display_data"
    }
   ],
   "source": [
    "from sklearn.metrics import roc_curve \n",
    "\n",
    "fpr_train, tpr_train, thresholds_train = roc_curve(y_train, y_train_preds)\n",
    "auc_train = roc_auc_score(y_train, y_train_preds)\n",
    "\n",
    "fpr_valid, tpr_valid, thresholds_valid = roc_curve(y_valid, y_valid_preds)\n",
    "auc_valid = roc_auc_score(y_valid, y_valid_preds)\n",
    "\n",
    "fpr_test, tpr_test, thresholds_test = roc_curve(y_test, y_test_preds)\n",
    "auc_test = roc_auc_score(y_test, y_test_preds)\n",
    "\n",
    "plt.plot(fpr_train, tpr_train, 'r-',label ='Train AUC:%.3f'%auc_train)\n",
    "plt.plot(fpr_valid, tpr_valid, 'b-',label ='Valid AUC:%.3f'%auc_valid)\n",
    "plt.plot(fpr_test, tpr_test, 'g-',label ='Test AUC:%.3f'%auc_test)\n",
    "plt.plot([0,1],[0,1],'k--')\n",
    "plt.xlabel('False Positive Rate')\n",
    "plt.ylabel('True Positive Rate')\n",
    "plt.legend()\n",
    "plt.show()"
   ]
  },
  {
   "cell_type": "markdown",
   "metadata": {},
   "source": [
    "ROC curve helps to determine True Positive Rate(TPR) vs the False Positive Rate(FPR)."
   ]
  },
  {
   "cell_type": "markdown",
   "metadata": {},
   "source": [
    "# Conclusion"
   ]
  },
  {
   "cell_type": "markdown",
   "metadata": {},
   "source": [
    "** Q41.Briefly summarize your project and describe your performance as if you were talking to a CEO.**"
   ]
  },
  {
   "cell_type": "markdown",
   "metadata": {},
   "source": [
    "<font size=\"3\"> \n",
    "<div class=\"alert alert-block alert-success\">\n",
    "    \n",
    "    \n",
    "I began this whole Project by looking Telecom Datasets with the intent of finding necessary relationship and info about different varaiables so that we can Predict the Churn even before it happens. The Key findings and the best Model was Random Forest. Below I have mentioned Why choosing Random Forest is better for this given Datasets given the condition and results. <br><br>\n",
    "    \n",
    "**How does the Random Forest model Works? and Why Its better Model than Any other Model for Predicting Customer Churn Analysis** <br><br>\n",
    "\n",
    "- Random Forest model are better to reduce high variance which tend to overfit by averaging many trees.<br><br>\n",
    "- It might produce little bias because of that but overall it reduces high variance.\n",
    "\n",
    "- In Random Forest Model instead of using only one tree, it will use many trees(forests) with different variable options to make our new model. <br><br>\n",
    "\n",
    "- Then for each observation that it encounters from each node, it choose their category by taking the majority vote of different trees.<br><br>\n",
    "\n",
    "- Based on my observation of data and results it would have been lot easier to interpret linear classifier than non linear models. The biggest disadvantage of being linear would be to have high bias towards fitting non linear model. <br><br>\n",
    "\n",
    "- One of the advantage of Random Forest was it can work with highly corelated features. It can deal with non-linearrties much better than logistic Regression. <br><br>\n",
    "\n",
    "- **Sesntivity (Measure of True Positive Rate(TPR) or Recall (TP/(TP+FN)): 74% which states that Random Forest Model is 74% accurate in identifying True Positives. That means with this model we can predcit 74% of time who will Churn before hand with current features.** <br><br>\n",
    "\n",
    "- If you see the ROC curve we can say that it is doing far better than random guessing. <br><br>\n",
    "\n",
    "- Lets Look at AUC which is 0.832 which is much better than our baseline model 0.5 <br><br>\n",
    "\n",
    "- To make prediction it uses multiple decission trees which is more effective than single decission tree.<br><br>\n",
    "- The data with low bias and high variance (non-linear relationships) can be handled properly and efficiently.<br><br>\n",
    "\n",
    "\n",
    "</div>\n",
    "     </font> \n",
    "\n"
   ]
  },
  {
   "cell_type": "code",
   "execution_count": 118,
   "metadata": {},
   "outputs": [
    {
     "data": {
      "text/markdown": [
       "Senstivity (Measure of True Positive Rate(TPR) or Recall (TP/(TP+FN)):<span style=\"color: #ff0000\">74% which states that Random Forest Model is 74% accurate in identifying True Positives. That means with this model we can predcit 74% of time who will Churn before hand with current features.</span>"
      ],
      "text/plain": [
       "<IPython.core.display.Markdown object>"
      ]
     },
     "metadata": {},
     "output_type": "display_data"
    }
   ],
   "source": [
    "display (Markdown('Senstivity (Measure of True Positive Rate(TPR) or Recall (TP/(TP+FN)):<span style=\"color: #ff0000\">74% which states that Random Forest Model is 74% accurate in identifying True Positives. That means with this model we can predcit 74% of time who will Churn before hand with current features.</span>'))"
   ]
  },
  {
   "cell_type": "code",
   "execution_count": null,
   "metadata": {},
   "outputs": [],
   "source": []
  }
 ],
 "metadata": {
  "kernelspec": {
   "display_name": "Python 3",
   "language": "python",
   "name": "python3"
  },
  "language_info": {
   "codemirror_mode": {
    "name": "ipython",
    "version": 3
   },
   "file_extension": ".py",
   "mimetype": "text/x-python",
   "name": "python",
   "nbconvert_exporter": "python",
   "pygments_lexer": "ipython3",
   "version": "3.6.2"
  }
 },
 "nbformat": 4,
 "nbformat_minor": 2
}
